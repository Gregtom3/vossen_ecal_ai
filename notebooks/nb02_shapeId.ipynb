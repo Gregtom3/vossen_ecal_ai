{
  "nbformat": 4,
  "nbformat_minor": 0,
  "metadata": {
    "colab": {
      "provenance": [],
      "toc_visible": true,
      "authorship_tag": "ABX9TyNFDKoRXN9I5wecRbDCzLsI",
      "include_colab_link": true
    },
    "kernelspec": {
      "name": "python3",
      "display_name": "Python 3"
    },
    "language_info": {
      "name": "python"
    },
    "widgets": {
      "application/vnd.jupyter.widget-state+json": {
        "551e680c6efc4e52ad421c257ccb77c5": {
          "model_module": "@jupyter-widgets/controls",
          "model_name": "VBoxModel",
          "model_module_version": "1.5.0",
          "state": {
            "_dom_classes": [
              "widget-interact"
            ],
            "_model_module": "@jupyter-widgets/controls",
            "_model_module_version": "1.5.0",
            "_model_name": "VBoxModel",
            "_view_count": null,
            "_view_module": "@jupyter-widgets/controls",
            "_view_module_version": "1.5.0",
            "_view_name": "VBoxView",
            "box_style": "",
            "children": [
              "IPY_MODEL_3954187e4d144ffbbde9f4b30c0cd7e4",
              "IPY_MODEL_42251297dacd4e9683adc1f0097e1de2",
              "IPY_MODEL_53ce9b0d7f6b47cd96de75fd62be2db2"
            ],
            "layout": "IPY_MODEL_340e5f15a24f42d6a1ae7e44d32693c6"
          }
        },
        "3954187e4d144ffbbde9f4b30c0cd7e4": {
          "model_module": "@jupyter-widgets/controls",
          "model_name": "IntSliderModel",
          "model_module_version": "1.5.0",
          "state": {
            "_dom_classes": [],
            "_model_module": "@jupyter-widgets/controls",
            "_model_module_version": "1.5.0",
            "_model_name": "IntSliderModel",
            "_view_count": null,
            "_view_module": "@jupyter-widgets/controls",
            "_view_module_version": "1.5.0",
            "_view_name": "IntSliderView",
            "continuous_update": true,
            "description": "Event Number:",
            "description_tooltip": null,
            "disabled": false,
            "layout": "IPY_MODEL_3b2d46ac2bdd4a2582ac8fb900545dc3",
            "max": 999,
            "min": 0,
            "orientation": "horizontal",
            "readout": true,
            "readout_format": "d",
            "step": 1,
            "style": "IPY_MODEL_2a946c56a3f54f04bca63f52066ed784",
            "value": 54
          }
        },
        "42251297dacd4e9683adc1f0097e1de2": {
          "model_module": "@jupyter-widgets/controls",
          "model_name": "DropdownModel",
          "model_module_version": "1.5.0",
          "state": {
            "_dom_classes": [],
            "_model_module": "@jupyter-widgets/controls",
            "_model_module_version": "1.5.0",
            "_model_name": "DropdownModel",
            "_options_labels": [
              "RGB",
              "X",
              "Y",
              "uid",
              "type"
            ],
            "_view_count": null,
            "_view_module": "@jupyter-widgets/controls",
            "_view_module_version": "1.5.0",
            "_view_name": "DropdownView",
            "description": "Plot Type:",
            "description_tooltip": null,
            "disabled": false,
            "index": 0,
            "layout": "IPY_MODEL_5703814de4fe44d5aa189b39178a01d1",
            "style": "IPY_MODEL_120f1585845741aa8f46e675b0de1af2"
          }
        },
        "53ce9b0d7f6b47cd96de75fd62be2db2": {
          "model_module": "@jupyter-widgets/output",
          "model_name": "OutputModel",
          "model_module_version": "1.0.0",
          "state": {
            "_dom_classes": [],
            "_model_module": "@jupyter-widgets/output",
            "_model_module_version": "1.0.0",
            "_model_name": "OutputModel",
            "_view_count": null,
            "_view_module": "@jupyter-widgets/output",
            "_view_module_version": "1.0.0",
            "_view_name": "OutputView",
            "layout": "IPY_MODEL_1abc3ec7d87a43a3b3b3cf361ae82efb",
            "msg_id": "",
            "outputs": [
              {
                "output_type": "display_data",
                "data": {
                  "text/plain": "<Figure size 400x400 with 1 Axes>",
                  "image/png": "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\n"
                },
                "metadata": {}
              }
            ]
          }
        },
        "340e5f15a24f42d6a1ae7e44d32693c6": {
          "model_module": "@jupyter-widgets/base",
          "model_name": "LayoutModel",
          "model_module_version": "1.2.0",
          "state": {
            "_model_module": "@jupyter-widgets/base",
            "_model_module_version": "1.2.0",
            "_model_name": "LayoutModel",
            "_view_count": null,
            "_view_module": "@jupyter-widgets/base",
            "_view_module_version": "1.2.0",
            "_view_name": "LayoutView",
            "align_content": null,
            "align_items": null,
            "align_self": null,
            "border": null,
            "bottom": null,
            "display": null,
            "flex": null,
            "flex_flow": null,
            "grid_area": null,
            "grid_auto_columns": null,
            "grid_auto_flow": null,
            "grid_auto_rows": null,
            "grid_column": null,
            "grid_gap": null,
            "grid_row": null,
            "grid_template_areas": null,
            "grid_template_columns": null,
            "grid_template_rows": null,
            "height": null,
            "justify_content": null,
            "justify_items": null,
            "left": null,
            "margin": null,
            "max_height": null,
            "max_width": null,
            "min_height": null,
            "min_width": null,
            "object_fit": null,
            "object_position": null,
            "order": null,
            "overflow": null,
            "overflow_x": null,
            "overflow_y": null,
            "padding": null,
            "right": null,
            "top": null,
            "visibility": null,
            "width": null
          }
        },
        "3b2d46ac2bdd4a2582ac8fb900545dc3": {
          "model_module": "@jupyter-widgets/base",
          "model_name": "LayoutModel",
          "model_module_version": "1.2.0",
          "state": {
            "_model_module": "@jupyter-widgets/base",
            "_model_module_version": "1.2.0",
            "_model_name": "LayoutModel",
            "_view_count": null,
            "_view_module": "@jupyter-widgets/base",
            "_view_module_version": "1.2.0",
            "_view_name": "LayoutView",
            "align_content": null,
            "align_items": null,
            "align_self": null,
            "border": null,
            "bottom": null,
            "display": null,
            "flex": null,
            "flex_flow": null,
            "grid_area": null,
            "grid_auto_columns": null,
            "grid_auto_flow": null,
            "grid_auto_rows": null,
            "grid_column": null,
            "grid_gap": null,
            "grid_row": null,
            "grid_template_areas": null,
            "grid_template_columns": null,
            "grid_template_rows": null,
            "height": null,
            "justify_content": null,
            "justify_items": null,
            "left": null,
            "margin": null,
            "max_height": null,
            "max_width": null,
            "min_height": null,
            "min_width": null,
            "object_fit": null,
            "object_position": null,
            "order": null,
            "overflow": null,
            "overflow_x": null,
            "overflow_y": null,
            "padding": null,
            "right": null,
            "top": null,
            "visibility": null,
            "width": null
          }
        },
        "2a946c56a3f54f04bca63f52066ed784": {
          "model_module": "@jupyter-widgets/controls",
          "model_name": "SliderStyleModel",
          "model_module_version": "1.5.0",
          "state": {
            "_model_module": "@jupyter-widgets/controls",
            "_model_module_version": "1.5.0",
            "_model_name": "SliderStyleModel",
            "_view_count": null,
            "_view_module": "@jupyter-widgets/base",
            "_view_module_version": "1.2.0",
            "_view_name": "StyleView",
            "description_width": "",
            "handle_color": null
          }
        },
        "5703814de4fe44d5aa189b39178a01d1": {
          "model_module": "@jupyter-widgets/base",
          "model_name": "LayoutModel",
          "model_module_version": "1.2.0",
          "state": {
            "_model_module": "@jupyter-widgets/base",
            "_model_module_version": "1.2.0",
            "_model_name": "LayoutModel",
            "_view_count": null,
            "_view_module": "@jupyter-widgets/base",
            "_view_module_version": "1.2.0",
            "_view_name": "LayoutView",
            "align_content": null,
            "align_items": null,
            "align_self": null,
            "border": null,
            "bottom": null,
            "display": null,
            "flex": null,
            "flex_flow": null,
            "grid_area": null,
            "grid_auto_columns": null,
            "grid_auto_flow": null,
            "grid_auto_rows": null,
            "grid_column": null,
            "grid_gap": null,
            "grid_row": null,
            "grid_template_areas": null,
            "grid_template_columns": null,
            "grid_template_rows": null,
            "height": null,
            "justify_content": null,
            "justify_items": null,
            "left": null,
            "margin": null,
            "max_height": null,
            "max_width": null,
            "min_height": null,
            "min_width": null,
            "object_fit": null,
            "object_position": null,
            "order": null,
            "overflow": null,
            "overflow_x": null,
            "overflow_y": null,
            "padding": null,
            "right": null,
            "top": null,
            "visibility": null,
            "width": null
          }
        },
        "120f1585845741aa8f46e675b0de1af2": {
          "model_module": "@jupyter-widgets/controls",
          "model_name": "DescriptionStyleModel",
          "model_module_version": "1.5.0",
          "state": {
            "_model_module": "@jupyter-widgets/controls",
            "_model_module_version": "1.5.0",
            "_model_name": "DescriptionStyleModel",
            "_view_count": null,
            "_view_module": "@jupyter-widgets/base",
            "_view_module_version": "1.2.0",
            "_view_name": "StyleView",
            "description_width": ""
          }
        },
        "1abc3ec7d87a43a3b3b3cf361ae82efb": {
          "model_module": "@jupyter-widgets/base",
          "model_name": "LayoutModel",
          "model_module_version": "1.2.0",
          "state": {
            "_model_module": "@jupyter-widgets/base",
            "_model_module_version": "1.2.0",
            "_model_name": "LayoutModel",
            "_view_count": null,
            "_view_module": "@jupyter-widgets/base",
            "_view_module_version": "1.2.0",
            "_view_name": "LayoutView",
            "align_content": null,
            "align_items": null,
            "align_self": null,
            "border": null,
            "bottom": null,
            "display": null,
            "flex": null,
            "flex_flow": null,
            "grid_area": null,
            "grid_auto_columns": null,
            "grid_auto_flow": null,
            "grid_auto_rows": null,
            "grid_column": null,
            "grid_gap": null,
            "grid_row": null,
            "grid_template_areas": null,
            "grid_template_columns": null,
            "grid_template_rows": null,
            "height": null,
            "justify_content": null,
            "justify_items": null,
            "left": null,
            "margin": null,
            "max_height": null,
            "max_width": null,
            "min_height": null,
            "min_width": null,
            "object_fit": null,
            "object_position": null,
            "order": null,
            "overflow": null,
            "overflow_x": null,
            "overflow_y": null,
            "padding": null,
            "right": null,
            "top": null,
            "visibility": null,
            "width": null
          }
        },
        "f728912c9d664b478da7a2310d594972": {
          "model_module": "@jupyter-widgets/controls",
          "model_name": "ButtonModel",
          "model_module_version": "1.5.0",
          "state": {
            "_dom_classes": [],
            "_model_module": "@jupyter-widgets/controls",
            "_model_module_version": "1.5.0",
            "_model_name": "ButtonModel",
            "_view_count": null,
            "_view_module": "@jupyter-widgets/controls",
            "_view_module_version": "1.5.0",
            "_view_name": "ButtonView",
            "button_style": "",
            "description": "1) Make square",
            "disabled": false,
            "icon": "",
            "layout": "IPY_MODEL_222135b7086940d79f0f3a76ddf5b876",
            "style": "IPY_MODEL_16690e3a8d1d475b8ccec3d39238e714",
            "tooltip": ""
          }
        },
        "222135b7086940d79f0f3a76ddf5b876": {
          "model_module": "@jupyter-widgets/base",
          "model_name": "LayoutModel",
          "model_module_version": "1.2.0",
          "state": {
            "_model_module": "@jupyter-widgets/base",
            "_model_module_version": "1.2.0",
            "_model_name": "LayoutModel",
            "_view_count": null,
            "_view_module": "@jupyter-widgets/base",
            "_view_module_version": "1.2.0",
            "_view_name": "LayoutView",
            "align_content": null,
            "align_items": null,
            "align_self": null,
            "border": null,
            "bottom": null,
            "display": null,
            "flex": null,
            "flex_flow": null,
            "grid_area": null,
            "grid_auto_columns": null,
            "grid_auto_flow": null,
            "grid_auto_rows": null,
            "grid_column": null,
            "grid_gap": null,
            "grid_row": null,
            "grid_template_areas": null,
            "grid_template_columns": null,
            "grid_template_rows": null,
            "height": null,
            "justify_content": null,
            "justify_items": null,
            "left": null,
            "margin": null,
            "max_height": null,
            "max_width": null,
            "min_height": null,
            "min_width": null,
            "object_fit": null,
            "object_position": null,
            "order": null,
            "overflow": null,
            "overflow_x": null,
            "overflow_y": null,
            "padding": null,
            "right": null,
            "top": null,
            "visibility": null,
            "width": "200px"
          }
        },
        "16690e3a8d1d475b8ccec3d39238e714": {
          "model_module": "@jupyter-widgets/controls",
          "model_name": "ButtonStyleModel",
          "model_module_version": "1.5.0",
          "state": {
            "_model_module": "@jupyter-widgets/controls",
            "_model_module_version": "1.5.0",
            "_model_name": "ButtonStyleModel",
            "_view_count": null,
            "_view_module": "@jupyter-widgets/base",
            "_view_module_version": "1.2.0",
            "_view_name": "StyleView",
            "button_color": null,
            "font_weight": ""
          }
        },
        "5ad3b6ab6c5f4e6582baa0592577a73d": {
          "model_module": "@jupyter-widgets/controls",
          "model_name": "ButtonModel",
          "model_module_version": "1.5.0",
          "state": {
            "_dom_classes": [],
            "_model_module": "@jupyter-widgets/controls",
            "_model_module_version": "1.5.0",
            "_model_name": "ButtonModel",
            "_view_count": null,
            "_view_module": "@jupyter-widgets/controls",
            "_view_module_version": "1.5.0",
            "_view_name": "ButtonView",
            "button_style": "",
            "description": "2) Map to latent space",
            "disabled": false,
            "icon": "",
            "layout": "IPY_MODEL_95315daf73f3482a9fc020ae768fc2bc",
            "style": "IPY_MODEL_4442312e0c114a07a0ee1bc9ba2b6f8b",
            "tooltip": ""
          }
        },
        "95315daf73f3482a9fc020ae768fc2bc": {
          "model_module": "@jupyter-widgets/base",
          "model_name": "LayoutModel",
          "model_module_version": "1.2.0",
          "state": {
            "_model_module": "@jupyter-widgets/base",
            "_model_module_version": "1.2.0",
            "_model_name": "LayoutModel",
            "_view_count": null,
            "_view_module": "@jupyter-widgets/base",
            "_view_module_version": "1.2.0",
            "_view_name": "LayoutView",
            "align_content": null,
            "align_items": null,
            "align_self": null,
            "border": null,
            "bottom": null,
            "display": null,
            "flex": null,
            "flex_flow": null,
            "grid_area": null,
            "grid_auto_columns": null,
            "grid_auto_flow": null,
            "grid_auto_rows": null,
            "grid_column": null,
            "grid_gap": null,
            "grid_row": null,
            "grid_template_areas": null,
            "grid_template_columns": null,
            "grid_template_rows": null,
            "height": null,
            "justify_content": null,
            "justify_items": null,
            "left": null,
            "margin": null,
            "max_height": null,
            "max_width": null,
            "min_height": null,
            "min_width": null,
            "object_fit": null,
            "object_position": null,
            "order": null,
            "overflow": null,
            "overflow_x": null,
            "overflow_y": null,
            "padding": null,
            "right": null,
            "top": null,
            "visibility": null,
            "width": "200px"
          }
        },
        "4442312e0c114a07a0ee1bc9ba2b6f8b": {
          "model_module": "@jupyter-widgets/controls",
          "model_name": "ButtonStyleModel",
          "model_module_version": "1.5.0",
          "state": {
            "_model_module": "@jupyter-widgets/controls",
            "_model_module_version": "1.5.0",
            "_model_name": "ButtonStyleModel",
            "_view_count": null,
            "_view_module": "@jupyter-widgets/base",
            "_view_module_version": "1.2.0",
            "_view_name": "StyleView",
            "button_color": null,
            "font_weight": ""
          }
        },
        "6cc781a8fae24055abe9fb0b95d2603b": {
          "model_module": "@jupyter-widgets/controls",
          "model_name": "ButtonModel",
          "model_module_version": "1.5.0",
          "state": {
            "_dom_classes": [],
            "_model_module": "@jupyter-widgets/controls",
            "_model_module_version": "1.5.0",
            "_model_name": "ButtonModel",
            "_view_count": null,
            "_view_module": "@jupyter-widgets/controls",
            "_view_module_version": "1.5.0",
            "_view_name": "ButtonView",
            "button_style": "",
            "description": "1) Make square",
            "disabled": false,
            "icon": "",
            "layout": "IPY_MODEL_800a24ed556d4bec926ed8968ce6a9e8",
            "style": "IPY_MODEL_5f137aee15d1421a828e52d822930bca",
            "tooltip": ""
          }
        },
        "800a24ed556d4bec926ed8968ce6a9e8": {
          "model_module": "@jupyter-widgets/base",
          "model_name": "LayoutModel",
          "model_module_version": "1.2.0",
          "state": {
            "_model_module": "@jupyter-widgets/base",
            "_model_module_version": "1.2.0",
            "_model_name": "LayoutModel",
            "_view_count": null,
            "_view_module": "@jupyter-widgets/base",
            "_view_module_version": "1.2.0",
            "_view_name": "LayoutView",
            "align_content": null,
            "align_items": null,
            "align_self": null,
            "border": null,
            "bottom": null,
            "display": null,
            "flex": null,
            "flex_flow": null,
            "grid_area": null,
            "grid_auto_columns": null,
            "grid_auto_flow": null,
            "grid_auto_rows": null,
            "grid_column": null,
            "grid_gap": null,
            "grid_row": null,
            "grid_template_areas": null,
            "grid_template_columns": null,
            "grid_template_rows": null,
            "height": null,
            "justify_content": null,
            "justify_items": null,
            "left": null,
            "margin": null,
            "max_height": null,
            "max_width": null,
            "min_height": null,
            "min_width": null,
            "object_fit": null,
            "object_position": null,
            "order": null,
            "overflow": null,
            "overflow_x": null,
            "overflow_y": null,
            "padding": null,
            "right": null,
            "top": null,
            "visibility": null,
            "width": "200px"
          }
        },
        "5f137aee15d1421a828e52d822930bca": {
          "model_module": "@jupyter-widgets/controls",
          "model_name": "ButtonStyleModel",
          "model_module_version": "1.5.0",
          "state": {
            "_model_module": "@jupyter-widgets/controls",
            "_model_module_version": "1.5.0",
            "_model_name": "ButtonStyleModel",
            "_view_count": null,
            "_view_module": "@jupyter-widgets/base",
            "_view_module_version": "1.2.0",
            "_view_name": "StyleView",
            "button_color": null,
            "font_weight": ""
          }
        },
        "de8ba8b64fe842ec94e705b194b6150d": {
          "model_module": "@jupyter-widgets/controls",
          "model_name": "ButtonModel",
          "model_module_version": "1.5.0",
          "state": {
            "_dom_classes": [],
            "_model_module": "@jupyter-widgets/controls",
            "_model_module_version": "1.5.0",
            "_model_name": "ButtonModel",
            "_view_count": null,
            "_view_module": "@jupyter-widgets/controls",
            "_view_module_version": "1.5.0",
            "_view_name": "ButtonView",
            "button_style": "",
            "description": "2) Map to latent space",
            "disabled": false,
            "icon": "",
            "layout": "IPY_MODEL_ade181656fd3494ba7f7332e17957619",
            "style": "IPY_MODEL_06c6878de95a4b32b9fe4fd90afad8c5",
            "tooltip": ""
          }
        },
        "ade181656fd3494ba7f7332e17957619": {
          "model_module": "@jupyter-widgets/base",
          "model_name": "LayoutModel",
          "model_module_version": "1.2.0",
          "state": {
            "_model_module": "@jupyter-widgets/base",
            "_model_module_version": "1.2.0",
            "_model_name": "LayoutModel",
            "_view_count": null,
            "_view_module": "@jupyter-widgets/base",
            "_view_module_version": "1.2.0",
            "_view_name": "LayoutView",
            "align_content": null,
            "align_items": null,
            "align_self": null,
            "border": null,
            "bottom": null,
            "display": null,
            "flex": null,
            "flex_flow": null,
            "grid_area": null,
            "grid_auto_columns": null,
            "grid_auto_flow": null,
            "grid_auto_rows": null,
            "grid_column": null,
            "grid_gap": null,
            "grid_row": null,
            "grid_template_areas": null,
            "grid_template_columns": null,
            "grid_template_rows": null,
            "height": null,
            "justify_content": null,
            "justify_items": null,
            "left": null,
            "margin": null,
            "max_height": null,
            "max_width": null,
            "min_height": null,
            "min_width": null,
            "object_fit": null,
            "object_position": null,
            "order": null,
            "overflow": null,
            "overflow_x": null,
            "overflow_y": null,
            "padding": null,
            "right": null,
            "top": null,
            "visibility": null,
            "width": "200px"
          }
        },
        "06c6878de95a4b32b9fe4fd90afad8c5": {
          "model_module": "@jupyter-widgets/controls",
          "model_name": "ButtonStyleModel",
          "model_module_version": "1.5.0",
          "state": {
            "_model_module": "@jupyter-widgets/controls",
            "_model_module_version": "1.5.0",
            "_model_name": "ButtonStyleModel",
            "_view_count": null,
            "_view_module": "@jupyter-widgets/base",
            "_view_module_version": "1.2.0",
            "_view_name": "StyleView",
            "button_color": null,
            "font_weight": ""
          }
        },
        "6b2972ed8ef4455db1edb3551272ce75": {
          "model_module": "@jupyter-widgets/controls",
          "model_name": "ButtonModel",
          "model_module_version": "1.5.0",
          "state": {
            "_dom_classes": [],
            "_model_module": "@jupyter-widgets/controls",
            "_model_module_version": "1.5.0",
            "_model_name": "ButtonModel",
            "_view_count": null,
            "_view_module": "@jupyter-widgets/controls",
            "_view_module_version": "1.5.0",
            "_view_name": "ButtonView",
            "button_style": "",
            "description": "3) Minimize coward loss",
            "disabled": false,
            "icon": "",
            "layout": "IPY_MODEL_92b396050c9d4cd7881ffd02d1f26a8c",
            "style": "IPY_MODEL_6541593162ec476bb5e5d27d845e78af",
            "tooltip": ""
          }
        },
        "92b396050c9d4cd7881ffd02d1f26a8c": {
          "model_module": "@jupyter-widgets/base",
          "model_name": "LayoutModel",
          "model_module_version": "1.2.0",
          "state": {
            "_model_module": "@jupyter-widgets/base",
            "_model_module_version": "1.2.0",
            "_model_name": "LayoutModel",
            "_view_count": null,
            "_view_module": "@jupyter-widgets/base",
            "_view_module_version": "1.2.0",
            "_view_name": "LayoutView",
            "align_content": null,
            "align_items": null,
            "align_self": null,
            "border": null,
            "bottom": null,
            "display": null,
            "flex": null,
            "flex_flow": null,
            "grid_area": null,
            "grid_auto_columns": null,
            "grid_auto_flow": null,
            "grid_auto_rows": null,
            "grid_column": null,
            "grid_gap": null,
            "grid_row": null,
            "grid_template_areas": null,
            "grid_template_columns": null,
            "grid_template_rows": null,
            "height": null,
            "justify_content": null,
            "justify_items": null,
            "left": null,
            "margin": null,
            "max_height": null,
            "max_width": null,
            "min_height": null,
            "min_width": null,
            "object_fit": null,
            "object_position": null,
            "order": null,
            "overflow": null,
            "overflow_x": null,
            "overflow_y": null,
            "padding": null,
            "right": null,
            "top": null,
            "visibility": null,
            "width": "200px"
          }
        },
        "6541593162ec476bb5e5d27d845e78af": {
          "model_module": "@jupyter-widgets/controls",
          "model_name": "ButtonStyleModel",
          "model_module_version": "1.5.0",
          "state": {
            "_model_module": "@jupyter-widgets/controls",
            "_model_module_version": "1.5.0",
            "_model_name": "ButtonStyleModel",
            "_view_count": null,
            "_view_module": "@jupyter-widgets/base",
            "_view_module_version": "1.2.0",
            "_view_name": "StyleView",
            "button_color": null,
            "font_weight": ""
          }
        },
        "f37157e3e75049b09a802281e26a9327": {
          "model_module": "@jupyter-widgets/controls",
          "model_name": "ButtonModel",
          "model_module_version": "1.5.0",
          "state": {
            "_dom_classes": [],
            "_model_module": "@jupyter-widgets/controls",
            "_model_module_version": "1.5.0",
            "_model_name": "ButtonModel",
            "_view_count": null,
            "_view_module": "@jupyter-widgets/controls",
            "_view_module_version": "1.5.0",
            "_view_name": "ButtonView",
            "button_style": "",
            "description": "1) Make square",
            "disabled": false,
            "icon": "",
            "layout": "IPY_MODEL_64c21a94539e438599449ecf14d8e47f",
            "style": "IPY_MODEL_f49b9c8b13bd4b27b14a67c1392cd98f",
            "tooltip": ""
          }
        },
        "64c21a94539e438599449ecf14d8e47f": {
          "model_module": "@jupyter-widgets/base",
          "model_name": "LayoutModel",
          "model_module_version": "1.2.0",
          "state": {
            "_model_module": "@jupyter-widgets/base",
            "_model_module_version": "1.2.0",
            "_model_name": "LayoutModel",
            "_view_count": null,
            "_view_module": "@jupyter-widgets/base",
            "_view_module_version": "1.2.0",
            "_view_name": "LayoutView",
            "align_content": null,
            "align_items": null,
            "align_self": null,
            "border": null,
            "bottom": null,
            "display": null,
            "flex": null,
            "flex_flow": null,
            "grid_area": null,
            "grid_auto_columns": null,
            "grid_auto_flow": null,
            "grid_auto_rows": null,
            "grid_column": null,
            "grid_gap": null,
            "grid_row": null,
            "grid_template_areas": null,
            "grid_template_columns": null,
            "grid_template_rows": null,
            "height": null,
            "justify_content": null,
            "justify_items": null,
            "left": null,
            "margin": null,
            "max_height": null,
            "max_width": null,
            "min_height": null,
            "min_width": null,
            "object_fit": null,
            "object_position": null,
            "order": null,
            "overflow": null,
            "overflow_x": null,
            "overflow_y": null,
            "padding": null,
            "right": null,
            "top": null,
            "visibility": null,
            "width": "200px"
          }
        },
        "f49b9c8b13bd4b27b14a67c1392cd98f": {
          "model_module": "@jupyter-widgets/controls",
          "model_name": "ButtonStyleModel",
          "model_module_version": "1.5.0",
          "state": {
            "_model_module": "@jupyter-widgets/controls",
            "_model_module_version": "1.5.0",
            "_model_name": "ButtonStyleModel",
            "_view_count": null,
            "_view_module": "@jupyter-widgets/base",
            "_view_module_version": "1.2.0",
            "_view_name": "StyleView",
            "button_color": null,
            "font_weight": ""
          }
        },
        "3b497adf44aa45b58acb2d5391c4a563": {
          "model_module": "@jupyter-widgets/controls",
          "model_name": "ButtonModel",
          "model_module_version": "1.5.0",
          "state": {
            "_dom_classes": [],
            "_model_module": "@jupyter-widgets/controls",
            "_model_module_version": "1.5.0",
            "_model_name": "ButtonModel",
            "_view_count": null,
            "_view_module": "@jupyter-widgets/controls",
            "_view_module_version": "1.5.0",
            "_view_name": "ButtonView",
            "button_style": "",
            "description": "2) Map to latent space",
            "disabled": false,
            "icon": "",
            "layout": "IPY_MODEL_a195412d0d44417093bcfb08852153d5",
            "style": "IPY_MODEL_91c463bda4bb4c40b6637f3c19cf9417",
            "tooltip": ""
          }
        },
        "a195412d0d44417093bcfb08852153d5": {
          "model_module": "@jupyter-widgets/base",
          "model_name": "LayoutModel",
          "model_module_version": "1.2.0",
          "state": {
            "_model_module": "@jupyter-widgets/base",
            "_model_module_version": "1.2.0",
            "_model_name": "LayoutModel",
            "_view_count": null,
            "_view_module": "@jupyter-widgets/base",
            "_view_module_version": "1.2.0",
            "_view_name": "LayoutView",
            "align_content": null,
            "align_items": null,
            "align_self": null,
            "border": null,
            "bottom": null,
            "display": null,
            "flex": null,
            "flex_flow": null,
            "grid_area": null,
            "grid_auto_columns": null,
            "grid_auto_flow": null,
            "grid_auto_rows": null,
            "grid_column": null,
            "grid_gap": null,
            "grid_row": null,
            "grid_template_areas": null,
            "grid_template_columns": null,
            "grid_template_rows": null,
            "height": null,
            "justify_content": null,
            "justify_items": null,
            "left": null,
            "margin": null,
            "max_height": null,
            "max_width": null,
            "min_height": null,
            "min_width": null,
            "object_fit": null,
            "object_position": null,
            "order": null,
            "overflow": null,
            "overflow_x": null,
            "overflow_y": null,
            "padding": null,
            "right": null,
            "top": null,
            "visibility": null,
            "width": "200px"
          }
        },
        "91c463bda4bb4c40b6637f3c19cf9417": {
          "model_module": "@jupyter-widgets/controls",
          "model_name": "ButtonStyleModel",
          "model_module_version": "1.5.0",
          "state": {
            "_model_module": "@jupyter-widgets/controls",
            "_model_module_version": "1.5.0",
            "_model_name": "ButtonStyleModel",
            "_view_count": null,
            "_view_module": "@jupyter-widgets/base",
            "_view_module_version": "1.2.0",
            "_view_name": "StyleView",
            "button_color": null,
            "font_weight": ""
          }
        },
        "628a4bd725df45b2b7130e2e2411a73b": {
          "model_module": "@jupyter-widgets/controls",
          "model_name": "ButtonModel",
          "model_module_version": "1.5.0",
          "state": {
            "_dom_classes": [],
            "_model_module": "@jupyter-widgets/controls",
            "_model_module_version": "1.5.0",
            "_model_name": "ButtonModel",
            "_view_count": null,
            "_view_module": "@jupyter-widgets/controls",
            "_view_module_version": "1.5.0",
            "_view_name": "ButtonView",
            "button_style": "",
            "description": "3) Minimize coward loss",
            "disabled": false,
            "icon": "",
            "layout": "IPY_MODEL_a21c05a617f0416089703236575964d6",
            "style": "IPY_MODEL_bd34054b8ee946e08df62058c56e6bbf",
            "tooltip": ""
          }
        },
        "a21c05a617f0416089703236575964d6": {
          "model_module": "@jupyter-widgets/base",
          "model_name": "LayoutModel",
          "model_module_version": "1.2.0",
          "state": {
            "_model_module": "@jupyter-widgets/base",
            "_model_module_version": "1.2.0",
            "_model_name": "LayoutModel",
            "_view_count": null,
            "_view_module": "@jupyter-widgets/base",
            "_view_module_version": "1.2.0",
            "_view_name": "LayoutView",
            "align_content": null,
            "align_items": null,
            "align_self": null,
            "border": null,
            "bottom": null,
            "display": null,
            "flex": null,
            "flex_flow": null,
            "grid_area": null,
            "grid_auto_columns": null,
            "grid_auto_flow": null,
            "grid_auto_rows": null,
            "grid_column": null,
            "grid_gap": null,
            "grid_row": null,
            "grid_template_areas": null,
            "grid_template_columns": null,
            "grid_template_rows": null,
            "height": null,
            "justify_content": null,
            "justify_items": null,
            "left": null,
            "margin": null,
            "max_height": null,
            "max_width": null,
            "min_height": null,
            "min_width": null,
            "object_fit": null,
            "object_position": null,
            "order": null,
            "overflow": null,
            "overflow_x": null,
            "overflow_y": null,
            "padding": null,
            "right": null,
            "top": null,
            "visibility": null,
            "width": "200px"
          }
        },
        "bd34054b8ee946e08df62058c56e6bbf": {
          "model_module": "@jupyter-widgets/controls",
          "model_name": "ButtonStyleModel",
          "model_module_version": "1.5.0",
          "state": {
            "_model_module": "@jupyter-widgets/controls",
            "_model_module_version": "1.5.0",
            "_model_name": "ButtonStyleModel",
            "_view_count": null,
            "_view_module": "@jupyter-widgets/base",
            "_view_module_version": "1.2.0",
            "_view_name": "StyleView",
            "button_color": null,
            "font_weight": ""
          }
        },
        "721e0ff45505400984940d4d56d3558b": {
          "model_module": "@jupyter-widgets/controls",
          "model_name": "ButtonModel",
          "model_module_version": "1.5.0",
          "state": {
            "_dom_classes": [],
            "_model_module": "@jupyter-widgets/controls",
            "_model_module_version": "1.5.0",
            "_model_name": "ButtonModel",
            "_view_count": null,
            "_view_module": "@jupyter-widgets/controls",
            "_view_module_version": "1.5.0",
            "_view_name": "ButtonView",
            "button_style": "",
            "description": "4) Minimize attractive loss",
            "disabled": false,
            "icon": "",
            "layout": "IPY_MODEL_a970699f68fc424f93dc260eb3262a64",
            "style": "IPY_MODEL_f20118153f034131b0ce3da3d2b4b775",
            "tooltip": ""
          }
        },
        "a970699f68fc424f93dc260eb3262a64": {
          "model_module": "@jupyter-widgets/base",
          "model_name": "LayoutModel",
          "model_module_version": "1.2.0",
          "state": {
            "_model_module": "@jupyter-widgets/base",
            "_model_module_version": "1.2.0",
            "_model_name": "LayoutModel",
            "_view_count": null,
            "_view_module": "@jupyter-widgets/base",
            "_view_module_version": "1.2.0",
            "_view_name": "LayoutView",
            "align_content": null,
            "align_items": null,
            "align_self": null,
            "border": null,
            "bottom": null,
            "display": null,
            "flex": null,
            "flex_flow": null,
            "grid_area": null,
            "grid_auto_columns": null,
            "grid_auto_flow": null,
            "grid_auto_rows": null,
            "grid_column": null,
            "grid_gap": null,
            "grid_row": null,
            "grid_template_areas": null,
            "grid_template_columns": null,
            "grid_template_rows": null,
            "height": null,
            "justify_content": null,
            "justify_items": null,
            "left": null,
            "margin": null,
            "max_height": null,
            "max_width": null,
            "min_height": null,
            "min_width": null,
            "object_fit": null,
            "object_position": null,
            "order": null,
            "overflow": null,
            "overflow_x": null,
            "overflow_y": null,
            "padding": null,
            "right": null,
            "top": null,
            "visibility": null,
            "width": "200px"
          }
        },
        "f20118153f034131b0ce3da3d2b4b775": {
          "model_module": "@jupyter-widgets/controls",
          "model_name": "ButtonStyleModel",
          "model_module_version": "1.5.0",
          "state": {
            "_model_module": "@jupyter-widgets/controls",
            "_model_module_version": "1.5.0",
            "_model_name": "ButtonStyleModel",
            "_view_count": null,
            "_view_module": "@jupyter-widgets/base",
            "_view_module_version": "1.2.0",
            "_view_name": "StyleView",
            "button_color": null,
            "font_weight": ""
          }
        },
        "e03c52fecbec4df7ac785a8740a0eb83": {
          "model_module": "@jupyter-widgets/controls",
          "model_name": "ButtonModel",
          "model_module_version": "1.5.0",
          "state": {
            "_dom_classes": [],
            "_model_module": "@jupyter-widgets/controls",
            "_model_module_version": "1.5.0",
            "_model_name": "ButtonModel",
            "_view_count": null,
            "_view_module": "@jupyter-widgets/controls",
            "_view_module_version": "1.5.0",
            "_view_name": "ButtonView",
            "button_style": "",
            "description": "1) Make squares",
            "disabled": false,
            "icon": "",
            "layout": "IPY_MODEL_cf9644916b26451099acc642852e81d7",
            "style": "IPY_MODEL_5791008ade5f476ebeb7f1e49f40e5b1",
            "tooltip": ""
          }
        },
        "cf9644916b26451099acc642852e81d7": {
          "model_module": "@jupyter-widgets/base",
          "model_name": "LayoutModel",
          "model_module_version": "1.2.0",
          "state": {
            "_model_module": "@jupyter-widgets/base",
            "_model_module_version": "1.2.0",
            "_model_name": "LayoutModel",
            "_view_count": null,
            "_view_module": "@jupyter-widgets/base",
            "_view_module_version": "1.2.0",
            "_view_name": "LayoutView",
            "align_content": null,
            "align_items": null,
            "align_self": null,
            "border": null,
            "bottom": null,
            "display": null,
            "flex": null,
            "flex_flow": null,
            "grid_area": null,
            "grid_auto_columns": null,
            "grid_auto_flow": null,
            "grid_auto_rows": null,
            "grid_column": null,
            "grid_gap": null,
            "grid_row": null,
            "grid_template_areas": null,
            "grid_template_columns": null,
            "grid_template_rows": null,
            "height": null,
            "justify_content": null,
            "justify_items": null,
            "left": null,
            "margin": null,
            "max_height": null,
            "max_width": null,
            "min_height": null,
            "min_width": null,
            "object_fit": null,
            "object_position": null,
            "order": null,
            "overflow": null,
            "overflow_x": null,
            "overflow_y": null,
            "padding": null,
            "right": null,
            "top": null,
            "visibility": null,
            "width": "200px"
          }
        },
        "5791008ade5f476ebeb7f1e49f40e5b1": {
          "model_module": "@jupyter-widgets/controls",
          "model_name": "ButtonStyleModel",
          "model_module_version": "1.5.0",
          "state": {
            "_model_module": "@jupyter-widgets/controls",
            "_model_module_version": "1.5.0",
            "_model_name": "ButtonStyleModel",
            "_view_count": null,
            "_view_module": "@jupyter-widgets/base",
            "_view_module_version": "1.2.0",
            "_view_name": "StyleView",
            "button_color": null,
            "font_weight": ""
          }
        },
        "18e4e70e36944fc9932445aa7ce16960": {
          "model_module": "@jupyter-widgets/controls",
          "model_name": "ButtonModel",
          "model_module_version": "1.5.0",
          "state": {
            "_dom_classes": [],
            "_model_module": "@jupyter-widgets/controls",
            "_model_module_version": "1.5.0",
            "_model_name": "ButtonModel",
            "_view_count": null,
            "_view_module": "@jupyter-widgets/controls",
            "_view_module_version": "1.5.0",
            "_view_name": "ButtonView",
            "button_style": "",
            "description": "2) Map to latent space",
            "disabled": false,
            "icon": "",
            "layout": "IPY_MODEL_ab5b0e627db64ba89c694a2cbbccfbae",
            "style": "IPY_MODEL_0b72194044c14b4aaa844de3eb19441f",
            "tooltip": ""
          }
        },
        "ab5b0e627db64ba89c694a2cbbccfbae": {
          "model_module": "@jupyter-widgets/base",
          "model_name": "LayoutModel",
          "model_module_version": "1.2.0",
          "state": {
            "_model_module": "@jupyter-widgets/base",
            "_model_module_version": "1.2.0",
            "_model_name": "LayoutModel",
            "_view_count": null,
            "_view_module": "@jupyter-widgets/base",
            "_view_module_version": "1.2.0",
            "_view_name": "LayoutView",
            "align_content": null,
            "align_items": null,
            "align_self": null,
            "border": null,
            "bottom": null,
            "display": null,
            "flex": null,
            "flex_flow": null,
            "grid_area": null,
            "grid_auto_columns": null,
            "grid_auto_flow": null,
            "grid_auto_rows": null,
            "grid_column": null,
            "grid_gap": null,
            "grid_row": null,
            "grid_template_areas": null,
            "grid_template_columns": null,
            "grid_template_rows": null,
            "height": null,
            "justify_content": null,
            "justify_items": null,
            "left": null,
            "margin": null,
            "max_height": null,
            "max_width": null,
            "min_height": null,
            "min_width": null,
            "object_fit": null,
            "object_position": null,
            "order": null,
            "overflow": null,
            "overflow_x": null,
            "overflow_y": null,
            "padding": null,
            "right": null,
            "top": null,
            "visibility": null,
            "width": "200px"
          }
        },
        "0b72194044c14b4aaa844de3eb19441f": {
          "model_module": "@jupyter-widgets/controls",
          "model_name": "ButtonStyleModel",
          "model_module_version": "1.5.0",
          "state": {
            "_model_module": "@jupyter-widgets/controls",
            "_model_module_version": "1.5.0",
            "_model_name": "ButtonStyleModel",
            "_view_count": null,
            "_view_module": "@jupyter-widgets/base",
            "_view_module_version": "1.2.0",
            "_view_name": "StyleView",
            "button_color": null,
            "font_weight": ""
          }
        },
        "74115f0282df44c984829525106844e2": {
          "model_module": "@jupyter-widgets/controls",
          "model_name": "ButtonModel",
          "model_module_version": "1.5.0",
          "state": {
            "_dom_classes": [],
            "_model_module": "@jupyter-widgets/controls",
            "_model_module_version": "1.5.0",
            "_model_name": "ButtonModel",
            "_view_count": null,
            "_view_module": "@jupyter-widgets/controls",
            "_view_module_version": "1.5.0",
            "_view_name": "ButtonView",
            "button_style": "",
            "description": "3) Minimize coward loss",
            "disabled": false,
            "icon": "",
            "layout": "IPY_MODEL_ccf61539bc244753b23e2941c12cefce",
            "style": "IPY_MODEL_c2edac4432884ea7b68bc5e46fc752f2",
            "tooltip": ""
          }
        },
        "ccf61539bc244753b23e2941c12cefce": {
          "model_module": "@jupyter-widgets/base",
          "model_name": "LayoutModel",
          "model_module_version": "1.2.0",
          "state": {
            "_model_module": "@jupyter-widgets/base",
            "_model_module_version": "1.2.0",
            "_model_name": "LayoutModel",
            "_view_count": null,
            "_view_module": "@jupyter-widgets/base",
            "_view_module_version": "1.2.0",
            "_view_name": "LayoutView",
            "align_content": null,
            "align_items": null,
            "align_self": null,
            "border": null,
            "bottom": null,
            "display": null,
            "flex": null,
            "flex_flow": null,
            "grid_area": null,
            "grid_auto_columns": null,
            "grid_auto_flow": null,
            "grid_auto_rows": null,
            "grid_column": null,
            "grid_gap": null,
            "grid_row": null,
            "grid_template_areas": null,
            "grid_template_columns": null,
            "grid_template_rows": null,
            "height": null,
            "justify_content": null,
            "justify_items": null,
            "left": null,
            "margin": null,
            "max_height": null,
            "max_width": null,
            "min_height": null,
            "min_width": null,
            "object_fit": null,
            "object_position": null,
            "order": null,
            "overflow": null,
            "overflow_x": null,
            "overflow_y": null,
            "padding": null,
            "right": null,
            "top": null,
            "visibility": null,
            "width": "200px"
          }
        },
        "c2edac4432884ea7b68bc5e46fc752f2": {
          "model_module": "@jupyter-widgets/controls",
          "model_name": "ButtonStyleModel",
          "model_module_version": "1.5.0",
          "state": {
            "_model_module": "@jupyter-widgets/controls",
            "_model_module_version": "1.5.0",
            "_model_name": "ButtonStyleModel",
            "_view_count": null,
            "_view_module": "@jupyter-widgets/base",
            "_view_module_version": "1.2.0",
            "_view_name": "StyleView",
            "button_color": null,
            "font_weight": ""
          }
        },
        "5bd84740c2ba473ebf1c58eab3946f2e": {
          "model_module": "@jupyter-widgets/controls",
          "model_name": "ButtonModel",
          "model_module_version": "1.5.0",
          "state": {
            "_dom_classes": [],
            "_model_module": "@jupyter-widgets/controls",
            "_model_module_version": "1.5.0",
            "_model_name": "ButtonModel",
            "_view_count": null,
            "_view_module": "@jupyter-widgets/controls",
            "_view_module_version": "1.5.0",
            "_view_name": "ButtonView",
            "button_style": "",
            "description": "4) Minimize attractive loss",
            "disabled": false,
            "icon": "",
            "layout": "IPY_MODEL_c026e611eba144a8898436b4637effba",
            "style": "IPY_MODEL_42138395246041e3ad1d9a3f37bd9f39",
            "tooltip": ""
          }
        },
        "c026e611eba144a8898436b4637effba": {
          "model_module": "@jupyter-widgets/base",
          "model_name": "LayoutModel",
          "model_module_version": "1.2.0",
          "state": {
            "_model_module": "@jupyter-widgets/base",
            "_model_module_version": "1.2.0",
            "_model_name": "LayoutModel",
            "_view_count": null,
            "_view_module": "@jupyter-widgets/base",
            "_view_module_version": "1.2.0",
            "_view_name": "LayoutView",
            "align_content": null,
            "align_items": null,
            "align_self": null,
            "border": null,
            "bottom": null,
            "display": null,
            "flex": null,
            "flex_flow": null,
            "grid_area": null,
            "grid_auto_columns": null,
            "grid_auto_flow": null,
            "grid_auto_rows": null,
            "grid_column": null,
            "grid_gap": null,
            "grid_row": null,
            "grid_template_areas": null,
            "grid_template_columns": null,
            "grid_template_rows": null,
            "height": null,
            "justify_content": null,
            "justify_items": null,
            "left": null,
            "margin": null,
            "max_height": null,
            "max_width": null,
            "min_height": null,
            "min_width": null,
            "object_fit": null,
            "object_position": null,
            "order": null,
            "overflow": null,
            "overflow_x": null,
            "overflow_y": null,
            "padding": null,
            "right": null,
            "top": null,
            "visibility": null,
            "width": "200px"
          }
        },
        "42138395246041e3ad1d9a3f37bd9f39": {
          "model_module": "@jupyter-widgets/controls",
          "model_name": "ButtonStyleModel",
          "model_module_version": "1.5.0",
          "state": {
            "_model_module": "@jupyter-widgets/controls",
            "_model_module_version": "1.5.0",
            "_model_name": "ButtonStyleModel",
            "_view_count": null,
            "_view_module": "@jupyter-widgets/base",
            "_view_module_version": "1.2.0",
            "_view_name": "StyleView",
            "button_color": null,
            "font_weight": ""
          }
        },
        "4c5a52d1f688476480aaae3058f8584e": {
          "model_module": "@jupyter-widgets/controls",
          "model_name": "ButtonModel",
          "model_module_version": "1.5.0",
          "state": {
            "_dom_classes": [],
            "_model_module": "@jupyter-widgets/controls",
            "_model_module_version": "1.5.0",
            "_model_name": "ButtonModel",
            "_view_count": null,
            "_view_module": "@jupyter-widgets/controls",
            "_view_module_version": "1.5.0",
            "_view_name": "ButtonView",
            "button_style": "",
            "description": "5) Minimize repulsive loss",
            "disabled": false,
            "icon": "",
            "layout": "IPY_MODEL_b5fe31a87d9e4eaca59629f1832a56b0",
            "style": "IPY_MODEL_36b7470b5c504b9b84c2a3e226f1f0f8",
            "tooltip": ""
          }
        },
        "b5fe31a87d9e4eaca59629f1832a56b0": {
          "model_module": "@jupyter-widgets/base",
          "model_name": "LayoutModel",
          "model_module_version": "1.2.0",
          "state": {
            "_model_module": "@jupyter-widgets/base",
            "_model_module_version": "1.2.0",
            "_model_name": "LayoutModel",
            "_view_count": null,
            "_view_module": "@jupyter-widgets/base",
            "_view_module_version": "1.2.0",
            "_view_name": "LayoutView",
            "align_content": null,
            "align_items": null,
            "align_self": null,
            "border": null,
            "bottom": null,
            "display": null,
            "flex": null,
            "flex_flow": null,
            "grid_area": null,
            "grid_auto_columns": null,
            "grid_auto_flow": null,
            "grid_auto_rows": null,
            "grid_column": null,
            "grid_gap": null,
            "grid_row": null,
            "grid_template_areas": null,
            "grid_template_columns": null,
            "grid_template_rows": null,
            "height": null,
            "justify_content": null,
            "justify_items": null,
            "left": null,
            "margin": null,
            "max_height": null,
            "max_width": null,
            "min_height": null,
            "min_width": null,
            "object_fit": null,
            "object_position": null,
            "order": null,
            "overflow": null,
            "overflow_x": null,
            "overflow_y": null,
            "padding": null,
            "right": null,
            "top": null,
            "visibility": null,
            "width": "200px"
          }
        },
        "36b7470b5c504b9b84c2a3e226f1f0f8": {
          "model_module": "@jupyter-widgets/controls",
          "model_name": "ButtonStyleModel",
          "model_module_version": "1.5.0",
          "state": {
            "_model_module": "@jupyter-widgets/controls",
            "_model_module_version": "1.5.0",
            "_model_name": "ButtonStyleModel",
            "_view_count": null,
            "_view_module": "@jupyter-widgets/base",
            "_view_module_version": "1.2.0",
            "_view_name": "StyleView",
            "button_color": null,
            "font_weight": ""
          }
        }
      }
    }
  },
  "cells": [
    {
      "cell_type": "markdown",
      "metadata": {
        "id": "view-in-github",
        "colab_type": "text"
      },
      "source": [
        "<a href=\"https://colab.research.google.com/github/Gregtom3/vossen_ecal_ai/blob/main/notebooks/nb02_shapeId.ipynb\" target=\"_parent\"><img src=\"https://colab.research.google.com/assets/colab-badge.svg\" alt=\"Open In Colab\"/></a>"
      ]
    },
    {
      "cell_type": "markdown",
      "source": [
        "# Tutorial Overview\n",
        "\n",
        "In this notebook, we use object condensation as a tool to identify shapes in an image."
      ],
      "metadata": {
        "id": "2GZphOFPOTNF"
      }
    },
    {
      "cell_type": "markdown",
      "source": [
        "## Imports"
      ],
      "metadata": {
        "id": "nrqAUHjtPXeE"
      }
    },
    {
      "cell_type": "code",
      "source": [
        "# Import source code from the GitHub to generate images\n",
        "!wget https://raw.githubusercontent.com/Gregtom3/vossen_ecal_ai/main/src/shape_gen.py\n",
        "from shape_gen import generate_dataset\n",
        "\n",
        "# Import source code from the GitHub for the object condensation loss function\n",
        "!wget https://raw.githubusercontent.com/Gregtom3/vossen_ecal_ai/main/src/nb02_loss_functions.py\n",
        "from nb02_loss_functions import CustomLoss, AttractiveLossMetric, RepulsiveLossMetric, CowardLossMetric, NoiseLossMetric"
      ],
      "metadata": {
        "colab": {
          "base_uri": "https://localhost:8080/"
        },
        "id": "L2Bg7hbrPWix",
        "outputId": "32b163f7-42e6-4a78-8c01-a8d513d1dcd1"
      },
      "execution_count": null,
      "outputs": [
        {
          "output_type": "stream",
          "name": "stdout",
          "text": [
            "--2025-03-10 20:31:37--  https://raw.githubusercontent.com/Gregtom3/vossen_ecal_ai/main/src/shape_gen.py\n",
            "Resolving raw.githubusercontent.com (raw.githubusercontent.com)... 185.199.108.133, 185.199.109.133, 185.199.110.133, ...\n",
            "Connecting to raw.githubusercontent.com (raw.githubusercontent.com)|185.199.108.133|:443... connected.\n",
            "HTTP request sent, awaiting response... 200 OK\n",
            "Length: 4600 (4.5K) [text/plain]\n",
            "Saving to: ‘shape_gen.py.2’\n",
            "\n",
            "\rshape_gen.py.2        0%[                    ]       0  --.-KB/s               \rshape_gen.py.2      100%[===================>]   4.49K  --.-KB/s    in 0s      \n",
            "\n",
            "2025-03-10 20:31:37 (48.7 MB/s) - ‘shape_gen.py.2’ saved [4600/4600]\n",
            "\n",
            "--2025-03-10 20:31:37--  https://raw.githubusercontent.com/Gregtom3/vossen_ecal_ai/main/src/nb02_loss_functions.py\n",
            "Resolving raw.githubusercontent.com (raw.githubusercontent.com)... 185.199.108.133, 185.199.109.133, 185.199.110.133, ...\n",
            "Connecting to raw.githubusercontent.com (raw.githubusercontent.com)|185.199.108.133|:443... connected.\n",
            "HTTP request sent, awaiting response... 200 OK\n",
            "Length: 7219 (7.0K) [text/plain]\n",
            "Saving to: ‘nb02_loss_functions.py’\n",
            "\n",
            "nb02_loss_functions 100%[===================>]   7.05K  --.-KB/s    in 0s      \n",
            "\n",
            "2025-03-10 20:31:38 (45.6 MB/s) - ‘nb02_loss_functions.py’ saved [7219/7219]\n",
            "\n"
          ]
        }
      ]
    },
    {
      "cell_type": "code",
      "source": [
        "import matplotlib.pyplot as plt\n",
        "import matplotlib.patches as patches\n",
        "import numpy as np\n",
        "from copy import deepcopy\n",
        "import ipywidgets as widgets\n",
        "from ipywidgets import interactive\n",
        "from IPython.display import display,  clear_output"
      ],
      "metadata": {
        "id": "7iFiRNndU0cb"
      },
      "execution_count": null,
      "outputs": []
    },
    {
      "cell_type": "markdown",
      "source": [
        "## Data Generation\n",
        "\n",
        "Below we provide some of the parameters for creating an array of images. By default, we produce 1,000 images in a 32-by-32 grid containing $5-8$ shapes. A few other parameters like `same_color`, `same_shape` and `shape_overlap_max` can be tweaked."
      ],
      "metadata": {
        "id": "luZuUwW-RwIV"
      }
    },
    {
      "cell_type": "code",
      "source": [
        "num_images           = 1000\n",
        "image_width          = 32\n",
        "image_height         = image_width\n",
        "min_shapes           = 5\n",
        "max_shapes           = 8\n",
        "shape_size_range     = (5,12)\n",
        "\n",
        "dataset = generate_dataset(num_images=num_images,\n",
        "                           image_size=(image_width,image_height),\n",
        "                           min_shapes=min_shapes,\n",
        "                           max_shapes=max_shapes,\n",
        "                           shape_size_range=shape_size_range,\n",
        "                           same_color=False, # True\n",
        "                           same_shape=None, # ['circle','triangle','square']\n",
        "                           shape_overlap_max=0.5)\n",
        "print(dataset.shape)\n",
        "\n",
        "# --> 0,1,2 = RGB\n",
        "# --> 3 = x\n",
        "# --> 4 = y\n",
        "# --> 5 = unique_shape_id (background == 0)\n",
        "# --> 6 = shape type\n",
        "#     --> 0 = noise/empty\n",
        "#     --> 1 = circle\n",
        "#     --> 2 = square\n",
        "#     --> 3 = triangle"
      ],
      "metadata": {
        "colab": {
          "base_uri": "https://localhost:8080/"
        },
        "id": "AzmOBWjdP1QW",
        "outputId": "2011159b-5b92-48cf-a3a5-0f11daf7e410"
      },
      "execution_count": null,
      "outputs": [
        {
          "output_type": "stream",
          "name": "stdout",
          "text": [
            "(1000, 32, 32, 7)\n"
          ]
        }
      ]
    },
    {
      "cell_type": "markdown",
      "source": [
        "From `dataset.shape`, we see we are dealing with a tensor of dimension [1000,32,32,7]. As indicated by the comment, the first 3 features for each pixel are its RGB. Then, the (x,y) of the pixel is stored as the 4th and 5th feature. **The most crucial feature** to understand is the 6th, the \"unique_shape_id\".\n",
        "\n",
        "Consider the first image, first shape. All pixels that correspond to that shape will have a `unique_shape_id` of 1. Then, for the second generated shape, they will have a `unique_shape_id` of 2, and so on. An important distinction is that no two shapes, even across different \"events\" will have the same `unique_shape_id`. All background pixels have a `unique_shape_id` of 0.\n",
        "\n",
        "Lastly, the final feature indicates what type of shape the pixel belongs to.\n",
        "\n",
        "\n",
        "Lets plot some sample event.\n",
        "\n"
      ],
      "metadata": {
        "id": "xSNwebSpT4SL"
      }
    },
    {
      "cell_type": "code",
      "source": [
        "def plot_toy(dataset, evtnum, PLOT_TYPE):\n",
        "    # Check inputs\n",
        "    assert PLOT_TYPE in ['RGB', 'X', 'Y', 'uid', 'type'], \"PLOT_TYPE must be one of ['RGB', 'X', 'Y', 'uid', 'type']\"\n",
        "    assert evtnum < len(dataset), \"evtnum must be less than the number of events in the dataset\"\n",
        "\n",
        "    # Copy and process the event data\n",
        "    data_reshape = deepcopy(dataset[evtnum].numpy())\n",
        "    if PLOT_TYPE == 'RGB':\n",
        "        image_data = data_reshape[:, :, 0:3]\n",
        "    elif PLOT_TYPE == 'X':\n",
        "        image_data = data_reshape[:, :, 3]\n",
        "    elif PLOT_TYPE == 'Y':\n",
        "        image_data = data_reshape[:, :, 4]\n",
        "    elif PLOT_TYPE == 'uid':\n",
        "        image_data = data_reshape[:, :, 5]\n",
        "    elif PLOT_TYPE == 'type':\n",
        "        image_data = data_reshape[:, :, 6]\n",
        "\n",
        "    # Create the plot\n",
        "    fig, ax = plt.subplots(1, 1, figsize=(4, 4))\n",
        "    im = ax.imshow(image_data)  # Capture the image object\n",
        "    # Add a colorbar if the plot type is not RGB\n",
        "    if PLOT_TYPE != 'RGB':\n",
        "        fig.colorbar(im, ax=ax)\n",
        "    # Set the title based on the widget inputs\n",
        "    ax.set_title(f'Event: {evtnum} | Plot Type: {PLOT_TYPE}')\n",
        "    plt.tight_layout()\n",
        "    plt.show()\n",
        "\n",
        "# Update function for the widget\n",
        "def update_plot(event_num, plot_type):\n",
        "    plot_toy(dataset, event_num, plot_type)\n",
        "\n",
        "# Create the interactive widgets\n",
        "event_slider = widgets.IntSlider(\n",
        "    value=0,\n",
        "    min=0,\n",
        "    max=len(dataset)-1,\n",
        "    step=1,\n",
        "    description='Event Number:'\n",
        ")\n",
        "plot_type_dropdown = widgets.Dropdown(\n",
        "    options=['RGB', 'X', 'Y', 'uid', 'type'],\n",
        "    value='RGB',\n",
        "    description='Plot Type:'\n",
        ")\n",
        "\n",
        "# Link the widgets to the update function\n",
        "interactive_plot = interactive(update_plot, event_num=event_slider, plot_type=plot_type_dropdown)\n",
        "display(interactive_plot)"
      ],
      "metadata": {
        "colab": {
          "base_uri": "https://localhost:8080/",
          "height": 471,
          "referenced_widgets": [
            "551e680c6efc4e52ad421c257ccb77c5",
            "3954187e4d144ffbbde9f4b30c0cd7e4",
            "42251297dacd4e9683adc1f0097e1de2",
            "53ce9b0d7f6b47cd96de75fd62be2db2",
            "340e5f15a24f42d6a1ae7e44d32693c6",
            "3b2d46ac2bdd4a2582ac8fb900545dc3",
            "2a946c56a3f54f04bca63f52066ed784",
            "5703814de4fe44d5aa189b39178a01d1",
            "120f1585845741aa8f46e675b0de1af2",
            "1abc3ec7d87a43a3b3b3cf361ae82efb"
          ]
        },
        "id": "Kqi6gjgPP4-J",
        "outputId": "7fd74f3f-7c64-4d2d-f9cd-9e760181c0f9"
      },
      "execution_count": null,
      "outputs": [
        {
          "output_type": "display_data",
          "data": {
            "text/plain": [
              "interactive(children=(IntSlider(value=0, description='Event Number:', max=999), Dropdown(description='Plot Typ…"
            ],
            "application/vnd.jupyter.widget-view+json": {
              "version_major": 2,
              "version_minor": 0,
              "model_id": "551e680c6efc4e52ad421c257ccb77c5"
            }
          },
          "metadata": {}
        }
      ]
    },
    {
      "cell_type": "markdown",
      "source": [
        "Now that we are more familiar with our data, lets talk about what we will be doing. Our goal is to explore how object condensation can be used to perform clustering of these shapes. Using our own eyes, we can quite easily pick out how many shapes are in a given picture, AND what pixels belong to which shapes, simply by using the RGB. In fact, I suppose you could develop a really simple solution to the problem by sorting by unique RGB, but you may run into issues if you were to set `same_color=True` in the data generation stage.\n",
        "\n",
        "Lets walk towards the problem slowly. First, lets train a neural network to perform some simpler tasks.\n"
      ],
      "metadata": {
        "id": "8yioUx7CXYUt"
      }
    },
    {
      "cell_type": "markdown",
      "source": [
        "# Task A: Coverage\n",
        "\n",
        "One simple task we can aim to solve with AI is as follows:\n",
        "\n",
        "**Given**: A tensor of shape [32,32,3]\n",
        "\n",
        "**Predict**: The percentage of occupied space in the image.\n",
        "\n",
        "The reason why our tensor is now of shape [32,32,3] is that we only want our model to use the RGB of the pixels. We could also see what happens if we provide our model with [32,32,5] where we include the `x,y` features, but I will leave that up to you to experiment with. The key is not to provide the model with any identifying information, since that would be considered \"true\" info.\n",
        "\n",
        "The architecture we will build for this is a simple Convolutional Neural Network (CNN). The network will actually be fed an input with dimensions `(B,32,32,3)` where `B` is the batch size. If you are unfamiliar with CNNs, they form the backbone of both early and modern computer vision architectures. I would encourage you to read more about them here https://www.geeksforgeeks.org/introduction-convolution-neural-network/. You should be able to answer for yourself *what is receptive field?*, *what does changing the kernel size do?* and *why do we do max pooling?*\n",
        "\n",
        "First, lets get the `X` and `y` for the model. An important detail is that we set the background pixels to have an RGB of 0. The model will have a much more difficult time training if the background pixels have such a large signal value since \"white\" is (1,1,1). The only consequence of this is cosmetic. Now background pixels are **black**."
      ],
      "metadata": {
        "id": "2fZXx6PgYNif"
      }
    },
    {
      "cell_type": "code",
      "source": [
        "# Slice out the RGB columns\n",
        "X = np.array(dataset[...,:3])\n",
        "\n",
        "# Set white pixels to black\n",
        "X[dataset[...,5]==0] = 0\n",
        "\n",
        "# Get the coverage\n",
        "y = np.sum(dataset[...,5]!=0, axis=(1,2))/X.shape[1]**2\n",
        "\n",
        "# Print\n",
        "print(\"X.shape\", X.shape)\n",
        "print(\"y.shape\", y.shape)\n",
        "\n",
        "# Plot a random event with its coverage\n",
        "evtnum = np.random.randint(0, len(X))\n",
        "plt.imshow(X[evtnum])\n",
        "plt.title(f'Coverage: {y[evtnum]:.3f}')\n",
        "plt.show()"
      ],
      "metadata": {
        "colab": {
          "base_uri": "https://localhost:8080/",
          "height": 487
        },
        "id": "2VHXvVlwdiRG",
        "outputId": "106b43f7-a320-4508-db0d-047053009451"
      },
      "execution_count": null,
      "outputs": [
        {
          "output_type": "stream",
          "name": "stdout",
          "text": [
            "X.shape (1000, 32, 32, 3)\n",
            "y.shape (1000,)\n"
          ]
        },
        {
          "output_type": "display_data",
          "data": {
            "text/plain": [
              "<Figure size 640x480 with 1 Axes>"
            ],
            "image/png": "[encoded data removed]"
          },
          "metadata": {}
        }
      ]
    },
    {
      "cell_type": "markdown",
      "source": [
        "## Building a CNN\n",
        "\n",
        "Next we will construct a CNN using Tensorflow.\n",
        "\n",
        "The network combines convolutional layers with 3x3 kernels, 2x2 max pooling, and dropout. The model finishes with two dense layers, one with 128 nodes, and the final with 1.\n",
        "\n",
        "A sigmoid activation function is chosen on the final node to make sure the output is between 0 and 1."
      ],
      "metadata": {
        "id": "EI_OohhufQCD"
      }
    },
    {
      "cell_type": "code",
      "source": [
        "import tensorflow as tf\n",
        "from sklearn.model_selection import train_test_split\n",
        "\n",
        "class TaskA_CNN(tf.keras.Model):\n",
        "    def __init__(self):\n",
        "        super(TaskA_CNN, self).__init__()\n",
        "        # Convolutional and pooling layers with dropout\n",
        "        self.conv1 = tf.keras.layers.Conv2D(32, (3, 3), activation='relu')\n",
        "        self.pool1 = tf.keras.layers.MaxPooling2D(pool_size=(2, 2))\n",
        "        self.drop1 = tf.keras.layers.Dropout(0.1)\n",
        "\n",
        "        self.conv2 = tf.keras.layers.Conv2D(64, (3, 3), activation='relu')\n",
        "        self.pool2 = tf.keras.layers.MaxPooling2D(pool_size=(2, 2))\n",
        "        self.drop2 = tf.keras.layers.Dropout(0.1)\n",
        "\n",
        "        # Flatten and dense layers\n",
        "        self.flatten = tf.keras.layers.Flatten()\n",
        "        self.dense1 = tf.keras.layers.Dense(128, activation='relu')\n",
        "        self.drop3 = tf.keras.layers.Dropout(0.1)\n",
        "\n",
        "        # Output layer with sigmoid\n",
        "        # !!! This is done so the output is always between 0 and 1 !!!\n",
        "        self.out = tf.keras.layers.Dense(1, activation='sigmoid')\n",
        "\n",
        "    def call(self, x, training=False):\n",
        "        x = self.conv1(x) # output [B, W, H, 32]\n",
        "        x = self.pool1(x) # output [B, W/2, H/2, 32]\n",
        "        x = self.drop1(x, training=training)\n",
        "        x = self.conv2(x) # output [B, W/2, H/2, 64]\n",
        "        x = self.pool2(x) # output [B, W/4, H/4, 64]\n",
        "        x = self.drop2(x, training=training)\n",
        "        x = self.flatten(x) # output [B, W/4 * H/4 * 64]\n",
        "        x = self.dense1(x)  # output [B, 128]\n",
        "        x = self.drop3(x, training=training)\n",
        "        return self.out(x) # output [B,1]\n",
        "\n",
        "# Instantiate and build the model\n",
        "model = TaskA_CNN()"
      ],
      "metadata": {
        "id": "1L5HNu_xfUA7"
      },
      "execution_count": null,
      "outputs": []
    },
    {
      "cell_type": "markdown",
      "source": [
        "## Training"
      ],
      "metadata": {
        "id": "B_XDZVoAjV4_"
      }
    },
    {
      "cell_type": "code",
      "source": [
        "# Train test split\n",
        "X_train, X_test, y_train, y_test = train_test_split(X, y, test_size=0.2, random_state=42)\n",
        "\n",
        "# Mean squared error loss, adam optimizer\n",
        "model.compile(optimizer='adam', loss='mean_squared_error', metrics=['accuracy'])\n",
        "\n",
        "# Perform fit (save `history`)\n",
        "history = model.fit(\n",
        "    X_train, y_train,\n",
        "    validation_data=(X_test, y_test),\n",
        "    epochs=10,\n",
        "    batch_size=32\n",
        ")\n",
        "\n",
        "# Make predictions using the trained model\n",
        "y_pred = model.predict(X)"
      ],
      "metadata": {
        "colab": {
          "base_uri": "https://localhost:8080/"
        },
        "id": "B3KeOwDWf0vj",
        "outputId": "688fbcce-3064-4b15-b13d-b7cd81634443"
      },
      "execution_count": null,
      "outputs": [
        {
          "output_type": "stream",
          "name": "stdout",
          "text": [
            "Epoch 1/10\n",
            "\u001b[1m25/25\u001b[0m \u001b[32m━━━━━━━━━━━━━━━━━━━━\u001b[0m\u001b[37m\u001b[0m \u001b[1m4s\u001b[0m 54ms/step - loss: 0.0014 - mae: 0.0302 - val_loss: 0.0016 - val_mae: 0.0325\n",
            "Epoch 2/10\n",
            "\u001b[1m25/25\u001b[0m \u001b[32m━━━━━━━━━━━━━━━━━━━━\u001b[0m\u001b[37m\u001b[0m \u001b[1m1s\u001b[0m 52ms/step - loss: 0.0012 - mae: 0.0274 - val_loss: 0.0026 - val_mae: 0.0422\n",
            "Epoch 3/10\n",
            "\u001b[1m25/25\u001b[0m \u001b[32m━━━━━━━━━━━━━━━━━━━━\u001b[0m\u001b[37m\u001b[0m \u001b[1m3s\u001b[0m 54ms/step - loss: 0.0012 - mae: 0.0272 - val_loss: 0.0014 - val_mae: 0.0303\n",
            "Epoch 4/10\n",
            "\u001b[1m25/25\u001b[0m \u001b[32m━━━━━━━━━━━━━━━━━━━━\u001b[0m\u001b[37m\u001b[0m \u001b[1m1s\u001b[0m 53ms/step - loss: 8.5171e-04 - mae: 0.0231 - val_loss: 0.0014 - val_mae: 0.0311\n",
            "Epoch 5/10\n",
            "\u001b[1m25/25\u001b[0m \u001b[32m━━━━━━━━━━━━━━━━━━━━\u001b[0m\u001b[37m\u001b[0m \u001b[1m1s\u001b[0m 50ms/step - loss: 7.6033e-04 - mae: 0.0219 - val_loss: 0.0015 - val_mae: 0.0310\n",
            "Epoch 6/10\n",
            "\u001b[1m25/25\u001b[0m \u001b[32m━━━━━━━━━━━━━━━━━━━━\u001b[0m\u001b[37m\u001b[0m \u001b[1m3s\u001b[0m 85ms/step - loss: 8.0290e-04 - mae: 0.0227 - val_loss: 0.0016 - val_mae: 0.0319\n",
            "Epoch 7/10\n",
            "\u001b[1m25/25\u001b[0m \u001b[32m━━━━━━━━━━━━━━━━━━━━\u001b[0m\u001b[37m\u001b[0m \u001b[1m2s\u001b[0m 84ms/step - loss: 7.4333e-04 - mae: 0.0219 - val_loss: 0.0020 - val_mae: 0.0360\n",
            "Epoch 8/10\n",
            "\u001b[1m25/25\u001b[0m \u001b[32m━━━━━━━━━━━━━━━━━━━━\u001b[0m\u001b[37m\u001b[0m \u001b[1m2s\u001b[0m 79ms/step - loss: 7.8701e-04 - mae: 0.0224 - val_loss: 0.0013 - val_mae: 0.0290\n",
            "Epoch 9/10\n",
            "\u001b[1m25/25\u001b[0m \u001b[32m━━━━━━━━━━━━━━━━━━━━\u001b[0m\u001b[37m\u001b[0m \u001b[1m2s\u001b[0m 46ms/step - loss: 5.7671e-04 - mae: 0.0190 - val_loss: 0.0012 - val_mae: 0.0285\n",
            "Epoch 10/10\n",
            "\u001b[1m25/25\u001b[0m \u001b[32m━━━━━━━━━━━━━━━━━━━━\u001b[0m\u001b[37m\u001b[0m \u001b[1m2s\u001b[0m 60ms/step - loss: 4.7760e-04 - mae: 0.0174 - val_loss: 0.0012 - val_mae: 0.0285\n"
          ]
        }
      ]
    },
    {
      "cell_type": "markdown",
      "source": [
        "## Evaluating\n",
        "\n",
        "Here we show the loss as a function of training epoch."
      ],
      "metadata": {
        "id": "NM_T0lLvjadW"
      }
    },
    {
      "cell_type": "code",
      "source": [
        "plt.figure(figsize=(8, 4))\n",
        "plt.plot(history.history['loss'], label='Training Loss')\n",
        "plt.plot(history.history['val_loss'], label='Validation Loss')\n",
        "plt.title('Loss Over Epochs')\n",
        "plt.xlabel('Epoch')\n",
        "plt.ylabel('Loss')\n",
        "plt.legend()\n",
        "plt.show()"
      ],
      "metadata": {
        "colab": {
          "base_uri": "https://localhost:8080/",
          "height": 410
        },
        "id": "MPYwOl9DgMNx",
        "outputId": "bb2e8964-ae7e-4aff-e289-4473ea4d5d17"
      },
      "execution_count": null,
      "outputs": [
        {
          "output_type": "display_data",
          "data": {
            "text/plain": [
              "<Figure size 800x400 with 1 Axes>"
            ],
            "image/png": "[encoded data removed]"
          },
          "metadata": {}
        }
      ]
    },
    {
      "cell_type": "markdown",
      "source": [
        "In the plots below, we pick a random event and compare the image's actual coverage with the CNN prediction. We see fairly good agreement, which could be improved further with a larger training set, a deep model, and more epochs."
      ],
      "metadata": {
        "id": "584JubWajulA"
      }
    },
    {
      "cell_type": "code",
      "source": [
        "# Select a random event\n",
        "evtnum = np.random.randint(0, len(X))\n",
        "\n",
        "# Plot the image\n",
        "plt.imshow(X[evtnum])\n",
        "plt.title(f'True Coverage: {y[evtnum]:.3f} | Predicted Coverage: {y_pred[evtnum][0]:.3f}')\n",
        "plt.show()"
      ],
      "metadata": {
        "colab": {
          "base_uri": "https://localhost:8080/",
          "height": 452
        },
        "id": "jhbHcIyAj05H",
        "outputId": "486c2584-6071-41ae-bf97-7c2e77ab279a"
      },
      "execution_count": null,
      "outputs": [
        {
          "output_type": "display_data",
          "data": {
            "text/plain": [
              "<Figure size 640x480 with 1 Axes>"
            ],
            "image/png": "[encoded data removed]"
          },
          "metadata": {}
        }
      ]
    },
    {
      "cell_type": "markdown",
      "source": [
        "Lastly, we can generate a heat map of the *true* vs *predicted* coverage across all events."
      ],
      "metadata": {
        "id": "RGx6_DpOkKom"
      }
    },
    {
      "cell_type": "code",
      "source": [
        "# Create a 2D histogram\n",
        "plt.figure(figsize=(6, 5))\n",
        "plt.hist2d(np.array(y_true).flatten(), np.array(y_pred).flatten(), bins=50, cmap=\"rainbow\",cmin=1)\n",
        "\n",
        "# Add colorbar\n",
        "plt.colorbar(label=\"Counts\")\n",
        "\n",
        "# Labels and title\n",
        "plt.xlabel(\"True Coverage\")\n",
        "plt.ylabel(\"Predicted Coverage\")\n",
        "plt.title(\"True vs Predicted Coverage\")\n",
        "\n",
        "# Set background to white\n",
        "plt.gca().set_facecolor(\"white\")\n",
        "\n",
        "# Show plot\n",
        "plt.show()"
      ],
      "metadata": {
        "colab": {
          "base_uri": "https://localhost:8080/",
          "height": 487
        },
        "id": "XSP3N8tej1Hu",
        "outputId": "4a5c764a-1a39-449c-b88f-77d7367f088e"
      },
      "execution_count": null,
      "outputs": [
        {
          "output_type": "display_data",
          "data": {
            "text/plain": [
              "<Figure size 600x500 with 2 Axes>"
            ],
            "image/png": "[encoded data removed]"
          },
          "metadata": {}
        }
      ]
    },
    {
      "cell_type": "markdown",
      "source": [
        "If this is your first time seeing a CNN in action, perhaps you feel a bit unimpressed. *Shouldn't this have been more challenging?* We practically wrote 15 lines of code defining a model, a couple lines loading in some data, and a line to fit the data. *Where is the time sink?*\n",
        "\n",
        "As you will eventually learn yourself, *building* and *fitting* the model are the easy parts. Preparing the data, now that is the hard part. Also, knowing what model to use, or being able to have the contextual knowledge to know why your model isn't working, why it isn't learning what you want it to - **that** takes a lot of time.\n"
      ],
      "metadata": {
        "id": "i644epxmGDP7"
      }
    },
    {
      "cell_type": "markdown",
      "source": [
        "# Task B: Square hunting\n",
        "\n",
        "Another simple task we can aim to solve with AI is as follows:\n",
        "\n",
        "**Given**: A tensor of shape [32,32,3]\n",
        "\n",
        "**Predict**: Does the image contain a square (0 or 1)?\n",
        "\n",
        "This is a *classification* task, which implies we will need some sort of [LogLoss](https://scikit-learn.org/stable/modules/generated/sklearn.metrics.log_loss.html). However, the model infrastructure generally can remain the same. We still want, after all, the output of the CNN to be between 0 and 1.\n",
        "\n",
        "For this, we will be making a new dataset with two shapes per image to make the odds of not having a square larger.\n",
        "\n"
      ],
      "metadata": {
        "id": "YrzVzCKRlR16"
      }
    },
    {
      "cell_type": "markdown",
      "source": [
        "## New dataset"
      ],
      "metadata": {
        "id": "kZ4STMRNmrhE"
      }
    },
    {
      "cell_type": "code",
      "source": [
        "new_dataset = generate_dataset(num_images=num_images,\n",
        "                              image_size=(image_width,image_height),\n",
        "                              min_shapes=2,\n",
        "                              max_shapes=2,\n",
        "                              shape_size_range=shape_size_range,\n",
        "                              same_color=False, # True\n",
        "                              same_shape=None, # ['circle','triangle','square']\n",
        "                              shape_overlap_max=0.5)"
      ],
      "metadata": {
        "id": "zsnOl-Btmts7"
      },
      "execution_count": null,
      "outputs": []
    },
    {
      "cell_type": "code",
      "source": [
        "X = np.array(new_dataset[...,:3])\n",
        "X[new_dataset[...,5]==0] = 0\n",
        "y = np.any(new_dataset[...,6]==3, axis=(1,2)).astype(int)\n",
        "\n",
        "# Print\n",
        "print(\"X.shape\", X.shape)\n",
        "print(\"y.shape\", y.shape)\n",
        "\n",
        "# Plot a random event with whether or not it contains a square\n",
        "evtnum = np.random.randint(0, len(X))\n",
        "plt.imshow(X[evtnum])\n",
        "plt.title(f'Contains Square: {y[evtnum]}')\n",
        "plt.show()"
      ],
      "metadata": {
        "colab": {
          "base_uri": "https://localhost:8080/",
          "height": 487
        },
        "id": "5DpT-R7zl-Gg",
        "outputId": "9c88ebac-b191-41ee-94dc-ac058cabfe9c"
      },
      "execution_count": null,
      "outputs": [
        {
          "output_type": "stream",
          "name": "stdout",
          "text": [
            "X.shape (1000, 32, 32, 3)\n",
            "y.shape (1000,)\n"
          ]
        },
        {
          "output_type": "display_data",
          "data": {
            "text/plain": [
              "<Figure size 640x480 with 1 Axes>"
            ],
            "image/png": "[encoded data removed]"
          },
          "metadata": {}
        }
      ]
    },
    {
      "cell_type": "markdown",
      "source": [
        "## Building a CNN"
      ],
      "metadata": {
        "id": "ooM1q3lOnEXj"
      }
    },
    {
      "cell_type": "code",
      "source": [
        "class TaskB_CNN(tf.keras.Model):\n",
        "    def __init__(self):\n",
        "        super(TaskB_CNN, self).__init__()\n",
        "        # Convolutional and pooling layers with dropout\n",
        "        self.conv1 = tf.keras.layers.Conv2D(32, (3, 3), activation='relu')\n",
        "        self.pool1 = tf.keras.layers.MaxPooling2D(pool_size=(2, 2))\n",
        "        self.drop1 = tf.keras.layers.Dropout(0.1)\n",
        "\n",
        "        self.conv2 = tf.keras.layers.Conv2D(64, (3, 3), activation='relu')\n",
        "        self.pool2 = tf.keras.layers.MaxPooling2D(pool_size=(2, 2))\n",
        "        self.drop2 = tf.keras.layers.Dropout(0.1)\n",
        "\n",
        "        # Flatten and dense layers\n",
        "        self.flatten = tf.keras.layers.Flatten()\n",
        "        self.dense1 = tf.keras.layers.Dense(128, activation='relu')\n",
        "        self.drop3 = tf.keras.layers.Dropout(0.1)\n",
        "\n",
        "        # Output layer with sigmoid\n",
        "        # !!! This is done so the output is always between 0 and 1 !!!\n",
        "        self.out = tf.keras.layers.Dense(1, activation='sigmoid')\n",
        "\n",
        "    def call(self, x, training=False):\n",
        "        x = self.conv1(x) # output [B, W, H, 32]\n",
        "        x = self.pool1(x) # output [B, W/2, H/2, 32]\n",
        "        x = self.drop1(x, training=training)\n",
        "        x = self.conv2(x) # output [B, W/2, H/2, 64]\n",
        "        x = self.pool2(x) # output [B, W/4, H/4, 64]\n",
        "        x = self.drop2(x, training=training)\n",
        "        x = self.flatten(x) # output [B, W/4 * H/4 * 64]\n",
        "        x = self.dense1(x)  # output [B, 128]\n",
        "        x = self.drop3(x, training=training)\n",
        "        return self.out(x) # output [B,1]\n",
        "\n",
        "# Instantiate and build the model\n",
        "model = TaskB_CNN()"
      ],
      "metadata": {
        "id": "rWCVmvUslYR8"
      },
      "execution_count": null,
      "outputs": []
    },
    {
      "cell_type": "markdown",
      "source": [
        "## Training\n",
        "\n",
        "Here we are using a different `loss` function, the `binary_crossentropy`. This is used when we are dealing with a single-class classification problem where the true value is either 0 (no) or 1 (yes)."
      ],
      "metadata": {
        "id": "eFRkMPp_nG0i"
      }
    },
    {
      "cell_type": "code",
      "source": [
        "# Train test split\n",
        "X_train, X_test, y_train, y_test = train_test_split(X, y, test_size=0.2, random_state=42)\n",
        "\n",
        "# Binary cross entropy, adam optimizer\n",
        "model.compile(optimizer='adam', loss='binary_crossentropy', metrics=['accuracy'])\n",
        "\n",
        "# Perform fit (save `history`)\n",
        "history = model.fit(\n",
        "    X_train, y_train,\n",
        "    validation_data=(X_test, y_test),\n",
        "    epochs=25,\n",
        "    batch_size=32\n",
        ")\n",
        "\n",
        "# Make predictions using the trained model\n",
        "y_pred = model.predict(X)"
      ],
      "metadata": {
        "colab": {
          "base_uri": "https://localhost:8080/"
        },
        "id": "rBIV3jKClcD6",
        "outputId": "dee3f243-c8be-4108-be78-e98384f4cc7f"
      },
      "execution_count": null,
      "outputs": [
        {
          "output_type": "stream",
          "name": "stdout",
          "text": [
            "Epoch 1/10\n",
            "\u001b[1m25/25\u001b[0m \u001b[32m━━━━━━━━━━━━━━━━━━━━\u001b[0m\u001b[37m\u001b[0m \u001b[1m4s\u001b[0m 62ms/step - accuracy: 0.5806 - loss: 0.6890 - val_accuracy: 0.5900 - val_loss: 0.6617\n",
            "Epoch 2/10\n",
            "\u001b[1m25/25\u001b[0m \u001b[32m━━━━━━━━━━━━━━━━━━━━\u001b[0m\u001b[37m\u001b[0m \u001b[1m2s\u001b[0m 51ms/step - accuracy: 0.6340 - loss: 0.6227 - val_accuracy: 0.6850 - val_loss: 0.5988\n",
            "Epoch 3/10\n",
            "\u001b[1m25/25\u001b[0m \u001b[32m━━━━━━━━━━━━━━━━━━━━\u001b[0m\u001b[37m\u001b[0m \u001b[1m1s\u001b[0m 53ms/step - accuracy: 0.6789 - loss: 0.5657 - val_accuracy: 0.7600 - val_loss: 0.5073\n",
            "Epoch 4/10\n",
            "\u001b[1m25/25\u001b[0m \u001b[32m━━━━━━━━━━━━━━━━━━━━\u001b[0m\u001b[37m\u001b[0m \u001b[1m4s\u001b[0m 95ms/step - accuracy: 0.7492 - loss: 0.4916 - val_accuracy: 0.7600 - val_loss: 0.4740\n",
            "Epoch 5/10\n",
            "\u001b[1m25/25\u001b[0m \u001b[32m━━━━━━━━━━━━━━━━━━━━\u001b[0m\u001b[37m\u001b[0m \u001b[1m1s\u001b[0m 49ms/step - accuracy: 0.7895 - loss: 0.4405 - val_accuracy: 0.7550 - val_loss: 0.4643\n",
            "Epoch 6/10\n",
            "\u001b[1m25/25\u001b[0m \u001b[32m━━━━━━━━━━━━━━━━━━━━\u001b[0m\u001b[37m\u001b[0m \u001b[1m1s\u001b[0m 47ms/step - accuracy: 0.8645 - loss: 0.3275 - val_accuracy: 0.8450 - val_loss: 0.3536\n",
            "Epoch 7/10\n",
            "\u001b[1m25/25\u001b[0m \u001b[32m━━━━━━━━━━━━━━━━━━━━\u001b[0m\u001b[37m\u001b[0m \u001b[1m1s\u001b[0m 49ms/step - accuracy: 0.8985 - loss: 0.2681 - val_accuracy: 0.8500 - val_loss: 0.3847\n",
            "Epoch 8/10\n",
            "\u001b[1m25/25\u001b[0m \u001b[32m━━━━━━━━━━━━━━━━━━━━\u001b[0m\u001b[37m\u001b[0m \u001b[1m1s\u001b[0m 50ms/step - accuracy: 0.9222 - loss: 0.2246 - val_accuracy: 0.8350 - val_loss: 0.3986\n",
            "Epoch 9/10\n",
            "\u001b[1m25/25\u001b[0m \u001b[32m━━━━━━━━━━━━━━━━━━━━\u001b[0m\u001b[37m\u001b[0m \u001b[1m1s\u001b[0m 53ms/step - accuracy: 0.9042 - loss: 0.2433 - val_accuracy: 0.8550 - val_loss: 0.3278\n",
            "Epoch 10/10\n",
            "\u001b[1m25/25\u001b[0m \u001b[32m━━━━━━━━━━━━━━━━━━━━\u001b[0m\u001b[37m\u001b[0m \u001b[1m2s\u001b[0m 51ms/step - accuracy: 0.9355 - loss: 0.1752 - val_accuracy: 0.8750 - val_loss: 0.3170\n",
            "\u001b[1m32/32\u001b[0m \u001b[32m━━━━━━━━━━━━━━━━━━━━\u001b[0m\u001b[37m\u001b[0m \u001b[1m1s\u001b[0m 25ms/step\n"
          ]
        }
      ]
    },
    {
      "cell_type": "markdown",
      "source": [
        "## Evaluating"
      ],
      "metadata": {
        "id": "-FgsyDAnn1Kx"
      }
    },
    {
      "cell_type": "markdown",
      "source": [
        "Loss function"
      ],
      "metadata": {
        "id": "ozCLKf7roSqX"
      }
    },
    {
      "cell_type": "code",
      "source": [
        "# Plot the loss function of train and test vs. epoch\n",
        "plt.figure(figsize=(8, 4))\n",
        "plt.plot(history.history['loss'], label='Training Loss')\n",
        "plt.plot(history.history['val_loss'], label='Validation Loss')\n",
        "plt.title('Loss Over Epochs')\n",
        "plt.xlabel('Epoch')\n",
        "plt.ylabel('Loss')\n",
        "plt.legend()\n",
        "plt.show()"
      ],
      "metadata": {
        "colab": {
          "base_uri": "https://localhost:8080/",
          "height": 410
        },
        "id": "pvGx1lnunkYB",
        "outputId": "fb334826-6a3e-40a8-9565-797db006e12d"
      },
      "execution_count": null,
      "outputs": [
        {
          "output_type": "display_data",
          "data": {
            "text/plain": [
              "<Figure size 800x400 with 1 Axes>"
            ],
            "image/png": "[encoded data removed]"
          },
          "metadata": {}
        }
      ]
    },
    {
      "cell_type": "markdown",
      "source": [
        "Plotting the model output into a single histogram. As you can see, a majority of the events where a square is in the image have a very large model output, near 1. The fact that these two classes are well separated in the model output space demonstrates that the model has a strong discriminating power."
      ],
      "metadata": {
        "id": "Uvr-0p6Poby1"
      }
    },
    {
      "cell_type": "code",
      "source": [
        "# Plot model output into a histogram\n",
        "plt.hist(y_pred[y==0], bins=50, alpha=0.5, label='No Square')\n",
        "plt.hist(y_pred[y==1], bins=50, alpha=0.5, label='Square')\n",
        "plt.legend()\n",
        "plt.show()"
      ],
      "metadata": {
        "colab": {
          "base_uri": "https://localhost:8080/",
          "height": 430
        },
        "id": "jFIgZPOIogYn",
        "outputId": "d8e393ab-f566-4909-972b-be561d81cfae"
      },
      "execution_count": null,
      "outputs": [
        {
          "output_type": "display_data",
          "data": {
            "text/plain": [
              "<Figure size 640x480 with 1 Axes>"
            ],
            "image/png": "[encoded data removed]"
          },
          "metadata": {}
        }
      ]
    },
    {
      "cell_type": "markdown",
      "source": [
        "Plot the ROC curve. The ROC curve indicates how well a classifier performs at different threshold values. Depending on the threshold (minimum classifier output) chosen, the precision, accuracy, etc. of the model can change. As a basic example of this, consider the output `y=f(x)` of the classifier `f`. If we apply a cut of `y>0`, we effectively have perfect recall. However, the accuracy and precision will be poor.\n",
        "\n",
        "More information about ROC curves can be found here https://developers.google.com/machine-learning/crash-course/classification/roc-and-auc. The AUC or \"Area Under Curve\" is an important metric for determining the discriminating power of the model. An AUC above 0.9 indicates a strong model."
      ],
      "metadata": {
        "id": "-lXjvqrfoqGH"
      }
    },
    {
      "cell_type": "code",
      "source": [
        "# Plot the ROC curve and calculate the AUC\n",
        "from sklearn.metrics import roc_curve, auc\n",
        "\n",
        "fpr, tpr, thresholds = roc_curve(y, y_pred)\n",
        "roc_auc = auc(fpr, tpr)\n",
        "plt.plot(fpr, tpr, label='ROC Curve')\n",
        "\n",
        "plt.plot([0, 1], [0, 1], linestyle='--', label='Random Guess')\n",
        "plt.title(f'AUC = {roc_auc:.4f}')\n",
        "plt.legend()\n",
        "plt.xlabel('False Positive Rate')\n",
        "plt.ylabel('True Positive Rate')"
      ],
      "metadata": {
        "colab": {
          "base_uri": "https://localhost:8080/",
          "height": 489
        },
        "id": "2wfisVrmpHWv",
        "outputId": "bf4e2466-9fc1-4c8b-d889-6f65f5812efb"
      },
      "execution_count": null,
      "outputs": [
        {
          "output_type": "execute_result",
          "data": {
            "text/plain": [
              "Text(0, 0.5, 'True Positive Rate')"
            ]
          },
          "metadata": {},
          "execution_count": 112
        },
        {
          "output_type": "display_data",
          "data": {
            "text/plain": [
              "<Figure size 640x480 with 1 Axes>"
            ],
            "image/png": "[encoded data removed]"
          },
          "metadata": {}
        }
      ]
    },
    {
      "cell_type": "markdown",
      "source": [
        "Plotting a random event and comparing the model predictions."
      ],
      "metadata": {
        "id": "zjPtcPi2oVTS"
      }
    },
    {
      "cell_type": "code",
      "source": [
        "# Plot a random event and show if the model predicts a square\n",
        "evtnum = np.random.randint(0, len(X))\n",
        "plt.imshow(X[evtnum])\n",
        "plt.title(f'Contains Square: {y[evtnum]} | Predicted: {y_pred[evtnum][0]:.3f}')\n",
        "plt.show()"
      ],
      "metadata": {
        "colab": {
          "base_uri": "https://localhost:8080/",
          "height": 452
        },
        "id": "Nfj3wVCun8Yi",
        "outputId": "49958e4c-083a-413d-fa6f-1a9f959a680f"
      },
      "execution_count": null,
      "outputs": [
        {
          "output_type": "display_data",
          "data": {
            "text/plain": [
              "<Figure size 640x480 with 1 Axes>"
            ],
            "image/png": "[encoded data removed]"
          },
          "metadata": {}
        }
      ]
    },
    {
      "cell_type": "markdown",
      "source": [
        "Lastly, **and what I feel is always best to check**, is what events have *the largest loss*. Understanding why an event's loss is large is critical for understanding how to improve your model, or to recognize why it might fail.\n",
        "\n",
        "Based on these plots, it is not immediately clear to me why the model feels so strongly that there is a square. It might be worth noting that for these cases, the shapes fall partly outside the grid."
      ],
      "metadata": {
        "id": "b8P-JwXfp7C-"
      }
    },
    {
      "cell_type": "code",
      "source": [
        "# Plot the 3 events whose loss is the largest\n",
        "loss = tf.keras.losses.BinaryCrossentropy()\n",
        "losses = [loss(y[i:i+1],y_pred[i:i+1]) for i in range(len(y))]\n",
        "for evtnum in np.argsort(losses)[-3:]:\n",
        "    plt.imshow(X[evtnum])\n",
        "    plt.title(f'Contains Square: {y[evtnum]} | Predicted: {y_pred[evtnum][0]:.3f}\\n Loss = {losses[evtnum]:.2f}')\n",
        "    plt.show()"
      ],
      "metadata": {
        "colab": {
          "base_uri": "https://localhost:8080/",
          "height": 1000
        },
        "id": "kurySAwnoNc7",
        "outputId": "337d4a8d-b3c8-46dc-d8dd-7b12355a1f53"
      },
      "execution_count": null,
      "outputs": [
        {
          "output_type": "display_data",
          "data": {
            "text/plain": [
              "<Figure size 640x480 with 1 Axes>"
            ],
            "image/png": "[encoded data removed]"
          },
          "metadata": {}
        },
        {
          "output_type": "display_data",
          "data": {
            "text/plain": [
              "<Figure size 640x480 with 1 Axes>"
            ],
            "image/png": "[encoded data removed]"
          },
          "metadata": {}
        },
        {
          "output_type": "display_data",
          "data": {
            "text/plain": [
              "<Figure size 640x480 with 1 Axes>"
            ],
            "image/png": "[encoded data removed]"
          },
          "metadata": {}
        }
      ]
    },
    {
      "cell_type": "markdown",
      "source": [
        "# Task C: Object Condensation\n",
        "\n",
        "At this stage, it is time to approach the clustering problem head on. The problem statement is as follows:\n",
        "\n",
        "**Given**: An input image of size [32,32,3].\n",
        "\n",
        "**Predict**: Which pixels belong to the same shape.\n",
        "\n",
        "As you might be able to tell, this is a drastically different expectation than tasks A and B. For starters, those two tasks only asked for a single output per image. That meant that the final node of our network could be of size 1, without issue. However, now we are essentially demanding one prediction for each of the pixels. That is quite challenging for our simple CNN to wrap its mind around.\n",
        "\n",
        "Another challenge is scope. Imagine a training sample with a maximum of 8 shapes per image. Even if our model could perfectly fit the training set, we must have a method we are confident in to solve cases with more than 8 shapes. We do not want it to fail the moment we ask it to find potentially 9 or more clusters.\n",
        "\n",
        "The solution to the problem lies in the definition of the loss function. The loss function in Task A was mean-squared error (common in regression tasks) and the loss function in Task B was binary cross entropy (common in classification tasks). To solve the clustering problem, this paper https://arxiv.org/abs/2002.03605 developed a new loss function that a neural network may want to minimize - the object condensation loss\n",
        "\n",
        "## What is the Object Condensation Loss Function(s)?\n",
        "\n",
        "The object condensation loss is calculated from the output of some neural network. In object condensation, each pixel (whether it is background or not) *learns* a confidence/brightness value $\\beta$ (between 0 and 1) and a location in a latent space. This latent space, for our case, has dimension 2.\n",
        "\n",
        "The main idea is that all pixels belonging to the same object are mapped to the same point in this latent space. These pixels are huddled together in the latent space. Pixels belongning to different objects are encouraged to spread apart from one another. This way, a perfectly trained model that minimizes the object condensation loss produces a latent space that is inherently pre-clustered.\n",
        "\n",
        "Let us see this in action. In the widget below, we simply generate a square (left), and then map each pixel of that square to a point in the latent space (right)."
      ],
      "metadata": {
        "id": "dV5JB1fSr2vy"
      }
    },
    {
      "cell_type": "markdown",
      "source": [
        "### Object Condensation Schematic 1"
      ],
      "metadata": {
        "id": "Ki911rwh0hK0"
      }
    },
    {
      "cell_type": "code",
      "source": [
        "# Global flags and storage for square and dot positions\n",
        "left_drawn = False\n",
        "right_drawn = False\n",
        "red_square_coords = None\n",
        "red_dots_coords = None  # will store a tuple (x_array, y_array) for red dots\n",
        "\n",
        "def update_plot():\n",
        "    clear_output(wait=True)\n",
        "    # Create a new figure with two subplots\n",
        "    fig, (ax_left, ax_right) = plt.subplots(1, 2, figsize=(10, 5))\n",
        "\n",
        "    # Create a white 64x64 RGB image for both subplots\n",
        "    white_img = np.ones((64, 64, 3))\n",
        "\n",
        "    # Set each axes background to white\n",
        "    ax_left.set_facecolor('white')\n",
        "    ax_right.set_facecolor('white')\n",
        "\n",
        "    # Display the white image with an extent to set the axes limits from 0 to 64\n",
        "    ax_left.imshow(white_img, extent=[0, 64, 0, 64])\n",
        "    ax_right.imshow(white_img, extent=[0, 64, 0, 64])\n",
        "\n",
        "    # Remove axis ticks for a cleaner look\n",
        "    for ax in (ax_left, ax_right):\n",
        "        ax.set_xticks([])\n",
        "        ax.set_yticks([])\n",
        "\n",
        "    # Draw the red square in the left subplot if triggered\n",
        "    if left_drawn and red_square_coords is not None:\n",
        "        x, y = red_square_coords\n",
        "        square_left = patches.Rectangle((x, y), 10, 10, edgecolor='red', facecolor='red', lw=2)\n",
        "        ax_left.add_patch(square_left)\n",
        "\n",
        "    # Draw 100 red dots in the right subplot if triggered\n",
        "    if right_drawn and red_dots_coords is not None:\n",
        "        x_vals, y_vals = red_dots_coords\n",
        "        ax_right.scatter(x_vals, y_vals, color='red', s=20)  # s sets the marker size\n",
        "\n",
        "    # Re-display the buttons (they get cleared with clear_output)\n",
        "    display(button_left, button_right)\n",
        "\n",
        "    # Finally, show the updated figure\n",
        "    plt.show()\n",
        "\n",
        "def on_button1_clicked(b):\n",
        "    global left_drawn, red_square_coords, right_drawn, red_dots_coords\n",
        "    left_drawn = True\n",
        "    # When a new red square is created, clear any existing scatter data.\n",
        "    right_drawn = False\n",
        "    red_dots_coords = None\n",
        "    # Generate new random coordinates for the red square ensuring it fits within 64x64.\n",
        "    red_square_coords = (np.random.randint(0, 64 - 10), np.random.randint(0, 64 - 10))\n",
        "    update_plot()\n",
        "\n",
        "def on_button2_clicked(b):\n",
        "    global right_drawn, red_dots_coords\n",
        "    # Scatter only if there is an active red square.\n",
        "    if not left_drawn or red_square_coords is None:\n",
        "        return\n",
        "    right_drawn = True\n",
        "    # Generate 100 random (x, y) positions for red dots within the 64x64 area.\n",
        "    x_vals = np.random.uniform(0, 64, 100)\n",
        "    y_vals = np.random.uniform(0, 64, 100)\n",
        "    red_dots_coords = (x_vals, y_vals)\n",
        "    update_plot()\n",
        "\n",
        "# Create the buttons\n",
        "button_left = widgets.Button(description=\"1) Make square\",layout=widgets.Layout(width='200px'))\n",
        "button_right = widgets.Button(description=\"2) Map to latent space\",layout=widgets.Layout(width='200px'))\n",
        "\n",
        "# Link the buttons to their corresponding functions\n",
        "button_left.on_click(on_button1_clicked)\n",
        "button_right.on_click(on_button2_clicked)\n",
        "\n",
        "# Display the initial plot and buttons\n",
        "update_plot()"
      ],
      "metadata": {
        "colab": {
          "base_uri": "https://localhost:8080/",
          "height": 453,
          "referenced_widgets": [
            "f728912c9d664b478da7a2310d594972",
            "222135b7086940d79f0f3a76ddf5b876",
            "16690e3a8d1d475b8ccec3d39238e714",
            "5ad3b6ab6c5f4e6582baa0592577a73d",
            "95315daf73f3482a9fc020ae768fc2bc",
            "4442312e0c114a07a0ee1bc9ba2b6f8b"
          ]
        },
        "id": "Fb5iufUpr68Q",
        "outputId": "127f8270-b216-4357-e403-50196e77b4fe"
      },
      "execution_count": null,
      "outputs": [
        {
          "output_type": "display_data",
          "data": {
            "text/plain": [
              "Button(description='1) Make square', layout=Layout(width='200px'), style=ButtonStyle())"
            ],
            "application/vnd.jupyter.widget-view+json": {
              "version_major": 2,
              "version_minor": 0,
              "model_id": "f728912c9d664b478da7a2310d594972"
            }
          },
          "metadata": {}
        },
        {
          "output_type": "display_data",
          "data": {
            "text/plain": [
              "Button(description='2) Map to latent space', layout=Layout(width='200px'), style=ButtonStyle())"
            ],
            "application/vnd.jupyter.widget-view+json": {
              "version_major": 2,
              "version_minor": 0,
              "model_id": "5ad3b6ab6c5f4e6582baa0592577a73d"
            }
          },
          "metadata": {}
        },
        {
          "output_type": "display_data",
          "data": {
            "text/plain": [
              "<Figure size 1000x500 with 2 Axes>"
            ],
            "image/png": "[encoded data removed]"
          },
          "metadata": {}
        }
      ]
    },
    {
      "cell_type": "markdown",
      "source": [
        "When clicking \"Map to latent space\", we see that the points just randomly fill the 2-d latent space. Remember, each of those red dots is supposed to represent a pixel on the left plot. What we want is for the red dots on the right to merge together. *Object condensation defines an 'attractive loss' term that rewards the model for mapping points belonging to the same object to the same location in the latent space*.\n",
        "\n",
        "### Object Condensation Schematic 2\n",
        "\n",
        "How does it do this? First, lets revisit the $\\beta$ term. This term, called the confidence value, determines (in an abstract sense) how likely this particular pixel **represents** the object. Lets let $\\beta$ be associated with \"brightness\" or in this case \"opacity\" of the right plot. There is a loss term in object condensation that *rewards the model for having one bright $\\beta$ per object*. This term, called the **coward loss** , is minimized (technically) if all pixels have a $\\beta=1$. However, due to how $\\beta$ is folded into other terms in the loss function, its actually advantageous for the model to learn only 1 bright $\\beta$. Lets see that in action.\n"
      ],
      "metadata": {
        "id": "spQj8_e7zdK5"
      }
    },
    {
      "cell_type": "code",
      "source": [
        "# Global flags and storage for square and dot positions\n",
        "left_drawn = False\n",
        "right_drawn = False\n",
        "red_square_coords = None\n",
        "red_dots_coords = None  # will store a tuple (x_array, y_array) for red dots\n",
        "minimize_loss_called = False  # flag to indicate the third button was pressed\n",
        "\n",
        "def update_plot():\n",
        "    clear_output(wait=True)\n",
        "    # Create a new figure with two subplots\n",
        "    fig, (ax_left, ax_right) = plt.subplots(1, 2, figsize=(10, 5))\n",
        "\n",
        "    # Create a white 64x64 RGB image for both subplots\n",
        "    white_img = np.ones((64, 64, 3))\n",
        "\n",
        "    # Set each axes background to white\n",
        "    ax_left.set_facecolor('white')\n",
        "    ax_right.set_facecolor('white')\n",
        "\n",
        "    # Display the white image with an extent to set the axes limits from 0 to 64\n",
        "    ax_left.imshow(white_img, extent=[0, 64, 0, 64])\n",
        "    ax_right.imshow(white_img, extent=[-10, 74, -10, 74])\n",
        "\n",
        "    # Remove axis ticks for a cleaner look\n",
        "    for ax in (ax_left, ax_right):\n",
        "        ax.set_xticks([])\n",
        "        ax.set_yticks([])\n",
        "\n",
        "    # Draw the red square in the left subplot if triggered\n",
        "    if left_drawn and red_square_coords is not None:\n",
        "        x, y = red_square_coords\n",
        "        square_left = patches.Rectangle((x, y), 10, 10, edgecolor='red', facecolor='red', lw=2)\n",
        "        ax_left.add_patch(square_left)\n",
        "\n",
        "    # Draw red dots in the right subplot if triggered\n",
        "    if right_drawn and red_dots_coords is not None:\n",
        "        x_vals, y_vals = red_dots_coords\n",
        "        if minimize_loss_called:\n",
        "            # Redraw with new alpha: first point alpha=1, others alpha=0.2\n",
        "            ax_right.scatter(x_vals[0:1], y_vals[0:1], color='red', s=20, alpha=1)\n",
        "            ax_right.scatter(x_vals[1:], y_vals[1:], color='red', s=20, alpha=0.2)\n",
        "        else:\n",
        "            ax_right.scatter(x_vals, y_vals, color='red', s=20)\n",
        "\n",
        "    # Re-display the buttons (they get cleared with clear_output)\n",
        "    display(button_left, button_right, button_three)\n",
        "\n",
        "    # Finally, show the updated figure\n",
        "    plt.show()\n",
        "\n",
        "def on_button1_clicked(b):\n",
        "    global left_drawn, red_square_coords, right_drawn, red_dots_coords, minimize_loss_called\n",
        "    left_drawn = True\n",
        "    # When a new red square is created, clear any existing scatter data and reset the minimize flag.\n",
        "    right_drawn = False\n",
        "    red_dots_coords = None\n",
        "    minimize_loss_called = False\n",
        "    # Generate new random coordinates for the red square ensuring it fits within 64x64.\n",
        "    red_square_coords = (np.random.randint(0, 64 - 10), np.random.randint(0, 64 - 10))\n",
        "    update_plot()\n",
        "\n",
        "def on_button2_clicked(b):\n",
        "    global right_drawn, red_dots_coords, minimize_loss_called\n",
        "    # Scatter only if there is an active red square.\n",
        "    if not left_drawn or red_square_coords is None:\n",
        "        return\n",
        "    right_drawn = True\n",
        "    # Reset minimize flag if scatter is re-called.\n",
        "    minimize_loss_called = False\n",
        "    # Generate 100 random (x, y) positions for red dots within the 64x64 area.\n",
        "    x_vals = np.random.uniform(0, 64, 100)\n",
        "    y_vals = np.random.uniform(0, 64, 100)\n",
        "    red_dots_coords = (x_vals, y_vals)\n",
        "    update_plot()\n",
        "\n",
        "def on_button3_clicked(b):\n",
        "    global minimize_loss_called\n",
        "    # \"Minimize coward loss\": only works if scatter data exists.\n",
        "    if not right_drawn or red_dots_coords is None:\n",
        "        return\n",
        "    minimize_loss_called = True\n",
        "    update_plot()\n",
        "\n",
        "# Create the buttons\n",
        "button_left = widgets.Button(description=\"1) Make square\",layout=widgets.Layout(width='200px'))\n",
        "button_right = widgets.Button(description=\"2) Map to latent space\",layout=widgets.Layout(width='200px'))\n",
        "button_three = widgets.Button(description=\"3) Minimize coward loss\",layout=widgets.Layout(width='200px'))\n",
        "\n",
        "# Link the buttons to their corresponding functions\n",
        "button_left.on_click(on_button1_clicked)\n",
        "button_right.on_click(on_button2_clicked)\n",
        "button_three.on_click(on_button3_clicked)\n",
        "\n",
        "# Display the initial plot and buttons\n",
        "update_plot()\n"
      ],
      "metadata": {
        "colab": {
          "base_uri": "https://localhost:8080/",
          "height": 485,
          "referenced_widgets": [
            "6cc781a8fae24055abe9fb0b95d2603b",
            "800a24ed556d4bec926ed8968ce6a9e8",
            "5f137aee15d1421a828e52d822930bca",
            "de8ba8b64fe842ec94e705b194b6150d",
            "ade181656fd3494ba7f7332e17957619",
            "06c6878de95a4b32b9fe4fd90afad8c5",
            "6b2972ed8ef4455db1edb3551272ce75",
            "92b396050c9d4cd7881ffd02d1f26a8c",
            "6541593162ec476bb5e5d27d845e78af"
          ]
        },
        "id": "PWoREapovRN5",
        "outputId": "b6f77b20-ff6d-4178-b353-0ab246ee7a17"
      },
      "execution_count": null,
      "outputs": [
        {
          "output_type": "display_data",
          "data": {
            "text/plain": [
              "Button(description='1) Make square', layout=Layout(width='200px'), style=ButtonStyle())"
            ],
            "application/vnd.jupyter.widget-view+json": {
              "version_major": 2,
              "version_minor": 0,
              "model_id": "6cc781a8fae24055abe9fb0b95d2603b"
            }
          },
          "metadata": {}
        },
        {
          "output_type": "display_data",
          "data": {
            "text/plain": [
              "Button(description='2) Map to latent space', layout=Layout(width='200px'), style=ButtonStyle())"
            ],
            "application/vnd.jupyter.widget-view+json": {
              "version_major": 2,
              "version_minor": 0,
              "model_id": "de8ba8b64fe842ec94e705b194b6150d"
            }
          },
          "metadata": {}
        },
        {
          "output_type": "display_data",
          "data": {
            "text/plain": [
              "Button(description='3) Minimize coward loss', layout=Layout(width='200px'), style=ButtonStyle())"
            ],
            "application/vnd.jupyter.widget-view+json": {
              "version_major": 2,
              "version_minor": 0,
              "model_id": "6b2972ed8ef4455db1edb3551272ce75"
            }
          },
          "metadata": {}
        },
        {
          "output_type": "display_data",
          "data": {
            "text/plain": [
              "<Figure size 1000x500 with 2 Axes>"
            ],
            "image/png": "[encoded data removed]"
          },
          "metadata": {}
        }
      ]
    },
    {
      "cell_type": "markdown",
      "source": [
        "### Object Condensation Schematic 3"
      ],
      "metadata": {
        "id": "xU4bdogr3rjA"
      }
    },
    {
      "cell_type": "markdown",
      "source": [
        "Now we are ready to understand how object condensation encourages clustering. For each object, the **attractive loss** is calculated by summing the distance between the *condensation point* (in our case the point with the highest $\\beta$) and the remaining points. It is thus minimized as the points are drawn towards one another. The reason why points gravitate towards one condensation point rather than each other is due to computational overhead.\n",
        "\n",
        "Next, play with the widget below by making a red square, mapping to the latent space, highlighting the brightest $\\beta$, and then clicking the 4th button. With each press of the fourth button, we imagine the object condensation loss, when calculated, gets lower and lower"
      ],
      "metadata": {
        "id": "Ip5fBid_1-2M"
      }
    },
    {
      "cell_type": "code",
      "source": [
        "# Global flags and storage for square and dot positions\n",
        "left_drawn = False\n",
        "right_drawn = False\n",
        "red_square_coords = None\n",
        "red_dots_coords = None  # will store a tuple (x_array, y_array) for red dots\n",
        "minimize_loss_called = False  # flag to indicate the third button was pressed\n",
        "\n",
        "def update_plot():\n",
        "    clear_output(wait=True)\n",
        "    # Create a new figure with two subplots\n",
        "    fig, (ax_left, ax_right) = plt.subplots(1, 2, figsize=(10, 5))\n",
        "\n",
        "    # Create a white 64x64 RGB image for both subplots\n",
        "    white_img = np.ones((64, 64, 3))\n",
        "\n",
        "    # Set each axes background to white\n",
        "    ax_left.set_facecolor('white')\n",
        "    ax_right.set_facecolor('white')\n",
        "\n",
        "    # Display the white image with an extent to set the axes limits\n",
        "    ax_left.imshow(white_img, extent=[0, 64, 0, 64])\n",
        "    ax_right.imshow(white_img, extent=[-10, 74, -10, 74])\n",
        "\n",
        "    # Remove axis ticks for a cleaner look\n",
        "    for ax in (ax_left, ax_right):\n",
        "        ax.set_xticks([])\n",
        "        ax.set_yticks([])\n",
        "\n",
        "    # Draw the red square in the left subplot if triggered\n",
        "    if left_drawn and red_square_coords is not None:\n",
        "        x, y = red_square_coords\n",
        "        square_left = patches.Rectangle((x, y), 10, 10, edgecolor='red', facecolor='red', lw=2)\n",
        "        ax_left.add_patch(square_left)\n",
        "\n",
        "    # Draw red dots in the right subplot if triggered\n",
        "    if right_drawn and red_dots_coords is not None:\n",
        "        x_vals, y_vals = red_dots_coords\n",
        "        if minimize_loss_called:\n",
        "            # First dot (bright red) at full opacity; others at alpha 0.1.\n",
        "            ax_right.scatter(x_vals[0:1], y_vals[0:1], color='red', s=20, alpha=1)\n",
        "            ax_right.scatter(x_vals[1:], y_vals[1:], color='red', s=20, alpha=0.1)\n",
        "        else:\n",
        "            ax_right.scatter(x_vals, y_vals, color='red', s=20)\n",
        "\n",
        "    # Re-display the buttons (they get cleared with clear_output)\n",
        "    display(button_left, button_right, button_three, button_four)\n",
        "\n",
        "    # Finally, show the updated figure\n",
        "    plt.show()\n",
        "\n",
        "def on_button1_clicked(b):\n",
        "    global left_drawn, red_square_coords, right_drawn, red_dots_coords, minimize_loss_called\n",
        "    left_drawn = True\n",
        "    # When a new red square is created, clear any existing scatter data and reset the minimize flag.\n",
        "    right_drawn = False\n",
        "    red_dots_coords = None\n",
        "    minimize_loss_called = False\n",
        "    # Generate new random coordinates for the red square ensuring it fits within 64x64.\n",
        "    red_square_coords = (np.random.randint(0, 64 - 10), np.random.randint(0, 64 - 10))\n",
        "    update_plot()\n",
        "\n",
        "def on_button2_clicked(b):\n",
        "    global right_drawn, red_dots_coords, minimize_loss_called\n",
        "    # Scatter only if there is an active red square.\n",
        "    if not left_drawn or red_square_coords is None:\n",
        "        return\n",
        "    right_drawn = True\n",
        "    # Reset minimize flag if scatter is re-called.\n",
        "    minimize_loss_called = False\n",
        "    # Generate 100 random (x, y) positions for red dots within the 64x64 area.\n",
        "    x_vals = np.random.uniform(0, 64, 100)\n",
        "    y_vals = np.random.uniform(0, 64, 100)\n",
        "    red_dots_coords = (x_vals, y_vals)\n",
        "    update_plot()\n",
        "\n",
        "def on_button3_clicked(b):\n",
        "    global minimize_loss_called\n",
        "    # \"Minimize coward loss\": only works if scatter data exists.\n",
        "    if not right_drawn or red_dots_coords is None:\n",
        "        return\n",
        "    minimize_loss_called = True\n",
        "    update_plot()\n",
        "\n",
        "def on_button4_clicked(b):\n",
        "    global red_dots_coords\n",
        "    # \"Minimize attractive loss\": move all red dots 25% closer to the bright red dot.\n",
        "    # Only works if scatter data exists.\n",
        "    if not right_drawn or red_dots_coords is None:\n",
        "        return\n",
        "    x_vals, y_vals = red_dots_coords\n",
        "    # Use the bright red dot (first dot) as the anchor.\n",
        "    bright_x, bright_y = x_vals[0], y_vals[0]\n",
        "    # Move all dots 25% closer to the bright dot:\n",
        "    new_x_vals = bright_x + 0.75 * (x_vals - bright_x)\n",
        "    new_y_vals = bright_y + 0.75 * (y_vals - bright_y)\n",
        "    red_dots_coords = (new_x_vals, new_y_vals)\n",
        "    update_plot()\n",
        "\n",
        "# Create the buttons with a wider layout.\n",
        "button_left = widgets.Button(description=\"1) Make square\", layout=widgets.Layout(width='200px'))\n",
        "button_right = widgets.Button(description=\"2) Map to latent space\", layout=widgets.Layout(width='200px'))\n",
        "button_three = widgets.Button(description=\"3) Minimize coward loss\", layout=widgets.Layout(width='200px'))\n",
        "button_four = widgets.Button(description=\"4) Minimize attractive loss\", layout=widgets.Layout(width='200px'))\n",
        "\n",
        "# Link the buttons to their corresponding functions\n",
        "button_left.on_click(on_button1_clicked)\n",
        "button_right.on_click(on_button2_clicked)\n",
        "button_three.on_click(on_button3_clicked)\n",
        "button_four.on_click(on_button4_clicked)\n",
        "\n",
        "# Display the initial plot and buttons\n",
        "update_plot()"
      ],
      "metadata": {
        "colab": {
          "base_uri": "https://localhost:8080/",
          "height": 517,
          "referenced_widgets": [
            "f37157e3e75049b09a802281e26a9327",
            "64c21a94539e438599449ecf14d8e47f",
            "f49b9c8b13bd4b27b14a67c1392cd98f",
            "3b497adf44aa45b58acb2d5391c4a563",
            "a195412d0d44417093bcfb08852153d5",
            "91c463bda4bb4c40b6637f3c19cf9417",
            "628a4bd725df45b2b7130e2e2411a73b",
            "a21c05a617f0416089703236575964d6",
            "bd34054b8ee946e08df62058c56e6bbf",
            "721e0ff45505400984940d4d56d3558b",
            "a970699f68fc424f93dc260eb3262a64",
            "f20118153f034131b0ce3da3d2b4b775"
          ]
        },
        "id": "kDYvx2mE2gWT",
        "outputId": "cf37aeb0-7fa4-45a6-a413-8d2bece667b4"
      },
      "execution_count": null,
      "outputs": [
        {
          "output_type": "display_data",
          "data": {
            "text/plain": [
              "Button(description='1) Make square', layout=Layout(width='200px'), style=ButtonStyle())"
            ],
            "application/vnd.jupyter.widget-view+json": {
              "version_major": 2,
              "version_minor": 0,
              "model_id": "f37157e3e75049b09a802281e26a9327"
            }
          },
          "metadata": {}
        },
        {
          "output_type": "display_data",
          "data": {
            "text/plain": [
              "Button(description='2) Map to latent space', layout=Layout(width='200px'), style=ButtonStyle())"
            ],
            "application/vnd.jupyter.widget-view+json": {
              "version_major": 2,
              "version_minor": 0,
              "model_id": "3b497adf44aa45b58acb2d5391c4a563"
            }
          },
          "metadata": {}
        },
        {
          "output_type": "display_data",
          "data": {
            "text/plain": [
              "Button(description='3) Minimize coward loss', layout=Layout(width='200px'), style=ButtonStyle())"
            ],
            "application/vnd.jupyter.widget-view+json": {
              "version_major": 2,
              "version_minor": 0,
              "model_id": "628a4bd725df45b2b7130e2e2411a73b"
            }
          },
          "metadata": {}
        },
        {
          "output_type": "display_data",
          "data": {
            "text/plain": [
              "Button(description='4) Minimize attractive loss', layout=Layout(width='200px'), style=ButtonStyle())"
            ],
            "application/vnd.jupyter.widget-view+json": {
              "version_major": 2,
              "version_minor": 0,
              "model_id": "721e0ff45505400984940d4d56d3558b"
            }
          },
          "metadata": {}
        },
        {
          "output_type": "display_data",
          "data": {
            "text/plain": [
              "<Figure size 1000x500 with 2 Axes>"
            ],
            "image/png": "[encoded data removed]"
          },
          "metadata": {}
        }
      ]
    },
    {
      "cell_type": "markdown",
      "source": [
        "### Object Condensation Schematic 4\n",
        "\n",
        "Now, we will explore what happens when we have multiple objects. We generate both a red and blue square in the next widget.\n",
        "\n",
        "We want the model to identify one condensation point for each object, which is why *Minimize coward loss* will create only one bright red and one bright blue point.\n",
        "\n",
        "We also want the attractive loss for each object to be separately minimized. We want the red dots to collect near their red condensation point, and the blue dots to collect near their blue condensation point.\n",
        "\n",
        "We also want to encourage an additional behavior - repulsion. We do not want the red points to be anywhere near the blue condensation point, and vice versa. To encourage this, a **repulsive** loss term is defined by object condensation.\n",
        "\n",
        "In the following widget, we see this in action. You can press buttons 1,2,3 as before, and then flip between pressing buttons 4 and 5 to see the impact of attraction and repulsion separately in the latent space. You can even set `COLORS` to a much longer array of colors to see more action!"
      ],
      "metadata": {
        "id": "qNhh0nZw3ypu"
      }
    },
    {
      "cell_type": "code",
      "source": [
        "# List of colors for flexibility – add as many colors as needed.\n",
        "# COLORS = ['red', 'blue']  # For example, change to ['red', 'blue', 'green', 'orange'] for 4 squares\n",
        "COLORS = ['red', 'blue', 'green', 'orange', 'purple', 'cyan', 'magenta', 'yellow', 'brown', 'pink']\n",
        "# Global flags and data structures\n",
        "left_drawn = False   # Indicates that squares have been created\n",
        "right_drawn = False  # Indicates that latent scatter has been mapped\n",
        "minimize_loss_called = False  # Flag for bright spot effect (\"Minimize coward loss\")\n",
        "\n",
        "# Dictionaries to hold square coordinates and scatter points for each color.\n",
        "squares = {}        # Format: { color: (x, y) }\n",
        "scatter_points = {} # Format: { color: (x_array, y_array) }\n",
        "\n",
        "def update_plot():\n",
        "    clear_output(wait=True)\n",
        "    # Create figure with two subplots: left for squares, right for latent space scatter.\n",
        "    fig, (ax_left, ax_right) = plt.subplots(1, 2, figsize=(12, 6))\n",
        "\n",
        "    # Left subplot: 64x64 white background.\n",
        "    white_img = np.ones((64, 64, 3))\n",
        "    ax_left.set_facecolor('white')\n",
        "    ax_left.imshow(white_img, extent=[0, 64, 0, 64])\n",
        "    ax_left.set_xticks([])\n",
        "    ax_left.set_yticks([])\n",
        "\n",
        "    # Draw each square.\n",
        "    for color in COLORS:\n",
        "        if color in squares and squares[color] is not None:\n",
        "            x, y = squares[color]\n",
        "            rect = patches.Rectangle((x, y), 10, 10, edgecolor=color, facecolor=color, lw=2)\n",
        "            ax_left.add_patch(rect)\n",
        "\n",
        "    # Right subplot: white background with extended extents.\n",
        "    ax_right.set_facecolor('white')\n",
        "    ax_right.imshow(white_img, extent=[-10, 74, -10, 74])\n",
        "    ax_right.set_xticks([])\n",
        "    ax_right.set_yticks([])\n",
        "\n",
        "    # Draw scatter points if latent mapping exists.\n",
        "    if right_drawn and all(color in scatter_points and scatter_points[color] is not None for color in COLORS):\n",
        "        for color in COLORS:\n",
        "            x_vals, y_vals = scatter_points[color]\n",
        "            if minimize_loss_called:\n",
        "                # First (bright) point full opacity; others lower.\n",
        "                ax_right.scatter(x_vals[0:1], y_vals[0:1], color=color, s=20, alpha=1)\n",
        "                ax_right.scatter(x_vals[1:], y_vals[1:], color=color, s=20, alpha=0.1)\n",
        "            else:\n",
        "                ax_right.scatter(x_vals, y_vals, color=color, s=20)\n",
        "\n",
        "    # Display buttons.\n",
        "    display(button1, button2, button3, button4, button5)\n",
        "    plt.show()\n",
        "\n",
        "def on_button1_clicked(b):\n",
        "    global left_drawn, right_drawn, minimize_loss_called, squares, scatter_points\n",
        "    left_drawn = True\n",
        "    right_drawn = False\n",
        "    minimize_loss_called = False\n",
        "    # Clear any existing scatter data.\n",
        "    scatter_points = {color: None for color in COLORS}\n",
        "    # Generate new random positions for each square (ensuring a 10x10 square fits in 64x64).\n",
        "    squares = {color: (np.random.randint(0, 64-10), np.random.randint(0, 64-10)) for color in COLORS}\n",
        "    update_plot()\n",
        "\n",
        "def on_button2_clicked(b):\n",
        "    global right_drawn, scatter_points, minimize_loss_called\n",
        "    if not left_drawn or any(squares.get(color) is None for color in COLORS):\n",
        "        return\n",
        "    right_drawn = True\n",
        "    minimize_loss_called = False\n",
        "    # Generate 100 random scatter points for each color within the 64x64 region.\n",
        "    scatter_points = {color: (np.random.uniform(0, 64, 100), np.random.uniform(0, 64, 100))\n",
        "                      for color in COLORS}\n",
        "    update_plot()\n",
        "\n",
        "def on_button3_clicked(b):\n",
        "    global minimize_loss_called\n",
        "    # \"Minimize coward loss\": brighten each set's first point.\n",
        "    if not right_drawn or any(scatter_points.get(color) is None for color in COLORS):\n",
        "        return\n",
        "    minimize_loss_called = True\n",
        "    update_plot()\n",
        "\n",
        "def on_button4_clicked(b):\n",
        "    global scatter_points\n",
        "    # \"Minimize attractive loss\": move each color's scatter points 25% closer to its own bright point.\n",
        "    if not right_drawn or any(scatter_points.get(color) is None for color in COLORS):\n",
        "        return\n",
        "    for color in COLORS:\n",
        "        x_arr, y_arr = scatter_points[color]\n",
        "        bright_x, bright_y = x_arr[0], y_arr[0]\n",
        "        new_x_arr = bright_x + 0.75 * (x_arr - bright_x)\n",
        "        new_y_arr = bright_y + 0.75 * (y_arr - bright_y)\n",
        "        scatter_points[color] = (new_x_arr, new_y_arr)\n",
        "    update_plot()\n",
        "\n",
        "def on_button5_clicked(b):\n",
        "    global scatter_points\n",
        "    # \"Minimize repulsive loss\": for each color's scatter points, move them 5 units away from the bright spots of every other color.\n",
        "    if not right_drawn or any(scatter_points.get(color) is None for color in COLORS):\n",
        "        return\n",
        "    for color in COLORS:\n",
        "        x_arr, y_arr = scatter_points[color]\n",
        "        total_disp_x = np.zeros_like(x_arr)\n",
        "        total_disp_y = np.zeros_like(y_arr)\n",
        "        for other in COLORS:\n",
        "            if other == color:\n",
        "                continue\n",
        "            other_x_arr, other_y_arr = scatter_points[other]\n",
        "            # Use the bright spot (first point) of the other color as anchor.\n",
        "            bright_x = other_x_arr[0]\n",
        "            bright_y = other_y_arr[0]\n",
        "            vec_x = x_arr - bright_x\n",
        "            vec_y = y_arr - bright_y\n",
        "            norms = np.sqrt(vec_x**2 + vec_y**2)\n",
        "            # Avoid division by zero.\n",
        "            disp_x = np.where(norms == 0, 0, 5 * vec_x / norms)\n",
        "            disp_y = np.where(norms == 0, 0, 5 * vec_y / norms)\n",
        "            total_disp_x += disp_x\n",
        "            total_disp_y += disp_y\n",
        "        new_x_arr = x_arr + total_disp_x\n",
        "        new_y_arr = y_arr + total_disp_y\n",
        "        scatter_points[color] = (new_x_arr, new_y_arr)\n",
        "    update_plot()\n",
        "\n",
        "# Create buttons with wider layouts.\n",
        "button1 = widgets.Button(description=\"1) Make squares\", layout=widgets.Layout(width='200px'))\n",
        "button2 = widgets.Button(description=\"2) Map to latent space\", layout=widgets.Layout(width='200px'))\n",
        "button3 = widgets.Button(description=\"3) Minimize coward loss\", layout=widgets.Layout(width='200px'))\n",
        "button4 = widgets.Button(description=\"4) Minimize attractive loss\", layout=widgets.Layout(width='200px'))\n",
        "button5 = widgets.Button(description=\"5) Minimize repulsive loss\", layout=widgets.Layout(width='200px'))\n",
        "\n",
        "# Link buttons to their functions.\n",
        "button1.on_click(on_button1_clicked)\n",
        "button2.on_click(on_button2_clicked)\n",
        "button3.on_click(on_button3_clicked)\n",
        "button4.on_click(on_button4_clicked)\n",
        "button5.on_click(on_button5_clicked)\n",
        "\n",
        "update_plot()\n"
      ],
      "metadata": {
        "colab": {
          "base_uri": "https://localhost:8080/",
          "height": 659,
          "referenced_widgets": [
            "e03c52fecbec4df7ac785a8740a0eb83",
            "cf9644916b26451099acc642852e81d7",
            "5791008ade5f476ebeb7f1e49f40e5b1",
            "18e4e70e36944fc9932445aa7ce16960",
            "ab5b0e627db64ba89c694a2cbbccfbae",
            "0b72194044c14b4aaa844de3eb19441f",
            "74115f0282df44c984829525106844e2",
            "ccf61539bc244753b23e2941c12cefce",
            "c2edac4432884ea7b68bc5e46fc752f2",
            "5bd84740c2ba473ebf1c58eab3946f2e",
            "c026e611eba144a8898436b4637effba",
            "42138395246041e3ad1d9a3f37bd9f39",
            "4c5a52d1f688476480aaae3058f8584e",
            "b5fe31a87d9e4eaca59629f1832a56b0",
            "36b7470b5c504b9b84c2a3e226f1f0f8"
          ]
        },
        "id": "J15ayQ5R2tvq",
        "outputId": "b16971bd-8152-4e45-a1cf-eaf7e420be51"
      },
      "execution_count": null,
      "outputs": [
        {
          "output_type": "display_data",
          "data": {
            "text/plain": [
              "Button(description='1) Make squares', layout=Layout(width='200px'), style=ButtonStyle())"
            ],
            "application/vnd.jupyter.widget-view+json": {
              "version_major": 2,
              "version_minor": 0,
              "model_id": "e03c52fecbec4df7ac785a8740a0eb83"
            }
          },
          "metadata": {}
        },
        {
          "output_type": "display_data",
          "data": {
            "text/plain": [
              "Button(description='2) Map to latent space', layout=Layout(width='200px'), style=ButtonStyle())"
            ],
            "application/vnd.jupyter.widget-view+json": {
              "version_major": 2,
              "version_minor": 0,
              "model_id": "18e4e70e36944fc9932445aa7ce16960"
            }
          },
          "metadata": {}
        },
        {
          "output_type": "display_data",
          "data": {
            "text/plain": [
              "Button(description='3) Minimize coward loss', layout=Layout(width='200px'), style=ButtonStyle())"
            ],
            "application/vnd.jupyter.widget-view+json": {
              "version_major": 2,
              "version_minor": 0,
              "model_id": "74115f0282df44c984829525106844e2"
            }
          },
          "metadata": {}
        },
        {
          "output_type": "display_data",
          "data": {
            "text/plain": [
              "Button(description='4) Minimize attractive loss', layout=Layout(width='200px'), style=ButtonStyle())"
            ],
            "application/vnd.jupyter.widget-view+json": {
              "version_major": 2,
              "version_minor": 0,
              "model_id": "5bd84740c2ba473ebf1c58eab3946f2e"
            }
          },
          "metadata": {}
        },
        {
          "output_type": "display_data",
          "data": {
            "text/plain": [
              "Button(description='5) Minimize repulsive loss', layout=Layout(width='200px'), style=ButtonStyle())"
            ],
            "application/vnd.jupyter.widget-view+json": {
              "version_major": 2,
              "version_minor": 0,
              "model_id": "4c5a52d1f688476480aaae3058f8584e"
            }
          },
          "metadata": {}
        },
        {
          "output_type": "display_data",
          "data": {
            "text/plain": [
              "<Figure size 1200x600 with 2 Axes>"
            ],
            "image/png": "[encoded data removed]"
          },
          "metadata": {}
        }
      ]
    },
    {
      "cell_type": "code",
      "source": [],
      "metadata": {
        "id": "FQ8-dfFf4Za9"
      },
      "execution_count": null,
      "outputs": []
    }
  ]
}