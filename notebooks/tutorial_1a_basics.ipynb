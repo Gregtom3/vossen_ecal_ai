{
  "nbformat": 4,
  "nbformat_minor": 0,
  "metadata": {
    "colab": {
      "provenance": [],
      "authorship_tag": "ABX9TyOA0iSHtJAoOtUBl/CQJbvB",
      "include_colab_link": true
    },
    "kernelspec": {
      "name": "python3",
      "display_name": "Python 3"
    },
    "language_info": {
      "name": "python"
    }
  },
  "cells": [
    {
      "cell_type": "markdown",
      "metadata": {
        "id": "view-in-github",
        "colab_type": "text"
      },
      "source": [
        "<a href=\"https://colab.research.google.com/github/Gregtom3/vossen_ecal_ai/blob/main/notebooks/tutorial_1a_basics.ipynb\" target=\"_parent\"><img src=\"https://colab.research.google.com/assets/colab-badge.svg\" alt=\"Open In Colab\"/></a>"
      ]
    },
    {
      "cell_type": "markdown",
      "source": [
        "# Tutorial Overview\n",
        "\n",
        "In this section, we showcase the basic machine learning approach to resolving the false photon problem at CLAS12. We follow along with the event data collected by the `hipo2tree.C` program in [the photon AI repo](https://github.com/Gregtom3/clas12_photon_classifier). The event data was collected using a Monte Carlo event generator with simulated detector readouts in Geant4. Particles are reconstructed using the Coatjava framework."
      ],
      "metadata": {
        "id": "YbDzn9cOePHj"
      }
    },
    {
      "cell_type": "markdown",
      "source": [
        "### Imports"
      ],
      "metadata": {
        "id": "55QCtnW-d9qr"
      }
    },
    {
      "cell_type": "code",
      "execution_count": 8,
      "metadata": {
        "id": "svDxtg4J83Kb"
      },
      "outputs": [],
      "source": [
        "import tensorflow as tf\n",
        "import numpy as np\n",
        "import pandas as pd\n",
        "import matplotlib.pyplot as plt\n",
        "import itertools\n"
      ]
    },
    {
      "cell_type": "markdown",
      "source": [
        "### Data loading\n",
        "Here we use `pandas` to extract the photon CSV data from the GitHub."
      ],
      "metadata": {
        "id": "tr0vtEYheBWb"
      }
    },
    {
      "cell_type": "code",
      "source": [
        "# URL to the raw CSV file\n",
        "url = \"https://raw.githubusercontent.com/Gregtom3/vossen_ecal_ai/main/data/photon_data_simple.csv\"\n",
        "\n",
        "# Read the CSV into a DataFrame\n",
        "df = pd.read_csv(url)\n",
        "columns = list(df.columns)\n",
        "\n",
        "# Print the dataframe columns\n",
        "print(columns)\n",
        "\n",
        "# Print the length of the dataframe and number of events\n",
        "print(\"Total number of photons =\",len(df))\n",
        "print(\"Total number of events =\",len(df['event'].unique()))\n",
        "\n",
        "\n",
        "# Gather model inputs and outputs\n",
        "input_columns = [col for col in columns if col not in ['event','y']]\n",
        "output_column = 'y'\n",
        "\n",
        "X,y = df[input_columns],df[output_column]\n",
        "event = df['event']"
      ],
      "metadata": {
        "colab": {
          "base_uri": "https://localhost:8080/"
        },
        "id": "FdTmbzBsRVU0",
        "outputId": "0403b68e-f51e-48c0-8808-a93a1c489b45"
      },
      "execution_count": 21,
      "outputs": [
        {
          "output_type": "stream",
          "name": "stdout",
          "text": [
            "['event', 'y', 'gE', 'gTheta', 'gPhi', 'gEpcal', 'gm2u', 'gm2v', 'R_e', 'dE_e', 'R_gamma_0', 'R_gamma_1', 'R_gamma_2', 'dE_gamma_0', 'dE_gamma_1', 'dE_gamma_2', 'Epcal_gamma_0', 'Epcal_gamma_1', 'Epcal_gamma_2', 'm2u_gamma_0', 'm2u_gamma_1', 'm2u_gamma_2', 'm2v_gamma_0', 'm2v_gamma_1', 'm2v_gamma_2', 'R_ch_0', 'R_ch_1', 'dE_ch_0', 'dE_ch_1', 'Epcal_ch_0', 'Epcal_ch_1', 'm2u_ch_0', 'm2u_ch_1', 'm2v_ch_0', 'm2v_ch_1', 'R_nh_0', 'R_nh_1', 'dE_nh_0', 'dE_nh_1', 'Epcal_nh_0', 'Epcal_nh_1', 'm2u_nh_0', 'm2u_nh_1', 'm2v_nh_0', 'm2v_nh_1']\n",
            "Total number of photons = 10000\n",
            "Total number of events = 3358\n"
          ]
        }
      ]
    },
    {
      "cell_type": "markdown",
      "source": [
        "The data imported"
      ],
      "metadata": {
        "id": "dx3GlBVoeM4N"
      }
    },
    {
      "cell_type": "code",
      "source": [
        "\n",
        "\n",
        "def get_pi0_mass(gE, gTheta, gPhi):\n",
        "    # Convert to Cartesian coordinates\n",
        "    px = gE * np.sin(gTheta) * np.cos(gPhi)\n",
        "    py = gE * np.sin(gTheta) * np.sin(gPhi)\n",
        "    pz = gE * np.cos(gTheta)\n",
        "    E = gE\n",
        "    return px, py, pz, E\n",
        "\n",
        "pi0_masses = []\n",
        "events = df['event'].unique()\n",
        "\n",
        "for event_num in events:\n",
        "    event_photons = df[df['event'] == event_num]\n",
        "    if len(event_photons) >= 2:\n",
        "        for photon1, photon2 in itertools.combinations(event_photons.index, 2):\n",
        "            gE1, gTheta1, gPhi1 = event_photons.loc[photon1, ['gE', 'gTheta', 'gPhi']]\n",
        "            gE2, gTheta2, gPhi2 = event_photons.loc[photon2, ['gE', 'gTheta', 'gPhi']]\n",
        "\n",
        "            px1, py1, pz1, E1 = get_pi0_mass(gE1, gTheta1, gPhi1)\n",
        "            px2, py2, pz2, E2 = get_pi0_mass(gE2, gTheta2, gPhi2)\n",
        "\n",
        "            total_px = px1 + px2\n",
        "            total_py = py1 + py2\n",
        "            total_pz = pz1 + pz2\n",
        "            total_E = E1 + E2\n",
        "\n",
        "            pi0_mass = np.sqrt(total_E**2 - (total_px**2 + total_py**2 + total_pz**2))\n",
        "            pi0_masses.append(pi0_mass)\n",
        "\n",
        "plt.hist(pi0_masses, bins=50)\n",
        "plt.xlabel(\"Pi0 Mass (GeV)\")\n",
        "plt.ylabel(\"Number of Combinations\")\n",
        "plt.title(\"Invariant Mass of Photon Pairs\")\n",
        "plt.show()\n"
      ],
      "metadata": {
        "colab": {
          "base_uri": "https://localhost:8080/",
          "height": 472
        },
        "id": "0uY5XiZQdqgm",
        "outputId": "f5df380d-f5aa-4ef3-f80f-7b502aad6524"
      },
      "execution_count": 24,
      "outputs": [
        {
          "output_type": "display_data",
          "data": {
            "text/plain": [
              "<Figure size 640x480 with 1 Axes>"
            ],
            "image/png": "[encoded data removed]"
          },
          "metadata": {}
        }
      ]
    },
    {
      "cell_type": "code",
      "source": [],
      "metadata": {
        "id": "Jm9J3QVdfzde"
      },
      "execution_count": null,
      "outputs": []
    }
  ]
}