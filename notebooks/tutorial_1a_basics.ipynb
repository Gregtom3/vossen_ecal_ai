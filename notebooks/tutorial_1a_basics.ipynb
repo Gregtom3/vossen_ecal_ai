{
  "nbformat": 4,
  "nbformat_minor": 0,
  "metadata": {
    "colab": {
      "provenance": [],
      "authorship_tag": "ABX9TyPRf59WBZEt5ce+RVvTDeLF",
      "include_colab_link": true
    },
    "kernelspec": {
      "name": "python3",
      "display_name": "Python 3"
    },
    "language_info": {
      "name": "python"
    }
  },
  "cells": [
    {
      "cell_type": "markdown",
      "metadata": {
        "id": "view-in-github",
        "colab_type": "text"
      },
      "source": [
        "<a href=\"https://colab.research.google.com/github/Gregtom3/vossen_ecal_ai/blob/main/notebooks/tutorial_1a_basics.ipynb\" target=\"_parent\"><img src=\"https://colab.research.google.com/assets/colab-badge.svg\" alt=\"Open In Colab\"/></a>"
      ]
    },
    {
      "cell_type": "markdown",
      "source": [
        "# Tutorial Overview\n",
        "\n",
        "In this section, we showcase the basic machine learning approach to resolving the false photon problem at CLAS12. We follow along with the event data collected by the `hipo2tree.C` program in [the photon AI repo](https://github.com/Gregtom3/clas12_photon_classifier). The event data was collected using a Monte Carlo event generator with simulated detector readouts in Geant4. Particles are reconstructed using the Coatjava framework."
      ],
      "metadata": {
        "id": "YbDzn9cOePHj"
      }
    },
    {
      "cell_type": "markdown",
      "source": [
        "### Imports"
      ],
      "metadata": {
        "id": "55QCtnW-d9qr"
      }
    },
    {
      "cell_type": "code",
      "execution_count": 8,
      "metadata": {
        "id": "svDxtg4J83Kb"
      },
      "outputs": [],
      "source": [
        "import tensorflow as tf\n",
        "import numpy as np\n",
        "import pandas as pd\n",
        "import matplotlib.pyplot as plt"
      ]
    },
    {
      "cell_type": "markdown",
      "source": [
        "### Data loading\n",
        "Here we use `pandas` to extract the photon CSV data from the GitHub."
      ],
      "metadata": {
        "id": "tr0vtEYheBWb"
      }
    },
    {
      "cell_type": "code",
      "source": [
        "# URL to the raw CSV file\n",
        "url = \"https://raw.githubusercontent.com/Gregtom3/vossen_ecal_ai/main/data/photon_data_simple.csv\"\n",
        "\n",
        "# Read the CSV into a DataFrame\n",
        "df = pd.read_csv(url)\n",
        "columns = list(df.columns)\n",
        "\n",
        "# Print the dataframe columns\n",
        "print(columns)\n",
        "\n",
        "# Print the length of the dataframe and number of events\n",
        "print(\"Total number of photons =\",len(df))\n",
        "print(\"Total number of events =\",len(df['event'].unique()))\n",
        "\n",
        "\n",
        "# Gather model inputs and outputs\n",
        "input_columns = [col for col in columns if col not in ['event','y']]\n",
        "output_column = 'y'\n",
        "\n",
        "X,y = df[input_columns],df[output_column]\n",
        "event = df['event']"
      ],
      "metadata": {
        "id": "FdTmbzBsRVU0",
        "outputId": "0403b68e-f51e-48c0-8808-a93a1c489b45",
        "colab": {
          "base_uri": "https://localhost:8080/"
        }
      },
      "execution_count": 21,
      "outputs": [
        {
          "output_type": "stream",
          "name": "stdout",
          "text": [
            "['event', 'y', 'gE', 'gTheta', 'gPhi', 'gEpcal', 'gm2u', 'gm2v', 'R_e', 'dE_e', 'R_gamma_0', 'R_gamma_1', 'R_gamma_2', 'dE_gamma_0', 'dE_gamma_1', 'dE_gamma_2', 'Epcal_gamma_0', 'Epcal_gamma_1', 'Epcal_gamma_2', 'm2u_gamma_0', 'm2u_gamma_1', 'm2u_gamma_2', 'm2v_gamma_0', 'm2v_gamma_1', 'm2v_gamma_2', 'R_ch_0', 'R_ch_1', 'dE_ch_0', 'dE_ch_1', 'Epcal_ch_0', 'Epcal_ch_1', 'm2u_ch_0', 'm2u_ch_1', 'm2v_ch_0', 'm2v_ch_1', 'R_nh_0', 'R_nh_1', 'dE_nh_0', 'dE_nh_1', 'Epcal_nh_0', 'Epcal_nh_1', 'm2u_nh_0', 'm2u_nh_1', 'm2v_nh_0', 'm2v_nh_1']\n",
            "Total number of photons = 10000\n",
            "Total number of events = 3358\n"
          ]
        }
      ]
    },
    {
      "cell_type": "markdown",
      "source": [
        "The data imported"
      ],
      "metadata": {
        "id": "dx3GlBVoeM4N"
      }
    },
    {
      "cell_type": "code",
      "source": [],
      "metadata": {
        "id": "0uY5XiZQdqgm"
      },
      "execution_count": null,
      "outputs": []
    }
  ]
}