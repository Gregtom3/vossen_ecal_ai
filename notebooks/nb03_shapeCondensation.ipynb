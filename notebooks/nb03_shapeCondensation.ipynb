{
  "nbformat": 4,
  "nbformat_minor": 0,
  "metadata": {
    "colab": {
      "provenance": [],
      "authorship_tag": "ABX9TyN59QG+B0Y6qlrg2G1REGXj",
      "include_colab_link": true
    },
    "kernelspec": {
      "name": "python3",
      "display_name": "Python 3"
    },
    "language_info": {
      "name": "python"
    },
    "widgets": {
      "application/vnd.jupyter.widget-state+json": {
        "9df1c4e9f0b4439e9e59014a71f4e39a": {
          "model_module": "@jupyter-widgets/controls",
          "model_name": "VBoxModel",
          "model_module_version": "1.5.0",
          "state": {
            "_dom_classes": [
              "widget-interact"
            ],
            "_model_module": "@jupyter-widgets/controls",
            "_model_module_version": "1.5.0",
            "_model_name": "VBoxModel",
            "_view_count": null,
            "_view_module": "@jupyter-widgets/controls",
            "_view_module_version": "1.5.0",
            "_view_name": "VBoxView",
            "box_style": "",
            "children": [
              "IPY_MODEL_5fe28b46bcfc4427a7c2d8d7b1128566",
              "IPY_MODEL_fab7fb14fba64c1fa362f9d6c0537272",
              "IPY_MODEL_882e863f8ebc42cb90c88fde5b5a2166"
            ],
            "layout": "IPY_MODEL_6040a99bf8a4402d8bb219eee8639213"
          }
        },
        "5fe28b46bcfc4427a7c2d8d7b1128566": {
          "model_module": "@jupyter-widgets/controls",
          "model_name": "IntSliderModel",
          "model_module_version": "1.5.0",
          "state": {
            "_dom_classes": [],
            "_model_module": "@jupyter-widgets/controls",
            "_model_module_version": "1.5.0",
            "_model_name": "IntSliderModel",
            "_view_count": null,
            "_view_module": "@jupyter-widgets/controls",
            "_view_module_version": "1.5.0",
            "_view_name": "IntSliderView",
            "continuous_update": true,
            "description": "Event Number:",
            "description_tooltip": null,
            "disabled": false,
            "layout": "IPY_MODEL_3982bd01e37d422c80c1ede7369bd26c",
            "max": 999,
            "min": 0,
            "orientation": "horizontal",
            "readout": true,
            "readout_format": "d",
            "step": 1,
            "style": "IPY_MODEL_b9117552be354103a06d30fe5fdf2b22",
            "value": 0
          }
        },
        "fab7fb14fba64c1fa362f9d6c0537272": {
          "model_module": "@jupyter-widgets/controls",
          "model_name": "DropdownModel",
          "model_module_version": "1.5.0",
          "state": {
            "_dom_classes": [],
            "_model_module": "@jupyter-widgets/controls",
            "_model_module_version": "1.5.0",
            "_model_name": "DropdownModel",
            "_options_labels": [
              "RGB",
              "X",
              "Y",
              "uid",
              "type"
            ],
            "_view_count": null,
            "_view_module": "@jupyter-widgets/controls",
            "_view_module_version": "1.5.0",
            "_view_name": "DropdownView",
            "description": "Plot Type:",
            "description_tooltip": null,
            "disabled": false,
            "index": 0,
            "layout": "IPY_MODEL_c968fda1bd484d18aad3c0786ff5e864",
            "style": "IPY_MODEL_443dcde68c8649a894e168b0680edf02"
          }
        },
        "882e863f8ebc42cb90c88fde5b5a2166": {
          "model_module": "@jupyter-widgets/output",
          "model_name": "OutputModel",
          "model_module_version": "1.0.0",
          "state": {
            "_dom_classes": [],
            "_model_module": "@jupyter-widgets/output",
            "_model_module_version": "1.0.0",
            "_model_name": "OutputModel",
            "_view_count": null,
            "_view_module": "@jupyter-widgets/output",
            "_view_module_version": "1.0.0",
            "_view_name": "OutputView",
            "layout": "IPY_MODEL_bfdcf1ec6e4249218e4b379f5c0decba",
            "msg_id": "",
            "outputs": [
              {
                "output_type": "display_data",
                "data": {
                  "text/plain": "<Figure size 400x400 with 1 Axes>",
                  "image/png": "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\n"
                },
                "metadata": {}
              }
            ]
          }
        },
        "6040a99bf8a4402d8bb219eee8639213": {
          "model_module": "@jupyter-widgets/base",
          "model_name": "LayoutModel",
          "model_module_version": "1.2.0",
          "state": {
            "_model_module": "@jupyter-widgets/base",
            "_model_module_version": "1.2.0",
            "_model_name": "LayoutModel",
            "_view_count": null,
            "_view_module": "@jupyter-widgets/base",
            "_view_module_version": "1.2.0",
            "_view_name": "LayoutView",
            "align_content": null,
            "align_items": null,
            "align_self": null,
            "border": null,
            "bottom": null,
            "display": null,
            "flex": null,
            "flex_flow": null,
            "grid_area": null,
            "grid_auto_columns": null,
            "grid_auto_flow": null,
            "grid_auto_rows": null,
            "grid_column": null,
            "grid_gap": null,
            "grid_row": null,
            "grid_template_areas": null,
            "grid_template_columns": null,
            "grid_template_rows": null,
            "height": null,
            "justify_content": null,
            "justify_items": null,
            "left": null,
            "margin": null,
            "max_height": null,
            "max_width": null,
            "min_height": null,
            "min_width": null,
            "object_fit": null,
            "object_position": null,
            "order": null,
            "overflow": null,
            "overflow_x": null,
            "overflow_y": null,
            "padding": null,
            "right": null,
            "top": null,
            "visibility": null,
            "width": null
          }
        },
        "3982bd01e37d422c80c1ede7369bd26c": {
          "model_module": "@jupyter-widgets/base",
          "model_name": "LayoutModel",
          "model_module_version": "1.2.0",
          "state": {
            "_model_module": "@jupyter-widgets/base",
            "_model_module_version": "1.2.0",
            "_model_name": "LayoutModel",
            "_view_count": null,
            "_view_module": "@jupyter-widgets/base",
            "_view_module_version": "1.2.0",
            "_view_name": "LayoutView",
            "align_content": null,
            "align_items": null,
            "align_self": null,
            "border": null,
            "bottom": null,
            "display": null,
            "flex": null,
            "flex_flow": null,
            "grid_area": null,
            "grid_auto_columns": null,
            "grid_auto_flow": null,
            "grid_auto_rows": null,
            "grid_column": null,
            "grid_gap": null,
            "grid_row": null,
            "grid_template_areas": null,
            "grid_template_columns": null,
            "grid_template_rows": null,
            "height": null,
            "justify_content": null,
            "justify_items": null,
            "left": null,
            "margin": null,
            "max_height": null,
            "max_width": null,
            "min_height": null,
            "min_width": null,
            "object_fit": null,
            "object_position": null,
            "order": null,
            "overflow": null,
            "overflow_x": null,
            "overflow_y": null,
            "padding": null,
            "right": null,
            "top": null,
            "visibility": null,
            "width": null
          }
        },
        "b9117552be354103a06d30fe5fdf2b22": {
          "model_module": "@jupyter-widgets/controls",
          "model_name": "SliderStyleModel",
          "model_module_version": "1.5.0",
          "state": {
            "_model_module": "@jupyter-widgets/controls",
            "_model_module_version": "1.5.0",
            "_model_name": "SliderStyleModel",
            "_view_count": null,
            "_view_module": "@jupyter-widgets/base",
            "_view_module_version": "1.2.0",
            "_view_name": "StyleView",
            "description_width": "",
            "handle_color": null
          }
        },
        "c968fda1bd484d18aad3c0786ff5e864": {
          "model_module": "@jupyter-widgets/base",
          "model_name": "LayoutModel",
          "model_module_version": "1.2.0",
          "state": {
            "_model_module": "@jupyter-widgets/base",
            "_model_module_version": "1.2.0",
            "_model_name": "LayoutModel",
            "_view_count": null,
            "_view_module": "@jupyter-widgets/base",
            "_view_module_version": "1.2.0",
            "_view_name": "LayoutView",
            "align_content": null,
            "align_items": null,
            "align_self": null,
            "border": null,
            "bottom": null,
            "display": null,
            "flex": null,
            "flex_flow": null,
            "grid_area": null,
            "grid_auto_columns": null,
            "grid_auto_flow": null,
            "grid_auto_rows": null,
            "grid_column": null,
            "grid_gap": null,
            "grid_row": null,
            "grid_template_areas": null,
            "grid_template_columns": null,
            "grid_template_rows": null,
            "height": null,
            "justify_content": null,
            "justify_items": null,
            "left": null,
            "margin": null,
            "max_height": null,
            "max_width": null,
            "min_height": null,
            "min_width": null,
            "object_fit": null,
            "object_position": null,
            "order": null,
            "overflow": null,
            "overflow_x": null,
            "overflow_y": null,
            "padding": null,
            "right": null,
            "top": null,
            "visibility": null,
            "width": null
          }
        },
        "443dcde68c8649a894e168b0680edf02": {
          "model_module": "@jupyter-widgets/controls",
          "model_name": "DescriptionStyleModel",
          "model_module_version": "1.5.0",
          "state": {
            "_model_module": "@jupyter-widgets/controls",
            "_model_module_version": "1.5.0",
            "_model_name": "DescriptionStyleModel",
            "_view_count": null,
            "_view_module": "@jupyter-widgets/base",
            "_view_module_version": "1.2.0",
            "_view_name": "StyleView",
            "description_width": ""
          }
        },
        "bfdcf1ec6e4249218e4b379f5c0decba": {
          "model_module": "@jupyter-widgets/base",
          "model_name": "LayoutModel",
          "model_module_version": "1.2.0",
          "state": {
            "_model_module": "@jupyter-widgets/base",
            "_model_module_version": "1.2.0",
            "_model_name": "LayoutModel",
            "_view_count": null,
            "_view_module": "@jupyter-widgets/base",
            "_view_module_version": "1.2.0",
            "_view_name": "LayoutView",
            "align_content": null,
            "align_items": null,
            "align_self": null,
            "border": null,
            "bottom": null,
            "display": null,
            "flex": null,
            "flex_flow": null,
            "grid_area": null,
            "grid_auto_columns": null,
            "grid_auto_flow": null,
            "grid_auto_rows": null,
            "grid_column": null,
            "grid_gap": null,
            "grid_row": null,
            "grid_template_areas": null,
            "grid_template_columns": null,
            "grid_template_rows": null,
            "height": null,
            "justify_content": null,
            "justify_items": null,
            "left": null,
            "margin": null,
            "max_height": null,
            "max_width": null,
            "min_height": null,
            "min_width": null,
            "object_fit": null,
            "object_position": null,
            "order": null,
            "overflow": null,
            "overflow_x": null,
            "overflow_y": null,
            "padding": null,
            "right": null,
            "top": null,
            "visibility": null,
            "width": null
          }
        },
        "690eb4213b5d416386047ec65dd05b4c": {
          "model_module": "@jupyter-widgets/controls",
          "model_name": "VBoxModel",
          "model_module_version": "1.5.0",
          "state": {
            "_dom_classes": [
              "widget-interact"
            ],
            "_model_module": "@jupyter-widgets/controls",
            "_model_module_version": "1.5.0",
            "_model_name": "VBoxModel",
            "_view_count": null,
            "_view_module": "@jupyter-widgets/controls",
            "_view_module_version": "1.5.0",
            "_view_name": "VBoxView",
            "box_style": "",
            "children": [
              "IPY_MODEL_2355f09ce5f9434bbf846d39cd8af2c7",
              "IPY_MODEL_c0d976cb72fd4a2ea616475ca04d9f21",
              "IPY_MODEL_55fb8f1c839545c4a3e803b1678c174f"
            ],
            "layout": "IPY_MODEL_e26e64574fb243909501090db91a2b77"
          }
        },
        "2355f09ce5f9434bbf846d39cd8af2c7": {
          "model_module": "@jupyter-widgets/controls",
          "model_name": "IntSliderModel",
          "model_module_version": "1.5.0",
          "state": {
            "_dom_classes": [],
            "_model_module": "@jupyter-widgets/controls",
            "_model_module_version": "1.5.0",
            "_model_name": "IntSliderModel",
            "_view_count": null,
            "_view_module": "@jupyter-widgets/controls",
            "_view_module_version": "1.5.0",
            "_view_name": "IntSliderView",
            "continuous_update": true,
            "description": "Event Number:",
            "description_tooltip": null,
            "disabled": false,
            "layout": "IPY_MODEL_0a67a90d450d414c9c2da34a23ac67ef",
            "max": 999,
            "min": 0,
            "orientation": "horizontal",
            "readout": true,
            "readout_format": "d",
            "step": 1,
            "style": "IPY_MODEL_c3b2f6adb0184387b1a078d80afef5d4",
            "value": 481
          }
        },
        "c0d976cb72fd4a2ea616475ca04d9f21": {
          "model_module": "@jupyter-widgets/controls",
          "model_name": "DropdownModel",
          "model_module_version": "1.5.0",
          "state": {
            "_dom_classes": [],
            "_model_module": "@jupyter-widgets/controls",
            "_model_module_version": "1.5.0",
            "_model_name": "DropdownModel",
            "_options_labels": [
              "RGB",
              "X",
              "Y",
              "uid",
              "type"
            ],
            "_view_count": null,
            "_view_module": "@jupyter-widgets/controls",
            "_view_module_version": "1.5.0",
            "_view_name": "DropdownView",
            "description": "Plot Type:",
            "description_tooltip": null,
            "disabled": false,
            "index": 0,
            "layout": "IPY_MODEL_2d85422e9a444d1bb647cfa82e6f4647",
            "style": "IPY_MODEL_f8891f11620345b895b9082833eabcb8"
          }
        },
        "55fb8f1c839545c4a3e803b1678c174f": {
          "model_module": "@jupyter-widgets/output",
          "model_name": "OutputModel",
          "model_module_version": "1.0.0",
          "state": {
            "_dom_classes": [],
            "_model_module": "@jupyter-widgets/output",
            "_model_module_version": "1.0.0",
            "_model_name": "OutputModel",
            "_view_count": null,
            "_view_module": "@jupyter-widgets/output",
            "_view_module_version": "1.0.0",
            "_view_name": "OutputView",
            "layout": "IPY_MODEL_76f72def5e1842d58848b1be62daff82",
            "msg_id": "",
            "outputs": [
              {
                "output_type": "display_data",
                "data": {
                  "text/plain": "<Figure size 1200x600 with 2 Axes>",
                  "image/png": "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\n"
                },
                "metadata": {}
              }
            ]
          }
        },
        "e26e64574fb243909501090db91a2b77": {
          "model_module": "@jupyter-widgets/base",
          "model_name": "LayoutModel",
          "model_module_version": "1.2.0",
          "state": {
            "_model_module": "@jupyter-widgets/base",
            "_model_module_version": "1.2.0",
            "_model_name": "LayoutModel",
            "_view_count": null,
            "_view_module": "@jupyter-widgets/base",
            "_view_module_version": "1.2.0",
            "_view_name": "LayoutView",
            "align_content": null,
            "align_items": null,
            "align_self": null,
            "border": null,
            "bottom": null,
            "display": null,
            "flex": null,
            "flex_flow": null,
            "grid_area": null,
            "grid_auto_columns": null,
            "grid_auto_flow": null,
            "grid_auto_rows": null,
            "grid_column": null,
            "grid_gap": null,
            "grid_row": null,
            "grid_template_areas": null,
            "grid_template_columns": null,
            "grid_template_rows": null,
            "height": null,
            "justify_content": null,
            "justify_items": null,
            "left": null,
            "margin": null,
            "max_height": null,
            "max_width": null,
            "min_height": null,
            "min_width": null,
            "object_fit": null,
            "object_position": null,
            "order": null,
            "overflow": null,
            "overflow_x": null,
            "overflow_y": null,
            "padding": null,
            "right": null,
            "top": null,
            "visibility": null,
            "width": null
          }
        },
        "0a67a90d450d414c9c2da34a23ac67ef": {
          "model_module": "@jupyter-widgets/base",
          "model_name": "LayoutModel",
          "model_module_version": "1.2.0",
          "state": {
            "_model_module": "@jupyter-widgets/base",
            "_model_module_version": "1.2.0",
            "_model_name": "LayoutModel",
            "_view_count": null,
            "_view_module": "@jupyter-widgets/base",
            "_view_module_version": "1.2.0",
            "_view_name": "LayoutView",
            "align_content": null,
            "align_items": null,
            "align_self": null,
            "border": null,
            "bottom": null,
            "display": null,
            "flex": null,
            "flex_flow": null,
            "grid_area": null,
            "grid_auto_columns": null,
            "grid_auto_flow": null,
            "grid_auto_rows": null,
            "grid_column": null,
            "grid_gap": null,
            "grid_row": null,
            "grid_template_areas": null,
            "grid_template_columns": null,
            "grid_template_rows": null,
            "height": null,
            "justify_content": null,
            "justify_items": null,
            "left": null,
            "margin": null,
            "max_height": null,
            "max_width": null,
            "min_height": null,
            "min_width": null,
            "object_fit": null,
            "object_position": null,
            "order": null,
            "overflow": null,
            "overflow_x": null,
            "overflow_y": null,
            "padding": null,
            "right": null,
            "top": null,
            "visibility": null,
            "width": null
          }
        },
        "c3b2f6adb0184387b1a078d80afef5d4": {
          "model_module": "@jupyter-widgets/controls",
          "model_name": "SliderStyleModel",
          "model_module_version": "1.5.0",
          "state": {
            "_model_module": "@jupyter-widgets/controls",
            "_model_module_version": "1.5.0",
            "_model_name": "SliderStyleModel",
            "_view_count": null,
            "_view_module": "@jupyter-widgets/base",
            "_view_module_version": "1.2.0",
            "_view_name": "StyleView",
            "description_width": "",
            "handle_color": null
          }
        },
        "2d85422e9a444d1bb647cfa82e6f4647": {
          "model_module": "@jupyter-widgets/base",
          "model_name": "LayoutModel",
          "model_module_version": "1.2.0",
          "state": {
            "_model_module": "@jupyter-widgets/base",
            "_model_module_version": "1.2.0",
            "_model_name": "LayoutModel",
            "_view_count": null,
            "_view_module": "@jupyter-widgets/base",
            "_view_module_version": "1.2.0",
            "_view_name": "LayoutView",
            "align_content": null,
            "align_items": null,
            "align_self": null,
            "border": null,
            "bottom": null,
            "display": null,
            "flex": null,
            "flex_flow": null,
            "grid_area": null,
            "grid_auto_columns": null,
            "grid_auto_flow": null,
            "grid_auto_rows": null,
            "grid_column": null,
            "grid_gap": null,
            "grid_row": null,
            "grid_template_areas": null,
            "grid_template_columns": null,
            "grid_template_rows": null,
            "height": null,
            "justify_content": null,
            "justify_items": null,
            "left": null,
            "margin": null,
            "max_height": null,
            "max_width": null,
            "min_height": null,
            "min_width": null,
            "object_fit": null,
            "object_position": null,
            "order": null,
            "overflow": null,
            "overflow_x": null,
            "overflow_y": null,
            "padding": null,
            "right": null,
            "top": null,
            "visibility": null,
            "width": null
          }
        },
        "f8891f11620345b895b9082833eabcb8": {
          "model_module": "@jupyter-widgets/controls",
          "model_name": "DescriptionStyleModel",
          "model_module_version": "1.5.0",
          "state": {
            "_model_module": "@jupyter-widgets/controls",
            "_model_module_version": "1.5.0",
            "_model_name": "DescriptionStyleModel",
            "_view_count": null,
            "_view_module": "@jupyter-widgets/base",
            "_view_module_version": "1.2.0",
            "_view_name": "StyleView",
            "description_width": ""
          }
        },
        "76f72def5e1842d58848b1be62daff82": {
          "model_module": "@jupyter-widgets/base",
          "model_name": "LayoutModel",
          "model_module_version": "1.2.0",
          "state": {
            "_model_module": "@jupyter-widgets/base",
            "_model_module_version": "1.2.0",
            "_model_name": "LayoutModel",
            "_view_count": null,
            "_view_module": "@jupyter-widgets/base",
            "_view_module_version": "1.2.0",
            "_view_name": "LayoutView",
            "align_content": null,
            "align_items": null,
            "align_self": null,
            "border": null,
            "bottom": null,
            "display": null,
            "flex": null,
            "flex_flow": null,
            "grid_area": null,
            "grid_auto_columns": null,
            "grid_auto_flow": null,
            "grid_auto_rows": null,
            "grid_column": null,
            "grid_gap": null,
            "grid_row": null,
            "grid_template_areas": null,
            "grid_template_columns": null,
            "grid_template_rows": null,
            "height": null,
            "justify_content": null,
            "justify_items": null,
            "left": null,
            "margin": null,
            "max_height": null,
            "max_width": null,
            "min_height": null,
            "min_width": null,
            "object_fit": null,
            "object_position": null,
            "order": null,
            "overflow": null,
            "overflow_x": null,
            "overflow_y": null,
            "padding": null,
            "right": null,
            "top": null,
            "visibility": null,
            "width": null
          }
        }
      }
    }
  },
  "cells": [
    {
      "cell_type": "markdown",
      "metadata": {
        "id": "view-in-github",
        "colab_type": "text"
      },
      "source": [
        "<a href=\"https://colab.research.google.com/github/Gregtom3/vossen_ecal_ai/blob/main/notebooks/nb03_shapeCondensation.ipynb\" target=\"_parent\"><img src=\"https://colab.research.google.com/assets/colab-badge.svg\" alt=\"Open In Colab\"/></a>"
      ]
    },
    {
      "cell_type": "markdown",
      "source": [
        "# Tutorial Overview\n",
        "\n",
        "In this tutorial, we construct a neural network based using CNNs. This neural network predicts latent space coordinates and a confidence value $\\beta$ for each pixel in the image. Using these 3 output values, we minimize the object condensation loss, back-propagating gradients through the network. In the end, by minimizing the object condensation loss, the 3 output values for each pixel will be such that we can observe clustering in the latent space.\n"
      ],
      "metadata": {
        "id": "s_BzWp9rVNpU"
      }
    },
    {
      "cell_type": "markdown",
      "source": [
        "# Imports"
      ],
      "metadata": {
        "id": "UpvLffXHVMHd"
      }
    },
    {
      "cell_type": "code",
      "source": [
        "# Import source code from the GitHub to generate images\n",
        "!wget https://raw.githubusercontent.com/Gregtom3/vossen_ecal_ai/main/src/shape_gen.py\n",
        "from shape_gen import generate_dataset\n",
        "\n",
        "# Import source code from the GitHub for the object condensation loss function\n",
        "!wget https://raw.githubusercontent.com/Gregtom3/vossen_ecal_ai/main/src/nb03_loss_functions.py\n",
        "from nb03_loss_functions import CustomLoss, AttractiveLossMetric, RepulsiveLossMetric, CowardLossMetric, NoiseLossMetric, condensation_loss"
      ],
      "metadata": {
        "colab": {
          "base_uri": "https://localhost:8080/"
        },
        "id": "1Cn_tBapVMq9",
        "outputId": "3860423e-0f13-4cfa-aa46-f8ff479df9c9"
      },
      "execution_count": null,
      "outputs": [
        {
          "output_type": "stream",
          "name": "stdout",
          "text": [
            "--2025-03-11 20:58:40--  https://raw.githubusercontent.com/Gregtom3/vossen_ecal_ai/main/src/shape_gen.py\n",
            "Resolving raw.githubusercontent.com (raw.githubusercontent.com)... 185.199.110.133, 185.199.109.133, 185.199.108.133, ...\n",
            "Connecting to raw.githubusercontent.com (raw.githubusercontent.com)|185.199.110.133|:443... connected.\n",
            "HTTP request sent, awaiting response... 200 OK\n",
            "Length: 4600 (4.5K) [text/plain]\n",
            "Saving to: ‘shape_gen.py’\n",
            "\n",
            "shape_gen.py        100%[===================>]   4.49K  --.-KB/s    in 0s      \n",
            "\n",
            "2025-03-11 20:58:41 (30.5 MB/s) - ‘shape_gen.py’ saved [4600/4600]\n",
            "\n",
            "--2025-03-11 20:58:58--  https://raw.githubusercontent.com/Gregtom3/vossen_ecal_ai/main/src/nb03_loss_functions.py\n",
            "Resolving raw.githubusercontent.com (raw.githubusercontent.com)... 185.199.111.133, 185.199.108.133, 185.199.109.133, ...\n",
            "Connecting to raw.githubusercontent.com (raw.githubusercontent.com)|185.199.111.133|:443... connected.\n",
            "HTTP request sent, awaiting response... 200 OK\n",
            "Length: 7218 (7.0K) [text/plain]\n",
            "Saving to: ‘nb03_loss_functions.py’\n",
            "\n",
            "nb03_loss_functions 100%[===================>]   7.05K  --.-KB/s    in 0s      \n",
            "\n",
            "2025-03-11 20:58:58 (56.9 MB/s) - ‘nb03_loss_functions.py’ saved [7218/7218]\n",
            "\n"
          ]
        }
      ]
    },
    {
      "cell_type": "code",
      "source": [
        "import matplotlib.pyplot as plt\n",
        "import numpy as np\n",
        "from copy import deepcopy\n",
        "import ipywidgets as widgets\n",
        "from ipywidgets import interactive\n",
        "from IPython.display import display,  clear_output\n",
        "import tensorflow as tf\n",
        "from tensorflow.keras import layers\n",
        "from sklearn.model_selection import train_test_split"
      ],
      "metadata": {
        "id": "J2A3qkYicXOa"
      },
      "execution_count": null,
      "outputs": []
    },
    {
      "cell_type": "markdown",
      "source": [
        "# Data Generation\n",
        "\n",
        "Below we provide some of the parameters for creating an array of images. By default, we produce 1,000 images in a 32-by-32 grid containing $5-8$ shapes. A few other parameters like `same_color`, `same_shape` and `shape_overlap_max` can be tweaked."
      ],
      "metadata": {
        "id": "gwLe4aU_cPus"
      }
    },
    {
      "cell_type": "code",
      "source": [
        "num_images           = 1000\n",
        "image_width          = 32\n",
        "image_height         = image_width\n",
        "min_shapes           = 5\n",
        "max_shapes           = 8\n",
        "shape_size_range     = (5,12)\n",
        "\n",
        "dataset = generate_dataset(num_images=num_images,\n",
        "                           image_size=(image_width,image_height),\n",
        "                           min_shapes=min_shapes,\n",
        "                           max_shapes=max_shapes,\n",
        "                           shape_size_range=shape_size_range,\n",
        "                           same_color=False, # True\n",
        "                           same_shape=None, # ['circle','triangle','square']\n",
        "                           shape_overlap_max=0.5)\n",
        "\n",
        "dataset = np.array(dataset)\n",
        "\n",
        "print(dataset.shape) # (1000, 32, 32, 7)\n",
        "\n",
        "# --> 0,1,2 = RGB\n",
        "# --> 3 = x\n",
        "# --> 4 = y\n",
        "# --> 5 = unique_shape_id (background == 0)\n",
        "# --> 6 = shape type\n",
        "#     --> 0 = noise/empty\n",
        "#     --> 1 = circle\n",
        "#     --> 2 = square\n",
        "#     --> 3 = triangle\n",
        "\n",
        "# Set RGB of white pixels (1,1,1) to black (0,0,0)\n",
        "dataset[...,0:3][dataset[...,0:3] == 1] = 0"
      ],
      "metadata": {
        "colab": {
          "base_uri": "https://localhost:8080/"
        },
        "id": "oDzplOu6cQ8i",
        "outputId": "18240846-eea9-49ea-967e-95379a424684"
      },
      "execution_count": null,
      "outputs": [
        {
          "output_type": "stream",
          "name": "stdout",
          "text": [
            "(1000, 32, 32, 7)\n"
          ]
        }
      ]
    },
    {
      "cell_type": "markdown",
      "source": [
        "From `dataset.shape`, we see we are dealing with a tensor of dimension [1000,32,32,7]. As indicated by the comment, the first 3 features for each pixel are its RGB. Then, the (x,y) of the pixel is stored as the 4th and 5th feature. **The most crucial feature** to understand is the 6th, the \"unique_shape_id\".\n",
        "\n",
        "Consider the first image, first shape. All pixels that correspond to that shape will have a `unique_shape_id` of 1. Then, for the second generated shape, they will have a `unique_shape_id` of 2, and so on. An important distinction is that no two shapes, even across different \"events\" will have the same `unique_shape_id`. All background pixels have a `unique_shape_id` of 0.\n",
        "\n",
        "Lastly, the final feature indicates what type of shape the pixel belongs to.\n",
        "\n",
        "\n",
        "Lets plot some sample event.\n",
        "\n"
      ],
      "metadata": {
        "id": "IkhqKk4NcdGq"
      }
    },
    {
      "cell_type": "code",
      "source": [
        "def plot_toy(dataset, evtnum, PLOT_TYPE):\n",
        "    # Check inputs\n",
        "    assert PLOT_TYPE in ['RGB', 'X', 'Y', 'uid', 'type'], \"PLOT_TYPE must be one of ['RGB', 'X', 'Y', 'uid', 'type']\"\n",
        "    assert evtnum < len(dataset), \"evtnum must be less than the number of events in the dataset\"\n",
        "\n",
        "    # Copy and process the event data\n",
        "    data_reshape = deepcopy(dataset[evtnum])\n",
        "    if PLOT_TYPE == 'RGB':\n",
        "        image_data = data_reshape[:, :, 0:3]\n",
        "    elif PLOT_TYPE == 'X':\n",
        "        image_data = data_reshape[:, :, 3]\n",
        "    elif PLOT_TYPE == 'Y':\n",
        "        image_data = data_reshape[:, :, 4]\n",
        "    elif PLOT_TYPE == 'uid':\n",
        "        image_data = data_reshape[:, :, 5]\n",
        "    elif PLOT_TYPE == 'type':\n",
        "        image_data = data_reshape[:, :, 6]\n",
        "\n",
        "    # Create the plot\n",
        "    fig, ax = plt.subplots(1, 1, figsize=(4, 4))\n",
        "    im = ax.imshow(image_data)  # Capture the image object\n",
        "    # Add a colorbar if the plot type is not RGB\n",
        "    if PLOT_TYPE != 'RGB':\n",
        "        fig.colorbar(im, ax=ax)\n",
        "    # Set the title based on the widget inputs\n",
        "    ax.set_title(f'Event: {evtnum} | Plot Type: {PLOT_TYPE}')\n",
        "    plt.tight_layout()\n",
        "    plt.show()\n",
        "\n",
        "# Update function for the widget\n",
        "def update_plot(event_num, plot_type):\n",
        "    plot_toy(dataset, event_num, plot_type)\n",
        "\n",
        "# Create the interactive widgets\n",
        "event_slider = widgets.IntSlider(\n",
        "    value=0,\n",
        "    min=0,\n",
        "    max=len(dataset)-1,\n",
        "    step=1,\n",
        "    description='Event Number:'\n",
        ")\n",
        "plot_type_dropdown = widgets.Dropdown(\n",
        "    options=['RGB', 'X', 'Y', 'uid', 'type'],\n",
        "    value='RGB',\n",
        "    description='Plot Type:'\n",
        ")\n",
        "\n",
        "# Link the widgets to the update function\n",
        "interactive_plot = interactive(update_plot, event_num=event_slider, plot_type=plot_type_dropdown)\n",
        "display(interactive_plot)"
      ],
      "metadata": {
        "colab": {
          "base_uri": "https://localhost:8080/",
          "height": 471,
          "referenced_widgets": [
            "9df1c4e9f0b4439e9e59014a71f4e39a",
            "5fe28b46bcfc4427a7c2d8d7b1128566",
            "fab7fb14fba64c1fa362f9d6c0537272",
            "882e863f8ebc42cb90c88fde5b5a2166",
            "6040a99bf8a4402d8bb219eee8639213",
            "3982bd01e37d422c80c1ede7369bd26c",
            "b9117552be354103a06d30fe5fdf2b22",
            "c968fda1bd484d18aad3c0786ff5e864",
            "443dcde68c8649a894e168b0680edf02",
            "bfdcf1ec6e4249218e4b379f5c0decba"
          ]
        },
        "id": "91DL5_aycTQj",
        "outputId": "82f36343-7812-4caf-814d-79f9e5aae07b"
      },
      "execution_count": null,
      "outputs": [
        {
          "output_type": "display_data",
          "data": {
            "text/plain": [
              "interactive(children=(IntSlider(value=0, description='Event Number:', max=999), Dropdown(description='Plot Typ…"
            ],
            "application/vnd.jupyter.widget-view+json": {
              "version_major": 2,
              "version_minor": 0,
              "model_id": "9df1c4e9f0b4439e9e59014a71f4e39a"
            }
          },
          "metadata": {}
        }
      ]
    },
    {
      "cell_type": "markdown",
      "source": [
        "**Note** the background pixels are **black** so that their RGB features are (0,0,0) as opposed to (1,1,1). This gives the model an easier time fitting and determining what is and isn't background."
      ],
      "metadata": {
        "id": "aXIXfZAu78GF"
      }
    },
    {
      "cell_type": "markdown",
      "source": [
        "# Creating the CNN\n",
        "\n",
        "We define two different types of CNN's, both built with the same structure in mind. The first, called SmallCNN, has quite a bit fewer parameters than LargeCNN, which will be more accurate but take longer to fit.\n",
        "\n",
        "\n",
        "- The model is built with three main convolutional blocks (Block 1, Block 2, and Block 3).\n",
        "  - Each block processes the input image (or a concatenation of the image with previous block outputs) with several convolutional layers, activations, batch normalization, and max pooling.\n",
        "  - After each block, the output is upsampled back to the original image size and concatenated with the original input, providing skip connections that preserve spatial details.\n",
        "\n",
        "- Following the blocks, the network applies two 1x1 convolution layers (acting as fully connected layers) to combine the learned features.\n",
        "\n",
        "- The model then splits into two branches:\n",
        "  - One branch produces a 'beta' output using additional convolutional layers with a sigmoid activation.\n",
        "  - The other branch predicts coordinate information with a simple convolution layer.\n",
        "\n",
        "- Finally, the outputs from these branches are concatenated and reshaped to yield per-pixel predictions.\n"
      ],
      "metadata": {
        "id": "K2z0ZFkDc5wa"
      }
    },
    {
      "cell_type": "markdown",
      "source": [
        "### LargeCNN"
      ],
      "metadata": {
        "id": "n-5AVAXi4We6"
      }
    },
    {
      "cell_type": "code",
      "source": [
        "class LargeCNN(tf.keras.Model):\n",
        "    def __init__(self):\n",
        "        super(CNN, self).__init__()\n",
        "\n",
        "        # Block 1: processes the input (shape: HxWx3)\n",
        "        self.block1 = tf.keras.Sequential([\n",
        "            layers.Conv2D(16, kernel_size=3, padding='same', activation=None),\n",
        "            layers.ELU(),\n",
        "            layers.Conv2D(32, kernel_size=3, padding='same', activation=None),\n",
        "            layers.ELU(),\n",
        "            layers.Conv2D(64, kernel_size=3, padding='same', activation=None),\n",
        "            layers.ELU(),\n",
        "            layers.BatchNormalization(momentum=0.6, epsilon=1e-5),\n",
        "            layers.MaxPooling2D(pool_size=2, strides=2, padding='valid')\n",
        "        ])\n",
        "\n",
        "        # Block 2: takes a concatenation of the input and upsampled block1 output (channels: 3 + 64)\n",
        "        self.block2 = tf.keras.Sequential([\n",
        "            layers.Conv2D(16, kernel_size=3, padding='same', activation=None),\n",
        "            layers.ELU(),\n",
        "            layers.Conv2D(32, kernel_size=3, padding='same', activation=None),\n",
        "            layers.ELU(),\n",
        "            layers.Conv2D(64, kernel_size=3, padding='same', activation=None),\n",
        "            layers.ELU(),\n",
        "            layers.BatchNormalization(momentum=0.6, epsilon=1e-5),\n",
        "            layers.MaxPooling2D(pool_size=2, strides=2, padding='valid')\n",
        "        ])\n",
        "\n",
        "        # Block 3: takes a concatenation of the input and upsampled block2 output (channels: 3 + 64)\n",
        "        self.block3 = tf.keras.Sequential([\n",
        "            layers.Conv2D(16, kernel_size=3, padding='same', activation=None),\n",
        "            layers.ELU(),\n",
        "            layers.Conv2D(32, kernel_size=3, padding='same', activation=None),\n",
        "            layers.ELU(),\n",
        "            layers.Conv2D(64, kernel_size=3, padding='same', activation=None),\n",
        "            layers.ELU(),\n",
        "            layers.BatchNormalization(momentum=0.6, epsilon=1e-5),\n",
        "            layers.MaxPooling2D(pool_size=2, strides=2, padding='valid')\n",
        "        ])\n",
        "\n",
        "        # Fully connected layers using 1x1 convolutions\n",
        "        self.fc1 = tf.keras.Sequential([\n",
        "            layers.Conv2D(64, kernel_size=1, padding='same', activation=None),\n",
        "            layers.ELU()\n",
        "        ])\n",
        "        self.fc2 = tf.keras.Sequential([\n",
        "            layers.Conv2D(64, kernel_size=1, padding='same', activation=None)\n",
        "        ])\n",
        "\n",
        "        # p_beta branch: produces 1 channel with sigmoid activation\n",
        "        self.p_beta = tf.keras.Sequential([\n",
        "            layers.Conv2D(16, kernel_size=3, padding='same', activation=None),\n",
        "            layers.ELU(),\n",
        "            layers.Conv2D(16, kernel_size=3, padding='same', activation=None),\n",
        "            layers.ELU(),\n",
        "            layers.Conv2D(1, kernel_size=3, padding='same', activation='sigmoid')\n",
        "        ])\n",
        "\n",
        "        # p_ccoords branch: produces 2 channels (for example, representing coordinates)\n",
        "        self.p_ccoords = layers.Conv2D(2, kernel_size=1, padding='same')\n",
        "\n",
        "\n",
        "    def call(self, x):\n",
        "        # x is assumed to have shape (batch, height, width, 3)\n",
        "\n",
        "        # Block 1\n",
        "        block1_out = self.block1(x)\n",
        "        block1_out_up = tf.image.resize(block1_out, size=tf.shape(x)[1:3], method='bilinear')\n",
        "        concat1 = tf.concat([x, block1_out_up], axis=-1)  # along channels\n",
        "\n",
        "        # Block 2\n",
        "        block2_out = self.block2(concat1)\n",
        "        block2_out_up = tf.image.resize(block2_out, size=tf.shape(x)[1:3], method='bilinear')\n",
        "        concat2 = tf.concat([x, block2_out_up], axis=-1)\n",
        "\n",
        "        # Block 3\n",
        "        block3_out = self.block3(concat2)\n",
        "        block3_out_up = tf.image.resize(block3_out, size=tf.shape(x)[1:3], method='bilinear')\n",
        "        concat3 = tf.concat([x, block3_out_up], axis=-1)\n",
        "\n",
        "        # Fully connected layers (implemented as 1x1 convolutions)\n",
        "        out = self.fc1(concat3)\n",
        "        out = self.fc2(out)\n",
        "\n",
        "        # Compute branches\n",
        "        beta = self.p_beta(out) * 0.999 + 1e-9\n",
        "        ccoords = self.p_ccoords(out)\n",
        "\n",
        "        # Concatenate predictions along the channel dimension\n",
        "        predictions = tf.concat([beta, ccoords], axis=-1)  # resulting shape: (batch, H, W, 3)\n",
        "        predictions = tf.reshape(predictions, [-1, image_width*image_height, 3])         # reshape to (batch, H * W, 3)\n",
        "\n",
        "        return predictions"
      ],
      "metadata": {
        "id": "RyTzDIJNc6_r"
      },
      "execution_count": null,
      "outputs": []
    },
    {
      "cell_type": "markdown",
      "source": [
        "### SmallCNN"
      ],
      "metadata": {
        "id": "VOq1nhme4Y5Y"
      }
    },
    {
      "cell_type": "code",
      "source": [
        "class SmallCNN(tf.keras.Model):\n",
        "    def __init__(self):\n",
        "        super(CNN, self).__init__()\n",
        "\n",
        "        # Block 1: processes the input (shape: HxWx3)\n",
        "        self.block1 = tf.keras.Sequential([\n",
        "            layers.Conv2D(8, kernel_size=3, padding='same', activation=None),\n",
        "            layers.ELU(),\n",
        "            layers.Conv2D(16, kernel_size=3, padding='same', activation=None),\n",
        "            layers.ELU(),\n",
        "            layers.Conv2D(32, kernel_size=3, padding='same', activation=None),\n",
        "            layers.ELU(),\n",
        "            layers.BatchNormalization(momentum=0.6, epsilon=1e-5),\n",
        "            layers.MaxPooling2D(pool_size=2, strides=2, padding='valid')\n",
        "        ])\n",
        "\n",
        "        # Block 2: takes a concatenation of the input and upsampled block1 output (channels: 3 + 64)\n",
        "        self.block2 = tf.keras.Sequential([\n",
        "            layers.Conv2D(8, kernel_size=3, padding='same', activation=None),\n",
        "            layers.ELU(),\n",
        "            layers.Conv2D(16, kernel_size=3, padding='same', activation=None),\n",
        "            layers.ELU(),\n",
        "            layers.Conv2D(32, kernel_size=3, padding='same', activation=None),\n",
        "            layers.ELU(),\n",
        "            layers.BatchNormalization(momentum=0.6, epsilon=1e-5),\n",
        "            layers.MaxPooling2D(pool_size=2, strides=2, padding='valid')\n",
        "        ])\n",
        "\n",
        "\n",
        "        # Fully connected layers using 1x1 convolutions\n",
        "        self.fc1 = tf.keras.Sequential([\n",
        "            layers.Conv2D(32, kernel_size=1, padding='same', activation=None),\n",
        "            layers.ELU()\n",
        "        ])\n",
        "        self.fc2 = tf.keras.Sequential([\n",
        "            layers.Conv2D(16, kernel_size=1, padding='same', activation=None)\n",
        "        ])\n",
        "\n",
        "        # p_beta branch: produces 1 channel with sigmoid activation\n",
        "        self.p_beta = tf.keras.Sequential([\n",
        "            layers.Conv2D(16, kernel_size=3, padding='same', activation=None),\n",
        "            layers.ELU(),\n",
        "            layers.Conv2D(16, kernel_size=3, padding='same', activation=None),\n",
        "            layers.ELU(),\n",
        "            layers.Conv2D(1, kernel_size=3, padding='same', activation='sigmoid')\n",
        "        ])\n",
        "\n",
        "        # p_ccoords branch: produces 2 channels (for example, representing coordinates)\n",
        "        self.p_ccoords = layers.Conv2D(2, kernel_size=1, padding='same')\n",
        "\n",
        "\n",
        "    def call(self, x):\n",
        "        # x is assumed to have shape (batch, height, width, 3)\n",
        "\n",
        "        # Block 1\n",
        "        block1_out = self.block1(x)\n",
        "        block1_out_up = tf.image.resize(block1_out, size=tf.shape(x)[1:3], method='bilinear')\n",
        "        concat1 = tf.concat([x, block1_out_up], axis=-1)  # along channels\n",
        "\n",
        "        # Block 2\n",
        "        block2_out = self.block2(concat1)\n",
        "        block2_out_up = tf.image.resize(block2_out, size=tf.shape(x)[1:3], method='bilinear')\n",
        "        concat2 = tf.concat([x, block2_out_up], axis=-1)\n",
        "\n",
        "        # Fully connected layers (implemented as 1x1 convolutions)\n",
        "        out = self.fc1(concat2)\n",
        "        out = self.fc2(out)\n",
        "\n",
        "        # Compute branches\n",
        "        beta = self.p_beta(out) * 0.999 + 1e-9\n",
        "        ccoords = self.p_ccoords(out)\n",
        "\n",
        "        # Concatenate predictions along the channel dimension\n",
        "        predictions = tf.concat([beta, ccoords], axis=-1)  # resulting shape: (batch, H, W, 3)\n",
        "        predictions = tf.reshape(predictions, [-1, image_width*image_height, 3])         # reshape to (batch, H * W, 3)\n",
        "\n",
        "        return predictions"
      ],
      "metadata": {
        "id": "dg_jAcpR4Yqw"
      },
      "execution_count": null,
      "outputs": []
    },
    {
      "cell_type": "markdown",
      "source": [
        "# Initializing the Model"
      ],
      "metadata": {
        "id": "-9g2fygFdrWT"
      }
    },
    {
      "cell_type": "code",
      "source": [
        "#!!! Define which CNN to use !!!\n",
        "CNN = SmallCNN # or LargeCNN\n",
        "\n",
        "# Define hyperparameters\n",
        "# - q_min: Hyperparameter defined in object condensation\n",
        "#      q_i = \"Charge\" of point i = arctan2(beta_i) + q_min\n",
        "\n",
        "epochs = 10\n",
        "batch_size = 32\n",
        "learning_rate = 0.001\n",
        "q_min = 0.1\n",
        "\n",
        "# Load in the data\n",
        "X = dataset[...,0:3] # RGB of each pixel\n",
        "y = dataset[...,5] # unique_shape_id of each pixel\n",
        "\n",
        "# Reshape 'y' to be [N,H*W,1]\n",
        "y = y.reshape(y.shape[0], y.shape[1]*y.shape[2], 1)\n",
        "\n",
        "# Perform train-test splitting\n",
        "X_train, X_test, y_train, y_test = train_test_split(X, y, test_size=0.2, random_state=42)\n",
        "\n",
        "# Load in the CNN model\n",
        "model = CNN()\n",
        "\n",
        "# Compile the model\n",
        "model.compile(\n",
        "    optimizer=tf.keras.optimizers.Adam(learning_rate=learning_rate),\n",
        "    loss=CustomLoss(q_min=q_min), # from GitHub\n",
        "    metrics=[\n",
        "        AttractiveLossMetric(name=\"attractive_loss\"),\n",
        "        RepulsiveLossMetric(name=\"repulsive_loss\"),\n",
        "        CowardLossMetric(name=\"coward_loss\"),\n",
        "        NoiseLossMetric(name=\"noise_loss\")\n",
        "    ]\n",
        ")\n",
        "\n",
        "\n",
        "# Pass one event through the model initially\n",
        "# This is done to print out the model summary with the proper shapes\n",
        "model(X_train[0:1])\n",
        "model.summary()"
      ],
      "metadata": {
        "colab": {
          "base_uri": "https://localhost:8080/",
          "height": 328
        },
        "id": "ZR1Q4gcXdtvD",
        "outputId": "f197eb16-1049-44e6-f8b0-7d486f4ef4e8"
      },
      "execution_count": null,
      "outputs": [
        {
          "output_type": "display_data",
          "data": {
            "text/plain": [
              "\u001b[1mModel: \"small_cnn\"\u001b[0m\n"
            ],
            "text/html": [
              "<pre style=\"white-space:pre;overflow-x:auto;line-height:normal;font-family:Menlo,'DejaVu Sans Mono',consolas,'Courier New',monospace\"><span style=\"font-weight: bold\">Model: \"small_cnn\"</span>\n",
              "</pre>\n"
            ]
          },
          "metadata": {}
        },
        {
          "output_type": "display_data",
          "data": {
            "text/plain": [
              "┏━━━━━━━━━━━━━━━━━━━━━━━━━━━━━━━━━━━━━━┳━━━━━━━━━━━━━━━━━━━━━━━━━━━━━┳━━━━━━━━━━━━━━━━━┓\n",
              "┃\u001b[1m \u001b[0m\u001b[1mLayer (type)                        \u001b[0m\u001b[1m \u001b[0m┃\u001b[1m \u001b[0m\u001b[1mOutput Shape               \u001b[0m\u001b[1m \u001b[0m┃\u001b[1m \u001b[0m\u001b[1m        Param #\u001b[0m\u001b[1m \u001b[0m┃\n",
              "┡━━━━━━━━━━━━━━━━━━━━━━━━━━━━━━━━━━━━━━╇━━━━━━━━━━━━━━━━━━━━━━━━━━━━━╇━━━━━━━━━━━━━━━━━┩\n",
              "│ sequential (\u001b[38;5;33mSequential\u001b[0m)              │ (\u001b[38;5;34m1\u001b[0m, \u001b[38;5;34m16\u001b[0m, \u001b[38;5;34m16\u001b[0m, \u001b[38;5;34m32\u001b[0m)             │           \u001b[38;5;34m6,160\u001b[0m │\n",
              "├──────────────────────────────────────┼─────────────────────────────┼─────────────────┤\n",
              "│ sequential_1 (\u001b[38;5;33mSequential\u001b[0m)            │ (\u001b[38;5;34m1\u001b[0m, \u001b[38;5;34m16\u001b[0m, \u001b[38;5;34m16\u001b[0m, \u001b[38;5;34m32\u001b[0m)             │           \u001b[38;5;34m8,464\u001b[0m │\n",
              "├──────────────────────────────────────┼─────────────────────────────┼─────────────────┤\n",
              "│ sequential_2 (\u001b[38;5;33mSequential\u001b[0m)            │ (\u001b[38;5;34m1\u001b[0m, \u001b[38;5;34m32\u001b[0m, \u001b[38;5;34m32\u001b[0m, \u001b[38;5;34m32\u001b[0m)             │           \u001b[38;5;34m1,152\u001b[0m │\n",
              "├──────────────────────────────────────┼─────────────────────────────┼─────────────────┤\n",
              "│ sequential_3 (\u001b[38;5;33mSequential\u001b[0m)            │ (\u001b[38;5;34m1\u001b[0m, \u001b[38;5;34m32\u001b[0m, \u001b[38;5;34m32\u001b[0m, \u001b[38;5;34m16\u001b[0m)             │             \u001b[38;5;34m528\u001b[0m │\n",
              "├──────────────────────────────────────┼─────────────────────────────┼─────────────────┤\n",
              "│ sequential_4 (\u001b[38;5;33mSequential\u001b[0m)            │ (\u001b[38;5;34m1\u001b[0m, \u001b[38;5;34m32\u001b[0m, \u001b[38;5;34m32\u001b[0m, \u001b[38;5;34m1\u001b[0m)              │           \u001b[38;5;34m4,785\u001b[0m │\n",
              "├──────────────────────────────────────┼─────────────────────────────┼─────────────────┤\n",
              "│ conv2d_11 (\u001b[38;5;33mConv2D\u001b[0m)                   │ (\u001b[38;5;34m1\u001b[0m, \u001b[38;5;34m32\u001b[0m, \u001b[38;5;34m32\u001b[0m, \u001b[38;5;34m2\u001b[0m)              │              \u001b[38;5;34m34\u001b[0m │\n",
              "└──────────────────────────────────────┴─────────────────────────────┴─────────────────┘\n"
            ],
            "text/html": [
              "<pre style=\"white-space:pre;overflow-x:auto;line-height:normal;font-family:Menlo,'DejaVu Sans Mono',consolas,'Courier New',monospace\">┏━━━━━━━━━━━━━━━━━━━━━━━━━━━━━━━━━━━━━━┳━━━━━━━━━━━━━━━━━━━━━━━━━━━━━┳━━━━━━━━━━━━━━━━━┓\n",
              "┃<span style=\"font-weight: bold\"> Layer (type)                         </span>┃<span style=\"font-weight: bold\"> Output Shape                </span>┃<span style=\"font-weight: bold\">         Param # </span>┃\n",
              "┡━━━━━━━━━━━━━━━━━━━━━━━━━━━━━━━━━━━━━━╇━━━━━━━━━━━━━━━━━━━━━━━━━━━━━╇━━━━━━━━━━━━━━━━━┩\n",
              "│ sequential (<span style=\"color: #0087ff; text-decoration-color: #0087ff\">Sequential</span>)              │ (<span style=\"color: #00af00; text-decoration-color: #00af00\">1</span>, <span style=\"color: #00af00; text-decoration-color: #00af00\">16</span>, <span style=\"color: #00af00; text-decoration-color: #00af00\">16</span>, <span style=\"color: #00af00; text-decoration-color: #00af00\">32</span>)             │           <span style=\"color: #00af00; text-decoration-color: #00af00\">6,160</span> │\n",
              "├──────────────────────────────────────┼─────────────────────────────┼─────────────────┤\n",
              "│ sequential_1 (<span style=\"color: #0087ff; text-decoration-color: #0087ff\">Sequential</span>)            │ (<span style=\"color: #00af00; text-decoration-color: #00af00\">1</span>, <span style=\"color: #00af00; text-decoration-color: #00af00\">16</span>, <span style=\"color: #00af00; text-decoration-color: #00af00\">16</span>, <span style=\"color: #00af00; text-decoration-color: #00af00\">32</span>)             │           <span style=\"color: #00af00; text-decoration-color: #00af00\">8,464</span> │\n",
              "├──────────────────────────────────────┼─────────────────────────────┼─────────────────┤\n",
              "│ sequential_2 (<span style=\"color: #0087ff; text-decoration-color: #0087ff\">Sequential</span>)            │ (<span style=\"color: #00af00; text-decoration-color: #00af00\">1</span>, <span style=\"color: #00af00; text-decoration-color: #00af00\">32</span>, <span style=\"color: #00af00; text-decoration-color: #00af00\">32</span>, <span style=\"color: #00af00; text-decoration-color: #00af00\">32</span>)             │           <span style=\"color: #00af00; text-decoration-color: #00af00\">1,152</span> │\n",
              "├──────────────────────────────────────┼─────────────────────────────┼─────────────────┤\n",
              "│ sequential_3 (<span style=\"color: #0087ff; text-decoration-color: #0087ff\">Sequential</span>)            │ (<span style=\"color: #00af00; text-decoration-color: #00af00\">1</span>, <span style=\"color: #00af00; text-decoration-color: #00af00\">32</span>, <span style=\"color: #00af00; text-decoration-color: #00af00\">32</span>, <span style=\"color: #00af00; text-decoration-color: #00af00\">16</span>)             │             <span style=\"color: #00af00; text-decoration-color: #00af00\">528</span> │\n",
              "├──────────────────────────────────────┼─────────────────────────────┼─────────────────┤\n",
              "│ sequential_4 (<span style=\"color: #0087ff; text-decoration-color: #0087ff\">Sequential</span>)            │ (<span style=\"color: #00af00; text-decoration-color: #00af00\">1</span>, <span style=\"color: #00af00; text-decoration-color: #00af00\">32</span>, <span style=\"color: #00af00; text-decoration-color: #00af00\">32</span>, <span style=\"color: #00af00; text-decoration-color: #00af00\">1</span>)              │           <span style=\"color: #00af00; text-decoration-color: #00af00\">4,785</span> │\n",
              "├──────────────────────────────────────┼─────────────────────────────┼─────────────────┤\n",
              "│ conv2d_11 (<span style=\"color: #0087ff; text-decoration-color: #0087ff\">Conv2D</span>)                   │ (<span style=\"color: #00af00; text-decoration-color: #00af00\">1</span>, <span style=\"color: #00af00; text-decoration-color: #00af00\">32</span>, <span style=\"color: #00af00; text-decoration-color: #00af00\">32</span>, <span style=\"color: #00af00; text-decoration-color: #00af00\">2</span>)              │              <span style=\"color: #00af00; text-decoration-color: #00af00\">34</span> │\n",
              "└──────────────────────────────────────┴─────────────────────────────┴─────────────────┘\n",
              "</pre>\n"
            ]
          },
          "metadata": {}
        },
        {
          "output_type": "display_data",
          "data": {
            "text/plain": [
              "\u001b[1m Total params: \u001b[0m\u001b[38;5;34m21,123\u001b[0m (82.51 KB)\n"
            ],
            "text/html": [
              "<pre style=\"white-space:pre;overflow-x:auto;line-height:normal;font-family:Menlo,'DejaVu Sans Mono',consolas,'Courier New',monospace\"><span style=\"font-weight: bold\"> Total params: </span><span style=\"color: #00af00; text-decoration-color: #00af00\">21,123</span> (82.51 KB)\n",
              "</pre>\n"
            ]
          },
          "metadata": {}
        },
        {
          "output_type": "display_data",
          "data": {
            "text/plain": [
              "\u001b[1m Trainable params: \u001b[0m\u001b[38;5;34m20,995\u001b[0m (82.01 KB)\n"
            ],
            "text/html": [
              "<pre style=\"white-space:pre;overflow-x:auto;line-height:normal;font-family:Menlo,'DejaVu Sans Mono',consolas,'Courier New',monospace\"><span style=\"font-weight: bold\"> Trainable params: </span><span style=\"color: #00af00; text-decoration-color: #00af00\">20,995</span> (82.01 KB)\n",
              "</pre>\n"
            ]
          },
          "metadata": {}
        },
        {
          "output_type": "display_data",
          "data": {
            "text/plain": [
              "\u001b[1m Non-trainable params: \u001b[0m\u001b[38;5;34m128\u001b[0m (512.00 B)\n"
            ],
            "text/html": [
              "<pre style=\"white-space:pre;overflow-x:auto;line-height:normal;font-family:Menlo,'DejaVu Sans Mono',consolas,'Courier New',monospace\"><span style=\"font-weight: bold\"> Non-trainable params: </span><span style=\"color: #00af00; text-decoration-color: #00af00\">128</span> (512.00 B)\n",
              "</pre>\n"
            ]
          },
          "metadata": {}
        }
      ]
    },
    {
      "cell_type": "markdown",
      "source": [
        "# Fitting"
      ],
      "metadata": {
        "id": "pBjG96JIfqUm"
      }
    },
    {
      "cell_type": "code",
      "source": [
        "model.fit(\n",
        "    X_train,\n",
        "    y_train,\n",
        "    batch_size=batch_size,\n",
        "    #validation_data=(X_test, y_test),\n",
        "    epochs=epochs,\n",
        "    verbose=1\n",
        ")"
      ],
      "metadata": {
        "colab": {
          "base_uri": "https://localhost:8080/",
          "height": 512
        },
        "id": "_e2dSyZse8su",
        "outputId": "e0223fd1-7ed4-4b8d-bd8f-9ee3974d1d3e"
      },
      "execution_count": null,
      "outputs": [
        {
          "output_type": "stream",
          "name": "stdout",
          "text": [
            "Epoch 1/10\n",
            "\u001b[1m25/25\u001b[0m \u001b[32m━━━━━━━━━━━━━━━━━━━━\u001b[0m\u001b[37m\u001b[0m \u001b[1m25s\u001b[0m 991ms/step - attractive_loss: 0.0302 - coward_loss: 0.1594 - loss: 0.2555 - noise_loss: 0.0077 - repulsive_loss: 0.0583\n",
            "Epoch 2/10\n",
            "\u001b[1m25/25\u001b[0m \u001b[32m━━━━━━━━━━━━━━━━━━━━\u001b[0m\u001b[37m\u001b[0m \u001b[1m40s\u001b[0m 964ms/step - attractive_loss: 0.0250 - coward_loss: 0.1463 - loss: 0.2315 - noise_loss: 0.0073 - repulsive_loss: 0.0529\n",
            "Epoch 3/10\n",
            "\u001b[1m25/25\u001b[0m \u001b[32m━━━━━━━━━━━━━━━━━━━━\u001b[0m\u001b[37m\u001b[0m \u001b[1m25s\u001b[0m 1s/step - attractive_loss: 0.0213 - coward_loss: 0.1341 - loss: 0.2115 - noise_loss: 0.0065 - repulsive_loss: 0.0497\n",
            "Epoch 4/10\n",
            "\u001b[1m25/25\u001b[0m \u001b[32m━━━━━━━━━━━━━━━━━━━━\u001b[0m\u001b[37m\u001b[0m \u001b[1m26s\u001b[0m 1s/step - attractive_loss: 0.0188 - coward_loss: 0.1172 - loss: 0.1926 - noise_loss: 0.0067 - repulsive_loss: 0.0500\n",
            "Epoch 5/10\n"
          ]
        },
        {
          "output_type": "error",
          "ename": "KeyboardInterrupt",
          "evalue": "",
          "traceback": [
            "\u001b[0;31m---------------------------------------------------------------------------\u001b[0m",
            "\u001b[0;31mKeyboardInterrupt\u001b[0m                         Traceback (most recent call last)",
            "\u001b[0;32m<ipython-input-18-d2cca2b929d7>\u001b[0m in \u001b[0;36m<cell line: 0>\u001b[0;34m()\u001b[0m\n\u001b[0;32m----> 1\u001b[0;31m model.fit(\n\u001b[0m\u001b[1;32m      2\u001b[0m     \u001b[0mX_train\u001b[0m\u001b[0;34m,\u001b[0m\u001b[0;34m\u001b[0m\u001b[0;34m\u001b[0m\u001b[0m\n\u001b[1;32m      3\u001b[0m     \u001b[0my_train\u001b[0m\u001b[0;34m,\u001b[0m\u001b[0;34m\u001b[0m\u001b[0;34m\u001b[0m\u001b[0m\n\u001b[1;32m      4\u001b[0m     \u001b[0mbatch_size\u001b[0m\u001b[0;34m=\u001b[0m\u001b[0mbatch_size\u001b[0m\u001b[0;34m,\u001b[0m\u001b[0;34m\u001b[0m\u001b[0;34m\u001b[0m\u001b[0m\n\u001b[1;32m      5\u001b[0m     \u001b[0;31m#validation_data=(X_test, y_test),\u001b[0m\u001b[0;34m\u001b[0m\u001b[0;34m\u001b[0m\u001b[0m\n",
            "\u001b[0;32m/usr/local/lib/python3.11/dist-packages/keras/src/utils/traceback_utils.py\u001b[0m in \u001b[0;36merror_handler\u001b[0;34m(*args, **kwargs)\u001b[0m\n\u001b[1;32m    115\u001b[0m         \u001b[0mfiltered_tb\u001b[0m \u001b[0;34m=\u001b[0m \u001b[0;32mNone\u001b[0m\u001b[0;34m\u001b[0m\u001b[0;34m\u001b[0m\u001b[0m\n\u001b[1;32m    116\u001b[0m         \u001b[0;32mtry\u001b[0m\u001b[0;34m:\u001b[0m\u001b[0;34m\u001b[0m\u001b[0;34m\u001b[0m\u001b[0m\n\u001b[0;32m--> 117\u001b[0;31m             \u001b[0;32mreturn\u001b[0m \u001b[0mfn\u001b[0m\u001b[0;34m(\u001b[0m\u001b[0;34m*\u001b[0m\u001b[0margs\u001b[0m\u001b[0;34m,\u001b[0m \u001b[0;34m**\u001b[0m\u001b[0mkwargs\u001b[0m\u001b[0;34m)\u001b[0m\u001b[0;34m\u001b[0m\u001b[0;34m\u001b[0m\u001b[0m\n\u001b[0m\u001b[1;32m    118\u001b[0m         \u001b[0;32mexcept\u001b[0m \u001b[0mException\u001b[0m \u001b[0;32mas\u001b[0m \u001b[0me\u001b[0m\u001b[0;34m:\u001b[0m\u001b[0;34m\u001b[0m\u001b[0;34m\u001b[0m\u001b[0m\n\u001b[1;32m    119\u001b[0m             \u001b[0mfiltered_tb\u001b[0m \u001b[0;34m=\u001b[0m \u001b[0m_process_traceback_frames\u001b[0m\u001b[0;34m(\u001b[0m\u001b[0me\u001b[0m\u001b[0;34m.\u001b[0m\u001b[0m__traceback__\u001b[0m\u001b[0;34m)\u001b[0m\u001b[0;34m\u001b[0m\u001b[0;34m\u001b[0m\u001b[0m\n",
            "\u001b[0;32m/usr/local/lib/python3.11/dist-packages/keras/src/backend/tensorflow/trainer.py\u001b[0m in \u001b[0;36mfit\u001b[0;34m(self, x, y, batch_size, epochs, verbose, callbacks, validation_split, validation_data, shuffle, class_weight, sample_weight, initial_epoch, steps_per_epoch, validation_steps, validation_batch_size, validation_freq)\u001b[0m\n\u001b[1;32m    368\u001b[0m             \u001b[0;32mwith\u001b[0m \u001b[0mepoch_iterator\u001b[0m\u001b[0;34m.\u001b[0m\u001b[0mcatch_stop_iteration\u001b[0m\u001b[0;34m(\u001b[0m\u001b[0;34m)\u001b[0m\u001b[0;34m:\u001b[0m\u001b[0;34m\u001b[0m\u001b[0;34m\u001b[0m\u001b[0m\n\u001b[1;32m    369\u001b[0m                 \u001b[0;32mfor\u001b[0m \u001b[0mstep\u001b[0m\u001b[0;34m,\u001b[0m \u001b[0miterator\u001b[0m \u001b[0;32min\u001b[0m \u001b[0mepoch_iterator\u001b[0m\u001b[0;34m:\u001b[0m\u001b[0;34m\u001b[0m\u001b[0;34m\u001b[0m\u001b[0m\n\u001b[0;32m--> 370\u001b[0;31m                     \u001b[0mcallbacks\u001b[0m\u001b[0;34m.\u001b[0m\u001b[0mon_train_batch_begin\u001b[0m\u001b[0;34m(\u001b[0m\u001b[0mstep\u001b[0m\u001b[0;34m)\u001b[0m\u001b[0;34m\u001b[0m\u001b[0;34m\u001b[0m\u001b[0m\n\u001b[0m\u001b[1;32m    371\u001b[0m                     \u001b[0mlogs\u001b[0m \u001b[0;34m=\u001b[0m \u001b[0mself\u001b[0m\u001b[0;34m.\u001b[0m\u001b[0mtrain_function\u001b[0m\u001b[0;34m(\u001b[0m\u001b[0miterator\u001b[0m\u001b[0;34m)\u001b[0m\u001b[0;34m\u001b[0m\u001b[0;34m\u001b[0m\u001b[0m\n\u001b[1;32m    372\u001b[0m                     \u001b[0mcallbacks\u001b[0m\u001b[0;34m.\u001b[0m\u001b[0mon_train_batch_end\u001b[0m\u001b[0;34m(\u001b[0m\u001b[0mstep\u001b[0m\u001b[0;34m,\u001b[0m \u001b[0mlogs\u001b[0m\u001b[0;34m)\u001b[0m\u001b[0;34m\u001b[0m\u001b[0;34m\u001b[0m\u001b[0m\n",
            "\u001b[0;32m/usr/local/lib/python3.11/dist-packages/keras/src/callbacks/callback_list.py\u001b[0m in \u001b[0;36mon_train_batch_begin\u001b[0;34m(self, batch, logs)\u001b[0m\n\u001b[1;32m    145\u001b[0m             \u001b[0mcallback\u001b[0m\u001b[0;34m.\u001b[0m\u001b[0mon_epoch_end\u001b[0m\u001b[0;34m(\u001b[0m\u001b[0mepoch\u001b[0m\u001b[0;34m,\u001b[0m \u001b[0mlogs\u001b[0m\u001b[0;34m)\u001b[0m\u001b[0;34m\u001b[0m\u001b[0;34m\u001b[0m\u001b[0m\n\u001b[1;32m    146\u001b[0m \u001b[0;34m\u001b[0m\u001b[0m\n\u001b[0;32m--> 147\u001b[0;31m     \u001b[0;32mdef\u001b[0m \u001b[0mon_train_batch_begin\u001b[0m\u001b[0;34m(\u001b[0m\u001b[0mself\u001b[0m\u001b[0;34m,\u001b[0m \u001b[0mbatch\u001b[0m\u001b[0;34m,\u001b[0m \u001b[0mlogs\u001b[0m\u001b[0;34m=\u001b[0m\u001b[0;32mNone\u001b[0m\u001b[0;34m)\u001b[0m\u001b[0;34m:\u001b[0m\u001b[0;34m\u001b[0m\u001b[0;34m\u001b[0m\u001b[0m\n\u001b[0m\u001b[1;32m    148\u001b[0m         \u001b[0mlogs\u001b[0m \u001b[0;34m=\u001b[0m \u001b[0mpython_utils\u001b[0m\u001b[0;34m.\u001b[0m\u001b[0mpythonify_logs\u001b[0m\u001b[0;34m(\u001b[0m\u001b[0mlogs\u001b[0m\u001b[0;34m)\u001b[0m\u001b[0;34m\u001b[0m\u001b[0;34m\u001b[0m\u001b[0m\n\u001b[1;32m    149\u001b[0m         \u001b[0;32mfor\u001b[0m \u001b[0mcallback\u001b[0m \u001b[0;32min\u001b[0m \u001b[0mself\u001b[0m\u001b[0;34m.\u001b[0m\u001b[0mcallbacks\u001b[0m\u001b[0;34m:\u001b[0m\u001b[0;34m\u001b[0m\u001b[0;34m\u001b[0m\u001b[0m\n",
            "\u001b[0;31mKeyboardInterrupt\u001b[0m: "
          ]
        }
      ]
    },
    {
      "cell_type": "markdown",
      "source": [
        "# Evaluation"
      ],
      "metadata": {
        "id": "8fZtN1dC51yR"
      }
    },
    {
      "cell_type": "code",
      "source": [
        "y_pred = model.predict(X)"
      ],
      "metadata": {
        "colab": {
          "base_uri": "https://localhost:8080/"
        },
        "id": "4MsvLvy-53KB",
        "outputId": "0b0bb205-12dc-4cc2-878d-f0b925a2c8f6"
      },
      "execution_count": null,
      "outputs": [
        {
          "output_type": "stream",
          "name": "stdout",
          "text": [
            "\u001b[1m32/32\u001b[0m \u001b[32m━━━━━━━━━━━━━━━━━━━━\u001b[0m\u001b[37m\u001b[0m \u001b[1m3s\u001b[0m 79ms/step\n"
          ]
        }
      ]
    },
    {
      "cell_type": "code",
      "source": [
        "def update_plots(event_num, plot_type):\n",
        "    # Create a figure with 2 subplots side by side\n",
        "    fig, axs = plt.subplots(1, 2, figsize=(12, 6))\n",
        "\n",
        "    # ----- Left Plot: Toy Image -----\n",
        "    # Copy and process the event data\n",
        "    data_reshape = deepcopy(dataset[event_num])\n",
        "    if plot_type == 'RGB':\n",
        "        image_data = data_reshape[:, :, 0:3]\n",
        "    elif plot_type == 'X':\n",
        "        image_data = data_reshape[:, :, 3]\n",
        "    elif plot_type == 'Y':\n",
        "        image_data = data_reshape[:, :, 4]\n",
        "    elif plot_type == 'uid':\n",
        "        image_data = data_reshape[:, :, 5]\n",
        "    elif plot_type == 'type':\n",
        "        image_data = data_reshape[:, :, 6]\n",
        "\n",
        "    # Make black pixels white\n",
        "    image_data[(image_data == [0, 0, 0]).all(axis=2)] = [1, 1, 1]\n",
        "\n",
        "    im = axs[0].imshow(image_data)\n",
        "    if plot_type != 'RGB':\n",
        "        fig.colorbar(im, ax=axs[0])\n",
        "    axs[0].set_title(f'Event: {event_num} | Plot Type: {plot_type}')\n",
        "\n",
        "    # ----- Right Plot: Scatter Plot -----\n",
        "    # Get important arrays for this event\n",
        "    colors = X[event_num][..., 0:3].reshape(-1, 3)\n",
        "    # Replace background ([0, 0, 0]) with white ([1, 1, 1])\n",
        "    colors[(colors == [0, 0, 0]).all(axis=1)] = [1, 1, 1]\n",
        "\n",
        "    beta = y_pred[event_num][..., 0]\n",
        "    xc = y_pred[event_num][..., 1]\n",
        "    yc = y_pred[event_num][..., 2]\n",
        "    id_arr = y[event_num][..., 0]\n",
        "\n",
        "    unique_id = np.unique(id_arr)\n",
        "\n",
        "    for uid in unique_id:\n",
        "        # Find indices for the current unique id\n",
        "        indices = (id_arr == uid)\n",
        "        # Define marker alpha for these points, ensuring a minimum value\n",
        "        marker_alpha = [max(b, 0.0005) for b in beta[indices]]\n",
        "        marker_size = 40\n",
        "\n",
        "        # Assume all points for the same id share the same color: use the first one\n",
        "        current_color = colors[indices][0]\n",
        "        marker_edge = \"black\" if np.all(current_color == [1, 1, 1]) else \"none\"\n",
        "\n",
        "        axs[1].scatter(xc[indices], yc[indices],\n",
        "                       c=colors[indices],\n",
        "                       alpha=marker_alpha,\n",
        "                       s=marker_size,\n",
        "                       edgecolor=marker_edge)\n",
        "\n",
        "    axs[1].set_title(f'Event: {event_num} Scatter Plot')\n",
        "    axs[1].set_xlabel(\"X\")\n",
        "    axs[1].set_ylabel(\"Y\")\n",
        "    axs[1].axis('equal')\n",
        "\n",
        "    plt.tight_layout()\n",
        "    plt.show()\n",
        "\n",
        "# Create interactive widgets\n",
        "event_slider = widgets.IntSlider(\n",
        "    value=0,\n",
        "    min=0,\n",
        "    max=len(dataset) - 1,\n",
        "    step=1,\n",
        "    description='Event Number:'\n",
        ")\n",
        "plot_type_dropdown = widgets.Dropdown(\n",
        "    options=['RGB', 'X', 'Y', 'uid', 'type'],\n",
        "    value='RGB',\n",
        "    description='Plot Type:'\n",
        ")\n",
        "\n",
        "# Link widgets to the update function\n",
        "interactive_plot = interactive(update_plots, event_num=event_slider, plot_type=plot_type_dropdown)\n",
        "display(interactive_plot)\n"
      ],
      "metadata": {
        "colab": {
          "base_uri": "https://localhost:8080/",
          "height": 671,
          "referenced_widgets": [
            "690eb4213b5d416386047ec65dd05b4c",
            "2355f09ce5f9434bbf846d39cd8af2c7",
            "c0d976cb72fd4a2ea616475ca04d9f21",
            "55fb8f1c839545c4a3e803b1678c174f",
            "e26e64574fb243909501090db91a2b77",
            "0a67a90d450d414c9c2da34a23ac67ef",
            "c3b2f6adb0184387b1a078d80afef5d4",
            "2d85422e9a444d1bb647cfa82e6f4647",
            "f8891f11620345b895b9082833eabcb8",
            "76f72def5e1842d58848b1be62daff82"
          ]
        },
        "id": "U-V3h1yF8tT7",
        "outputId": "3ef8c2c4-8038-4244-936c-c5b9d1de74f1"
      },
      "execution_count": null,
      "outputs": [
        {
          "output_type": "display_data",
          "data": {
            "text/plain": [
              "interactive(children=(IntSlider(value=0, description='Event Number:', max=999), Dropdown(description='Plot Typ…"
            ],
            "application/vnd.jupyter.widget-view+json": {
              "version_major": 2,
              "version_minor": 0,
              "model_id": "690eb4213b5d416386047ec65dd05b4c"
            }
          },
          "metadata": {}
        }
      ]
    },
    {
      "cell_type": "code",
      "source": [],
      "metadata": {
        "id": "Dv7xBBd4BE1e"
      },
      "execution_count": null,
      "outputs": []
    }
  ]
}